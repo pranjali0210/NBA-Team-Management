{
  "cells": [
    {
      "cell_type": "code",
      "execution_count": 77,
      "metadata": {
        "id": "eCeN-Qr1JmsL"
      },
      "outputs": [],
      "source": [
        "import numpy as np\n",
        "import pandas as pd\n",
        "import plotly.express as px"
      ]
    },
    {
      "cell_type": "markdown",
      "metadata": {
        "id": "nCCARoOaJrop"
      },
      "source": [
        "\n",
        "## Teams Data"
      ]
    },
    {
      "cell_type": "code",
      "execution_count": 2,
      "metadata": {
        "colab": {
          "base_uri": "https://localhost:8080/",
          "height": 310
        },
        "id": "RxJy6zYBxY-D",
        "outputId": "b90cab13-68fa-4b4c-e8fd-1975f9e95148"
      },
      "outputs": [
        {
          "output_type": "execute_result",
          "data": {
            "text/html": [
              "<div>\n",
              "<style scoped>\n",
              "    .dataframe tbody tr th:only-of-type {\n",
              "        vertical-align: middle;\n",
              "    }\n",
              "\n",
              "    .dataframe tbody tr th {\n",
              "        vertical-align: top;\n",
              "    }\n",
              "\n",
              "    .dataframe thead th {\n",
              "        text-align: right;\n",
              "    }\n",
              "</style>\n",
              "<table border=\"1\" class=\"dataframe\">\n",
              "  <thead>\n",
              "    <tr style=\"text-align: right;\">\n",
              "      <th></th>\n",
              "      <th>LEAGUE_ID</th>\n",
              "      <th>TEAM_ID</th>\n",
              "      <th>MIN_YEAR</th>\n",
              "      <th>MAX_YEAR</th>\n",
              "      <th>ABBREVIATION</th>\n",
              "      <th>NICKNAME</th>\n",
              "      <th>YEARFOUNDED</th>\n",
              "      <th>CITY</th>\n",
              "      <th>ARENA</th>\n",
              "      <th>ARENACAPACITY</th>\n",
              "      <th>OWNER</th>\n",
              "      <th>GENERALMANAGER</th>\n",
              "      <th>HEADCOACH</th>\n",
              "      <th>DLEAGUEAFFILIATION</th>\n",
              "    </tr>\n",
              "  </thead>\n",
              "  <tbody>\n",
              "    <tr>\n",
              "      <th>0</th>\n",
              "      <td>0</td>\n",
              "      <td>1610612737</td>\n",
              "      <td>1949</td>\n",
              "      <td>2019</td>\n",
              "      <td>ATL</td>\n",
              "      <td>Hawks</td>\n",
              "      <td>1949</td>\n",
              "      <td>Atlanta</td>\n",
              "      <td>State Farm Arena</td>\n",
              "      <td>18729.0</td>\n",
              "      <td>Tony Ressler</td>\n",
              "      <td>Travis Schlenk</td>\n",
              "      <td>Lloyd Pierce</td>\n",
              "      <td>Erie Bayhawks</td>\n",
              "    </tr>\n",
              "    <tr>\n",
              "      <th>1</th>\n",
              "      <td>0</td>\n",
              "      <td>1610612738</td>\n",
              "      <td>1946</td>\n",
              "      <td>2019</td>\n",
              "      <td>BOS</td>\n",
              "      <td>Celtics</td>\n",
              "      <td>1946</td>\n",
              "      <td>Boston</td>\n",
              "      <td>TD Garden</td>\n",
              "      <td>18624.0</td>\n",
              "      <td>Wyc Grousbeck</td>\n",
              "      <td>Danny Ainge</td>\n",
              "      <td>Brad Stevens</td>\n",
              "      <td>Maine Red Claws</td>\n",
              "    </tr>\n",
              "    <tr>\n",
              "      <th>2</th>\n",
              "      <td>0</td>\n",
              "      <td>1610612740</td>\n",
              "      <td>2002</td>\n",
              "      <td>2019</td>\n",
              "      <td>NOP</td>\n",
              "      <td>Pelicans</td>\n",
              "      <td>2002</td>\n",
              "      <td>New Orleans</td>\n",
              "      <td>Smoothie King Center</td>\n",
              "      <td>NaN</td>\n",
              "      <td>Tom Benson</td>\n",
              "      <td>Trajan Langdon</td>\n",
              "      <td>Alvin Gentry</td>\n",
              "      <td>No Affiliate</td>\n",
              "    </tr>\n",
              "    <tr>\n",
              "      <th>3</th>\n",
              "      <td>0</td>\n",
              "      <td>1610612741</td>\n",
              "      <td>1966</td>\n",
              "      <td>2019</td>\n",
              "      <td>CHI</td>\n",
              "      <td>Bulls</td>\n",
              "      <td>1966</td>\n",
              "      <td>Chicago</td>\n",
              "      <td>United Center</td>\n",
              "      <td>21711.0</td>\n",
              "      <td>Jerry Reinsdorf</td>\n",
              "      <td>Gar Forman</td>\n",
              "      <td>Jim Boylen</td>\n",
              "      <td>Windy City Bulls</td>\n",
              "    </tr>\n",
              "    <tr>\n",
              "      <th>4</th>\n",
              "      <td>0</td>\n",
              "      <td>1610612742</td>\n",
              "      <td>1980</td>\n",
              "      <td>2019</td>\n",
              "      <td>DAL</td>\n",
              "      <td>Mavericks</td>\n",
              "      <td>1980</td>\n",
              "      <td>Dallas</td>\n",
              "      <td>American Airlines Center</td>\n",
              "      <td>19200.0</td>\n",
              "      <td>Mark Cuban</td>\n",
              "      <td>Donnie Nelson</td>\n",
              "      <td>Rick Carlisle</td>\n",
              "      <td>Texas Legends</td>\n",
              "    </tr>\n",
              "  </tbody>\n",
              "</table>\n",
              "</div>"
            ],
            "text/plain": [
              "   LEAGUE_ID     TEAM_ID  ...      HEADCOACH  DLEAGUEAFFILIATION\n",
              "0          0  1610612737  ...   Lloyd Pierce       Erie Bayhawks\n",
              "1          0  1610612738  ...   Brad Stevens     Maine Red Claws\n",
              "2          0  1610612740  ...   Alvin Gentry        No Affiliate\n",
              "3          0  1610612741  ...     Jim Boylen    Windy City Bulls\n",
              "4          0  1610612742  ...  Rick Carlisle       Texas Legends\n",
              "\n",
              "[5 rows x 14 columns]"
            ]
          },
          "metadata": {},
          "execution_count": 2
        }
      ],
      "source": [
        "teams = pd.read_csv(r'/content/teams.csv')\n",
        "teams.head()"
      ]
    },
    {
      "cell_type": "markdown",
      "source": [
        "### Support Staff Data"
      ],
      "metadata": {
        "id": "0T6ysVAB8Jwk"
      }
    },
    {
      "cell_type": "code",
      "execution_count": 3,
      "metadata": {
        "id": "6dBbyuQMfCbx"
      },
      "outputs": [],
      "source": [
        "support_staff = teams[['OWNER','HEADCOACH','GENERALMANAGER']]\n",
        "support_staff = support_staff.values.tolist()\n",
        "\n",
        "support_staff_df = []\n",
        "for i in support_staff:\n",
        "    for j in i:\n",
        "      support_staff_df.append(j)\n",
        "support_staff = pd.DataFrame(support_staff_df,columns=['Name'])"
      ]
    },
    {
      "cell_type": "code",
      "execution_count": 4,
      "metadata": {
        "colab": {
          "base_uri": "https://localhost:8080/",
          "height": 206
        },
        "id": "vnL6iWzKlaI1",
        "outputId": "2ef08a23-f24b-4cc6-9be8-0248c436e8b7"
      },
      "outputs": [
        {
          "output_type": "execute_result",
          "data": {
            "text/html": [
              "<div>\n",
              "<style scoped>\n",
              "    .dataframe tbody tr th:only-of-type {\n",
              "        vertical-align: middle;\n",
              "    }\n",
              "\n",
              "    .dataframe tbody tr th {\n",
              "        vertical-align: top;\n",
              "    }\n",
              "\n",
              "    .dataframe thead th {\n",
              "        text-align: right;\n",
              "    }\n",
              "</style>\n",
              "<table border=\"1\" class=\"dataframe\">\n",
              "  <thead>\n",
              "    <tr style=\"text-align: right;\">\n",
              "      <th></th>\n",
              "      <th>Name</th>\n",
              "      <th>support_id</th>\n",
              "    </tr>\n",
              "  </thead>\n",
              "  <tbody>\n",
              "    <tr>\n",
              "      <th>0</th>\n",
              "      <td>Tony Ressler</td>\n",
              "      <td>0</td>\n",
              "    </tr>\n",
              "    <tr>\n",
              "      <th>1</th>\n",
              "      <td>Lloyd Pierce</td>\n",
              "      <td>1</td>\n",
              "    </tr>\n",
              "    <tr>\n",
              "      <th>2</th>\n",
              "      <td>Travis Schlenk</td>\n",
              "      <td>2</td>\n",
              "    </tr>\n",
              "    <tr>\n",
              "      <th>3</th>\n",
              "      <td>Wyc Grousbeck</td>\n",
              "      <td>3</td>\n",
              "    </tr>\n",
              "    <tr>\n",
              "      <th>4</th>\n",
              "      <td>Brad Stevens</td>\n",
              "      <td>4</td>\n",
              "    </tr>\n",
              "  </tbody>\n",
              "</table>\n",
              "</div>"
            ],
            "text/plain": [
              "             Name  support_id\n",
              "0    Tony Ressler           0\n",
              "1    Lloyd Pierce           1\n",
              "2  Travis Schlenk           2\n",
              "3   Wyc Grousbeck           3\n",
              "4    Brad Stevens           4"
            ]
          },
          "metadata": {},
          "execution_count": 4
        }
      ],
      "source": [
        "support_staff['support_id'] = [i for i in range(0,len(support_staff))]\n",
        "support_staff  = support_staff[:40]\n",
        "support_staff.head()"
      ]
    },
    {
      "cell_type": "code",
      "execution_count": 5,
      "metadata": {
        "id": "wkIocANymlq4"
      },
      "outputs": [],
      "source": [
        "Coach = support_staff[:10]\n",
        "Dietician = support_staff[10:20]\n",
        "Physiotherapist = support_staff[20:30]\n",
        "Manager = support_staff[30:40]"
      ]
    },
    {
      "cell_type": "code",
      "execution_count": 6,
      "metadata": {
        "id": "7DaM1BK3bL32"
      },
      "outputs": [],
      "source": [
        "import random\n",
        "import time\n",
        "    \n",
        "def str_time_prop(start, end, time_format, prop):\n",
        "    \"\"\"Get a time at a proportion of a range of two formatted times.\n",
        "\n",
        "    start and end should be strings specifying times formatted in the\n",
        "    given format (strftime-style), giving an interval [start, end].\n",
        "    prop specifies how a proportion of the interval to be taken after\n",
        "    start.  The returned time will be in the specified format.\n",
        "    \"\"\"\n",
        "\n",
        "    stime = time.mktime(time.strptime(start, time_format))\n",
        "    etime = time.mktime(time.strptime(end, time_format))\n",
        "\n",
        "    ptime = stime + prop * (etime - stime)\n",
        "\n",
        "    return time.strftime(time_format, time.localtime(ptime))\n",
        "\n",
        "\n",
        "def random_date(start, end, prop):\n",
        "    return str_time_prop(start, end, '%d/%m/%Y', prop)\n",
        "\n",
        "ls =[]\n",
        "for i in range(0,20):\n",
        "     ls.append(random_date(\"15/12/2021\", \"1/02/2022\", random.random()))"
      ]
    },
    {
      "cell_type": "code",
      "execution_count": 7,
      "metadata": {
        "colab": {
          "base_uri": "https://localhost:8080/",
          "height": 414
        },
        "id": "o5KmYKdGaeHK",
        "outputId": "dbd6256e-63eb-4dbe-af7a-3c2f4bfbe01f"
      },
      "outputs": [
        {
          "output_type": "stream",
          "name": "stderr",
          "text": [
            "/usr/local/lib/python3.7/dist-packages/ipykernel_launcher.py:2: SettingWithCopyWarning: \n",
            "A value is trying to be set on a copy of a slice from a DataFrame.\n",
            "Try using .loc[row_indexer,col_indexer] = value instead\n",
            "\n",
            "See the caveats in the documentation: https://pandas.pydata.org/pandas-docs/stable/user_guide/indexing.html#returning-a-view-versus-a-copy\n",
            "  \n",
            "/usr/local/lib/python3.7/dist-packages/ipykernel_launcher.py:3: SettingWithCopyWarning: \n",
            "A value is trying to be set on a copy of a slice from a DataFrame.\n",
            "Try using .loc[row_indexer,col_indexer] = value instead\n",
            "\n",
            "See the caveats in the documentation: https://pandas.pydata.org/pandas-docs/stable/user_guide/indexing.html#returning-a-view-versus-a-copy\n",
            "  This is separate from the ipykernel package so we can avoid doing imports until\n"
          ]
        },
        {
          "output_type": "execute_result",
          "data": {
            "text/html": [
              "<div>\n",
              "<style scoped>\n",
              "    .dataframe tbody tr th:only-of-type {\n",
              "        vertical-align: middle;\n",
              "    }\n",
              "\n",
              "    .dataframe tbody tr th {\n",
              "        vertical-align: top;\n",
              "    }\n",
              "\n",
              "    .dataframe thead th {\n",
              "        text-align: right;\n",
              "    }\n",
              "</style>\n",
              "<table border=\"1\" class=\"dataframe\">\n",
              "  <thead>\n",
              "    <tr style=\"text-align: right;\">\n",
              "      <th></th>\n",
              "      <th>Name</th>\n",
              "      <th>support_id</th>\n",
              "      <th>available_date</th>\n",
              "    </tr>\n",
              "  </thead>\n",
              "  <tbody>\n",
              "    <tr>\n",
              "      <th>10</th>\n",
              "      <td>Jim Boylen</td>\n",
              "      <td>10</td>\n",
              "      <td>18/12/2021</td>\n",
              "    </tr>\n",
              "    <tr>\n",
              "      <th>11</th>\n",
              "      <td>Gar Forman</td>\n",
              "      <td>11</td>\n",
              "      <td>04/01/2022</td>\n",
              "    </tr>\n",
              "    <tr>\n",
              "      <th>12</th>\n",
              "      <td>Mark Cuban</td>\n",
              "      <td>12</td>\n",
              "      <td>08/01/2022</td>\n",
              "    </tr>\n",
              "    <tr>\n",
              "      <th>13</th>\n",
              "      <td>Rick Carlisle</td>\n",
              "      <td>13</td>\n",
              "      <td>09/01/2022</td>\n",
              "    </tr>\n",
              "    <tr>\n",
              "      <th>14</th>\n",
              "      <td>Donnie Nelson</td>\n",
              "      <td>14</td>\n",
              "      <td>31/01/2022</td>\n",
              "    </tr>\n",
              "  </tbody>\n",
              "</table>\n",
              "</div>"
            ],
            "text/plain": [
              "             Name  support_id available_date\n",
              "10     Jim Boylen          10     18/12/2021\n",
              "11     Gar Forman          11     04/01/2022\n",
              "12     Mark Cuban          12     08/01/2022\n",
              "13  Rick Carlisle          13     09/01/2022\n",
              "14  Donnie Nelson          14     31/01/2022"
            ]
          },
          "metadata": {},
          "execution_count": 7
        }
      ],
      "source": [
        "## Adding extra columns\n",
        "Dietician['available_date'] = ls[:10]\n",
        "Physiotherapist['available_date'] = ls[10:]\n",
        "Dietician.head()"
      ]
    },
    {
      "cell_type": "code",
      "execution_count": 8,
      "metadata": {
        "colab": {
          "base_uri": "https://localhost:8080/"
        },
        "id": "V3QWButqhByw",
        "outputId": "df8937a4-3ab5-4f9f-9314-d1ba90f50b8a"
      },
      "outputs": [
        {
          "output_type": "stream",
          "name": "stderr",
          "text": [
            "/usr/local/lib/python3.7/dist-packages/ipykernel_launcher.py:1: SettingWithCopyWarning: \n",
            "A value is trying to be set on a copy of a slice from a DataFrame.\n",
            "Try using .loc[row_indexer,col_indexer] = value instead\n",
            "\n",
            "See the caveats in the documentation: https://pandas.pydata.org/pandas-docs/stable/user_guide/indexing.html#returning-a-view-versus-a-copy\n",
            "  \"\"\"Entry point for launching an IPython kernel.\n",
            "/usr/local/lib/python3.7/dist-packages/ipykernel_launcher.py:2: SettingWithCopyWarning: \n",
            "A value is trying to be set on a copy of a slice from a DataFrame.\n",
            "Try using .loc[row_indexer,col_indexer] = value instead\n",
            "\n",
            "See the caveats in the documentation: https://pandas.pydata.org/pandas-docs/stable/user_guide/indexing.html#returning-a-view-versus-a-copy\n",
            "  \n"
          ]
        }
      ],
      "source": [
        "Dietician['available_date'] = pd.to_datetime(Dietician['available_date'])\n",
        "Physiotherapist['available_date'] = pd.to_datetime(Physiotherapist['available_date'])"
      ]
    },
    {
      "cell_type": "code",
      "execution_count": 9,
      "metadata": {
        "colab": {
          "base_uri": "https://localhost:8080/"
        },
        "id": "7HFIH8VwnnaQ",
        "outputId": "a77dd5ff-05b1-47db-f338-e74efda0fb3c"
      },
      "outputs": [
        {
          "output_type": "stream",
          "name": "stderr",
          "text": [
            "/usr/local/lib/python3.7/dist-packages/ipykernel_launcher.py:1: SettingWithCopyWarning: \n",
            "A value is trying to be set on a copy of a slice from a DataFrame.\n",
            "Try using .loc[row_indexer,col_indexer] = value instead\n",
            "\n",
            "See the caveats in the documentation: https://pandas.pydata.org/pandas-docs/stable/user_guide/indexing.html#returning-a-view-versus-a-copy\n",
            "  \"\"\"Entry point for launching an IPython kernel.\n"
          ]
        }
      ],
      "source": [
        "Coach['start_year'] = np.random.choice(range(2005,2010),size = len(Coach))"
      ]
    },
    {
      "cell_type": "code",
      "execution_count": 10,
      "metadata": {
        "id": "trgyplakpAfv"
      },
      "outputs": [],
      "source": [
        "support_staff.to_csv(r'Support_Staff.csv',index=False)\n",
        "Coach.to_csv(r'Coach.csv',index=False)\n",
        "Manager.to_csv(r'Manager.csv',index=False)"
      ]
    },
    {
      "cell_type": "code",
      "execution_count": 11,
      "metadata": {
        "id": "6JhY4ZLCcMVh"
      },
      "outputs": [],
      "source": [
        "Dietician.to_csv(r'Dietician.csv',index=False)\n",
        "Physiotherapist.to_csv(r'Physio.csv',index=False)"
      ]
    },
    {
      "cell_type": "markdown",
      "source": [
        "### EDA on Teams data"
      ],
      "metadata": {
        "id": "1yiIA23c8SCY"
      }
    },
    {
      "cell_type": "code",
      "execution_count": 12,
      "metadata": {
        "id": "rS9YpAXi5Vx3"
      },
      "outputs": [],
      "source": [
        "match_city = teams['CITY'].unique()\n",
        "match_arena = teams['ARENA'].unique()\n",
        "teams.loc[teams['DLEAGUEAFFILIATION']=='No Affiliate','DLEAGUEAFFILIATION'] = 'Random Team Name'\n",
        "match_opp = teams['DLEAGUEAFFILIATION'].unique()"
      ]
    },
    {
      "cell_type": "code",
      "execution_count": 13,
      "metadata": {
        "colab": {
          "base_uri": "https://localhost:8080/"
        },
        "id": "ERSum43H1Lyr",
        "outputId": "a06e3b81-005b-4279-9340-d0c74fb41845"
      },
      "outputs": [
        {
          "output_type": "execute_result",
          "data": {
            "text/plain": [
              "2019    30\n",
              "Name: MAX_YEAR, dtype: int64"
            ]
          },
          "metadata": {},
          "execution_count": 13
        }
      ],
      "source": [
        "teams['MAX_YEAR'].value_counts()"
      ]
    },
    {
      "cell_type": "code",
      "execution_count": 14,
      "metadata": {
        "colab": {
          "base_uri": "https://localhost:8080/"
        },
        "id": "O192uz5Q0Tln",
        "outputId": "a2caf08d-1652-4f5d-bc1c-3b77d88c8663"
      },
      "outputs": [
        {
          "output_type": "execute_result",
          "data": {
            "text/plain": [
              "(30, 14)"
            ]
          },
          "metadata": {},
          "execution_count": 14
        }
      ],
      "source": [
        "teams.shape"
      ]
    },
    {
      "cell_type": "code",
      "execution_count": 15,
      "metadata": {
        "id": "ILJ3xBhV0yOe"
      },
      "outputs": [],
      "source": [
        "match_df_columns = ['CITY','ARENA']\n",
        "coach_df_columns = ['GENERALMANAGER','HEADCOACH']"
      ]
    },
    {
      "cell_type": "markdown",
      "source": [
        "## Match Data"
      ],
      "metadata": {
        "id": "9YlnO7Op8dbp"
      }
    },
    {
      "cell_type": "code",
      "execution_count": 16,
      "metadata": {
        "colab": {
          "base_uri": "https://localhost:8080/",
          "height": 226
        },
        "id": "0pR6cwsv13nc",
        "outputId": "ede0527f-f640-4d31-b8ed-fb5fb9b6de48"
      },
      "outputs": [
        {
          "output_type": "execute_result",
          "data": {
            "text/html": [
              "<div>\n",
              "<style scoped>\n",
              "    .dataframe tbody tr th:only-of-type {\n",
              "        vertical-align: middle;\n",
              "    }\n",
              "\n",
              "    .dataframe tbody tr th {\n",
              "        vertical-align: top;\n",
              "    }\n",
              "\n",
              "    .dataframe thead th {\n",
              "        text-align: right;\n",
              "    }\n",
              "</style>\n",
              "<table border=\"1\" class=\"dataframe\">\n",
              "  <thead>\n",
              "    <tr style=\"text-align: right;\">\n",
              "      <th></th>\n",
              "      <th>GAME_DATE_EST</th>\n",
              "      <th>GAME_ID</th>\n",
              "      <th>GAME_STATUS_TEXT</th>\n",
              "      <th>HOME_TEAM_ID</th>\n",
              "      <th>VISITOR_TEAM_ID</th>\n",
              "      <th>SEASON</th>\n",
              "      <th>TEAM_ID_home</th>\n",
              "      <th>PTS_home</th>\n",
              "      <th>FG_PCT_home</th>\n",
              "      <th>FT_PCT_home</th>\n",
              "      <th>FG3_PCT_home</th>\n",
              "      <th>AST_home</th>\n",
              "      <th>REB_home</th>\n",
              "      <th>TEAM_ID_away</th>\n",
              "      <th>PTS_away</th>\n",
              "      <th>FG_PCT_away</th>\n",
              "      <th>FT_PCT_away</th>\n",
              "      <th>FG3_PCT_away</th>\n",
              "      <th>AST_away</th>\n",
              "      <th>REB_away</th>\n",
              "      <th>HOME_TEAM_WINS</th>\n",
              "    </tr>\n",
              "  </thead>\n",
              "  <tbody>\n",
              "    <tr>\n",
              "      <th>0</th>\n",
              "      <td>2021-05-26</td>\n",
              "      <td>42000102</td>\n",
              "      <td>Final</td>\n",
              "      <td>1610612755</td>\n",
              "      <td>1610612764</td>\n",
              "      <td>2020</td>\n",
              "      <td>1610612755</td>\n",
              "      <td>120.0</td>\n",
              "      <td>0.557</td>\n",
              "      <td>0.684</td>\n",
              "      <td>0.429</td>\n",
              "      <td>26.0</td>\n",
              "      <td>45.0</td>\n",
              "      <td>1610612764</td>\n",
              "      <td>95.0</td>\n",
              "      <td>0.402</td>\n",
              "      <td>0.633</td>\n",
              "      <td>0.091</td>\n",
              "      <td>22.0</td>\n",
              "      <td>40.0</td>\n",
              "      <td>1</td>\n",
              "    </tr>\n",
              "    <tr>\n",
              "      <th>1</th>\n",
              "      <td>2021-05-26</td>\n",
              "      <td>42000132</td>\n",
              "      <td>Final</td>\n",
              "      <td>1610612752</td>\n",
              "      <td>1610612737</td>\n",
              "      <td>2020</td>\n",
              "      <td>1610612752</td>\n",
              "      <td>101.0</td>\n",
              "      <td>0.383</td>\n",
              "      <td>0.739</td>\n",
              "      <td>0.364</td>\n",
              "      <td>15.0</td>\n",
              "      <td>54.0</td>\n",
              "      <td>1610612737</td>\n",
              "      <td>92.0</td>\n",
              "      <td>0.369</td>\n",
              "      <td>0.818</td>\n",
              "      <td>0.273</td>\n",
              "      <td>17.0</td>\n",
              "      <td>41.0</td>\n",
              "      <td>1</td>\n",
              "    </tr>\n",
              "    <tr>\n",
              "      <th>2</th>\n",
              "      <td>2021-05-26</td>\n",
              "      <td>42000142</td>\n",
              "      <td>Final</td>\n",
              "      <td>1610612762</td>\n",
              "      <td>1610612763</td>\n",
              "      <td>2020</td>\n",
              "      <td>1610612762</td>\n",
              "      <td>141.0</td>\n",
              "      <td>0.544</td>\n",
              "      <td>0.774</td>\n",
              "      <td>0.487</td>\n",
              "      <td>28.0</td>\n",
              "      <td>42.0</td>\n",
              "      <td>1610612763</td>\n",
              "      <td>129.0</td>\n",
              "      <td>0.541</td>\n",
              "      <td>0.763</td>\n",
              "      <td>0.348</td>\n",
              "      <td>20.0</td>\n",
              "      <td>33.0</td>\n",
              "      <td>1</td>\n",
              "    </tr>\n",
              "    <tr>\n",
              "      <th>3</th>\n",
              "      <td>2021-05-25</td>\n",
              "      <td>42000112</td>\n",
              "      <td>Final</td>\n",
              "      <td>1610612751</td>\n",
              "      <td>1610612738</td>\n",
              "      <td>2020</td>\n",
              "      <td>1610612751</td>\n",
              "      <td>130.0</td>\n",
              "      <td>0.523</td>\n",
              "      <td>0.955</td>\n",
              "      <td>0.447</td>\n",
              "      <td>31.0</td>\n",
              "      <td>46.0</td>\n",
              "      <td>1610612738</td>\n",
              "      <td>108.0</td>\n",
              "      <td>0.424</td>\n",
              "      <td>0.783</td>\n",
              "      <td>0.353</td>\n",
              "      <td>23.0</td>\n",
              "      <td>43.0</td>\n",
              "      <td>1</td>\n",
              "    </tr>\n",
              "    <tr>\n",
              "      <th>4</th>\n",
              "      <td>2021-05-25</td>\n",
              "      <td>42000152</td>\n",
              "      <td>Final</td>\n",
              "      <td>1610612756</td>\n",
              "      <td>1610612747</td>\n",
              "      <td>2020</td>\n",
              "      <td>1610612756</td>\n",
              "      <td>102.0</td>\n",
              "      <td>0.465</td>\n",
              "      <td>0.933</td>\n",
              "      <td>0.308</td>\n",
              "      <td>21.0</td>\n",
              "      <td>31.0</td>\n",
              "      <td>1610612747</td>\n",
              "      <td>109.0</td>\n",
              "      <td>0.450</td>\n",
              "      <td>0.871</td>\n",
              "      <td>0.303</td>\n",
              "      <td>24.0</td>\n",
              "      <td>39.0</td>\n",
              "      <td>0</td>\n",
              "    </tr>\n",
              "  </tbody>\n",
              "</table>\n",
              "</div>"
            ],
            "text/plain": [
              "  GAME_DATE_EST   GAME_ID GAME_STATUS_TEXT  ...  AST_away  REB_away  HOME_TEAM_WINS\n",
              "0    2021-05-26  42000102            Final  ...      22.0      40.0               1\n",
              "1    2021-05-26  42000132            Final  ...      17.0      41.0               1\n",
              "2    2021-05-26  42000142            Final  ...      20.0      33.0               1\n",
              "3    2021-05-25  42000112            Final  ...      23.0      43.0               1\n",
              "4    2021-05-25  42000152            Final  ...      24.0      39.0               0\n",
              "\n",
              "[5 rows x 21 columns]"
            ]
          },
          "metadata": {},
          "execution_count": 16
        }
      ],
      "source": [
        "match_df = pd.read_csv(r'/content/games.csv')\n",
        "match_df.head()"
      ]
    },
    {
      "cell_type": "code",
      "execution_count": 17,
      "metadata": {
        "colab": {
          "base_uri": "https://localhost:8080/"
        },
        "id": "sX8D_tCJ243n",
        "outputId": "a528d99c-dd81-4d6d-d66e-4bfcdb07549d"
      },
      "outputs": [
        {
          "output_type": "execute_result",
          "data": {
            "text/plain": [
              "('2021-05-26', '2003-10-05')"
            ]
          },
          "metadata": {},
          "execution_count": 17
        }
      ],
      "source": [
        "match_df['GAME_DATE_EST'].max(),match_df['GAME_DATE_EST'].min()"
      ]
    },
    {
      "cell_type": "code",
      "execution_count": 18,
      "metadata": {
        "colab": {
          "base_uri": "https://localhost:8080/"
        },
        "id": "3qKvHWH_4VCv",
        "outputId": "589e9efe-3e7f-4bfd-91b7-5354655823ea"
      },
      "outputs": [
        {
          "output_type": "execute_result",
          "data": {
            "text/plain": [
              "(30,)"
            ]
          },
          "metadata": {},
          "execution_count": 18
        }
      ],
      "source": [
        "match_df['HOME_TEAM_ID'].value_counts().shape"
      ]
    },
    {
      "cell_type": "code",
      "execution_count": 19,
      "metadata": {
        "id": "Rix_HgfePu1r"
      },
      "outputs": [],
      "source": [
        "match_df = match_df[~match_df['PTS_home'].isna()]\n",
        "match_df = match_df.drop_duplicates(subset=['GAME_ID'])"
      ]
    },
    {
      "cell_type": "code",
      "execution_count": 20,
      "metadata": {
        "id": "NSYPTrx15kAJ"
      },
      "outputs": [],
      "source": [
        "match_df['Match_city'] = np.random.choice(match_city, size=len(match_df))\n",
        "match_df['Match_arena'] = np.random.choice(match_arena, size=len(match_df))\n",
        "match_df['Opposition Team'] = np.random.choice(match_opp, size=len(match_df))"
      ]
    },
    {
      "cell_type": "code",
      "execution_count": 21,
      "metadata": {
        "id": "X-ZS25a5GdPU"
      },
      "outputs": [],
      "source": [
        "cols_to_remove = ['GAME_STATUS_TEXT','VISITOR_TEAM_ID','TEAM_ID_home','TEAM_ID_away']\n",
        "cols_to_keep = [i for i in match_df.columns.tolist() if i not in cols_to_remove]\n",
        "match_df = match_df[cols_to_keep]"
      ]
    },
    {
      "cell_type": "code",
      "execution_count": 22,
      "metadata": {
        "id": "wArKQmpo52vo"
      },
      "outputs": [],
      "source": [
        "cols = {'GAME_DATE_EST':'Match Date','GAME_ID':'Match ID'}"
      ]
    },
    {
      "cell_type": "code",
      "execution_count": 23,
      "metadata": {
        "colab": {
          "base_uri": "https://localhost:8080/"
        },
        "id": "EIRI228wNq-r",
        "outputId": "6fef8c95-6cee-4b87-be5a-76c8ec55dc62"
      },
      "outputs": [
        {
          "output_type": "execute_result",
          "data": {
            "text/plain": [
              "(24523, 20)"
            ]
          },
          "metadata": {},
          "execution_count": 23
        }
      ],
      "source": [
        "match_df.shape"
      ]
    },
    {
      "cell_type": "code",
      "execution_count": 24,
      "metadata": {
        "id": "EPB0SKlvUy6s"
      },
      "outputs": [],
      "source": [
        "cols = {'GAME_ID':'match_id','GAME_DATE_EST':'match_date','PTS_home':'home_points','PTS_away':'away_points','SEASON':'season','Opposition Team':'opponent_team',\n",
        "        'Match_city':'city','arena':'Match_arena','FG_PCT_home':'home_fg_per','FG_PCT_away':'away_fg_per','FT_PCT_home':'home_ft_per','FT_PCT_away':'away_ft_per',\n",
        "        'home_3_per':'FG3_PCT_home','away_3_per':'FG3_PCT_away','AST_home':'home_assists','AST_away':'away_assists','REB_home':'home_rebounds','REB_away':'away_rebounds','HOME_TEAM_WINS':'home_wins'}\n",
        "\n",
        "match_df.rename(columns=cols,inplace=True)"
      ]
    },
    {
      "cell_type": "code",
      "execution_count": 25,
      "metadata": {
        "id": "nuuKdmqiU6pZ"
      },
      "outputs": [],
      "source": [
        "match_df['match_date'] = pd.to_datetime(match_df['match_date'])"
      ]
    },
    {
      "cell_type": "code",
      "execution_count": 26,
      "metadata": {
        "colab": {
          "base_uri": "https://localhost:8080/",
          "height": 296
        },
        "id": "U_QXJjNX5f4M",
        "outputId": "5f45af68-c1f8-4d14-f024-e0c5bc902dbc"
      },
      "outputs": [
        {
          "output_type": "execute_result",
          "data": {
            "text/html": [
              "<div>\n",
              "<style scoped>\n",
              "    .dataframe tbody tr th:only-of-type {\n",
              "        vertical-align: middle;\n",
              "    }\n",
              "\n",
              "    .dataframe tbody tr th {\n",
              "        vertical-align: top;\n",
              "    }\n",
              "\n",
              "    .dataframe thead th {\n",
              "        text-align: right;\n",
              "    }\n",
              "</style>\n",
              "<table border=\"1\" class=\"dataframe\">\n",
              "  <thead>\n",
              "    <tr style=\"text-align: right;\">\n",
              "      <th></th>\n",
              "      <th>match_id</th>\n",
              "      <th>match_date</th>\n",
              "      <th>home_points</th>\n",
              "      <th>away_points</th>\n",
              "      <th>season</th>\n",
              "      <th>opponent_team</th>\n",
              "      <th>city</th>\n",
              "      <th>Match_arena</th>\n",
              "      <th>home_fg_per</th>\n",
              "      <th>away_fg_per</th>\n",
              "      <th>home_ft_per</th>\n",
              "      <th>away_ft_per</th>\n",
              "      <th>FG3_PCT_home</th>\n",
              "      <th>FG3_PCT_away</th>\n",
              "      <th>home_assists</th>\n",
              "      <th>away_assists</th>\n",
              "      <th>home_rebounds</th>\n",
              "      <th>away_rebounds</th>\n",
              "      <th>home_wins</th>\n",
              "    </tr>\n",
              "  </thead>\n",
              "  <tbody>\n",
              "    <tr>\n",
              "      <th>0</th>\n",
              "      <td>42000102</td>\n",
              "      <td>2021-05-26</td>\n",
              "      <td>120.0</td>\n",
              "      <td>95.0</td>\n",
              "      <td>2020</td>\n",
              "      <td>Sioux Falls Skyforce</td>\n",
              "      <td>Philadelphia</td>\n",
              "      <td>Capital One Arena</td>\n",
              "      <td>0.557</td>\n",
              "      <td>0.402</td>\n",
              "      <td>0.684</td>\n",
              "      <td>0.633</td>\n",
              "      <td>0.429</td>\n",
              "      <td>0.091</td>\n",
              "      <td>26.0</td>\n",
              "      <td>22.0</td>\n",
              "      <td>45.0</td>\n",
              "      <td>40.0</td>\n",
              "      <td>1</td>\n",
              "    </tr>\n",
              "    <tr>\n",
              "      <th>1</th>\n",
              "      <td>42000132</td>\n",
              "      <td>2021-05-26</td>\n",
              "      <td>101.0</td>\n",
              "      <td>92.0</td>\n",
              "      <td>2020</td>\n",
              "      <td>Northern Arizona Suns</td>\n",
              "      <td>Dallas</td>\n",
              "      <td>Amway Center</td>\n",
              "      <td>0.383</td>\n",
              "      <td>0.369</td>\n",
              "      <td>0.739</td>\n",
              "      <td>0.818</td>\n",
              "      <td>0.364</td>\n",
              "      <td>0.273</td>\n",
              "      <td>15.0</td>\n",
              "      <td>17.0</td>\n",
              "      <td>54.0</td>\n",
              "      <td>41.0</td>\n",
              "      <td>1</td>\n",
              "    </tr>\n",
              "    <tr>\n",
              "      <th>2</th>\n",
              "      <td>42000142</td>\n",
              "      <td>2021-05-26</td>\n",
              "      <td>141.0</td>\n",
              "      <td>129.0</td>\n",
              "      <td>2020</td>\n",
              "      <td>Erie Bayhawks</td>\n",
              "      <td>Dallas</td>\n",
              "      <td>Target Center</td>\n",
              "      <td>0.544</td>\n",
              "      <td>0.541</td>\n",
              "      <td>0.774</td>\n",
              "      <td>0.763</td>\n",
              "      <td>0.487</td>\n",
              "      <td>0.348</td>\n",
              "      <td>28.0</td>\n",
              "      <td>20.0</td>\n",
              "      <td>42.0</td>\n",
              "      <td>33.0</td>\n",
              "      <td>1</td>\n",
              "    </tr>\n",
              "    <tr>\n",
              "      <th>3</th>\n",
              "      <td>42000112</td>\n",
              "      <td>2021-05-25</td>\n",
              "      <td>130.0</td>\n",
              "      <td>108.0</td>\n",
              "      <td>2020</td>\n",
              "      <td>Maine Red Claws</td>\n",
              "      <td>Washington</td>\n",
              "      <td>Talking Stick Resort Arena</td>\n",
              "      <td>0.523</td>\n",
              "      <td>0.424</td>\n",
              "      <td>0.955</td>\n",
              "      <td>0.783</td>\n",
              "      <td>0.447</td>\n",
              "      <td>0.353</td>\n",
              "      <td>31.0</td>\n",
              "      <td>23.0</td>\n",
              "      <td>46.0</td>\n",
              "      <td>43.0</td>\n",
              "      <td>1</td>\n",
              "    </tr>\n",
              "    <tr>\n",
              "      <th>4</th>\n",
              "      <td>42000152</td>\n",
              "      <td>2021-05-25</td>\n",
              "      <td>102.0</td>\n",
              "      <td>109.0</td>\n",
              "      <td>2020</td>\n",
              "      <td>Northern Arizona Suns</td>\n",
              "      <td>Memphis</td>\n",
              "      <td>American Airlines Center</td>\n",
              "      <td>0.465</td>\n",
              "      <td>0.450</td>\n",
              "      <td>0.933</td>\n",
              "      <td>0.871</td>\n",
              "      <td>0.308</td>\n",
              "      <td>0.303</td>\n",
              "      <td>21.0</td>\n",
              "      <td>24.0</td>\n",
              "      <td>31.0</td>\n",
              "      <td>39.0</td>\n",
              "      <td>0</td>\n",
              "    </tr>\n",
              "  </tbody>\n",
              "</table>\n",
              "</div>"
            ],
            "text/plain": [
              "   match_id match_date  home_points  ...  home_rebounds  away_rebounds home_wins\n",
              "0  42000102 2021-05-26        120.0  ...           45.0           40.0         1\n",
              "1  42000132 2021-05-26        101.0  ...           54.0           41.0         1\n",
              "2  42000142 2021-05-26        141.0  ...           42.0           33.0         1\n",
              "3  42000112 2021-05-25        130.0  ...           46.0           43.0         1\n",
              "4  42000152 2021-05-25        102.0  ...           31.0           39.0         0\n",
              "\n",
              "[5 rows x 19 columns]"
            ]
          },
          "metadata": {},
          "execution_count": 26
        }
      ],
      "source": [
        "match_df = match_df[cols.values()]\n",
        "match_df.head()"
      ]
    },
    {
      "cell_type": "code",
      "execution_count": 27,
      "metadata": {
        "id": "hbm5NgRH8s0M"
      },
      "outputs": [],
      "source": [
        "match_df.to_csv(r'match_data.csv',index=False)"
      ]
    },
    {
      "cell_type": "markdown",
      "metadata": {
        "id": "d0fmg4QPMehD"
      },
      "source": [
        "## Players Data"
      ]
    },
    {
      "cell_type": "code",
      "execution_count": 28,
      "metadata": {
        "colab": {
          "base_uri": "https://localhost:8080/"
        },
        "id": "pbTSnSGu9wAN",
        "outputId": "1e4e7582-62a3-49ed-ba74-197f18844dc5"
      },
      "outputs": [
        {
          "output_type": "execute_result",
          "data": {
            "text/plain": [
              "(7228, 4)"
            ]
          },
          "metadata": {},
          "execution_count": 28
        }
      ],
      "source": [
        "players_df = pd.read_csv (r'/content/players.csv')\n",
        "players_df.shape"
      ]
    },
    {
      "cell_type": "code",
      "execution_count": 29,
      "metadata": {
        "colab": {
          "base_uri": "https://localhost:8080/",
          "height": 206
        },
        "id": "aGIWwTOLRwoN",
        "outputId": "45132425-af63-4c39-b76d-ff172c3386bb"
      },
      "outputs": [
        {
          "output_type": "execute_result",
          "data": {
            "text/html": [
              "<div>\n",
              "<style scoped>\n",
              "    .dataframe tbody tr th:only-of-type {\n",
              "        vertical-align: middle;\n",
              "    }\n",
              "\n",
              "    .dataframe tbody tr th {\n",
              "        vertical-align: top;\n",
              "    }\n",
              "\n",
              "    .dataframe thead th {\n",
              "        text-align: right;\n",
              "    }\n",
              "</style>\n",
              "<table border=\"1\" class=\"dataframe\">\n",
              "  <thead>\n",
              "    <tr style=\"text-align: right;\">\n",
              "      <th></th>\n",
              "      <th>PLAYER_NAME</th>\n",
              "      <th>TEAM_ID</th>\n",
              "      <th>PLAYER_ID</th>\n",
              "      <th>SEASON</th>\n",
              "    </tr>\n",
              "  </thead>\n",
              "  <tbody>\n",
              "    <tr>\n",
              "      <th>0</th>\n",
              "      <td>Royce O'Neale</td>\n",
              "      <td>1610612762</td>\n",
              "      <td>1626220</td>\n",
              "      <td>2019</td>\n",
              "    </tr>\n",
              "    <tr>\n",
              "      <th>1</th>\n",
              "      <td>Bojan Bogdanovic</td>\n",
              "      <td>1610612762</td>\n",
              "      <td>202711</td>\n",
              "      <td>2019</td>\n",
              "    </tr>\n",
              "    <tr>\n",
              "      <th>2</th>\n",
              "      <td>Rudy Gobert</td>\n",
              "      <td>1610612762</td>\n",
              "      <td>203497</td>\n",
              "      <td>2019</td>\n",
              "    </tr>\n",
              "    <tr>\n",
              "      <th>3</th>\n",
              "      <td>Donovan Mitchell</td>\n",
              "      <td>1610612762</td>\n",
              "      <td>1628378</td>\n",
              "      <td>2019</td>\n",
              "    </tr>\n",
              "    <tr>\n",
              "      <th>4</th>\n",
              "      <td>Mike Conley</td>\n",
              "      <td>1610612762</td>\n",
              "      <td>201144</td>\n",
              "      <td>2019</td>\n",
              "    </tr>\n",
              "  </tbody>\n",
              "</table>\n",
              "</div>"
            ],
            "text/plain": [
              "        PLAYER_NAME     TEAM_ID  PLAYER_ID  SEASON\n",
              "0     Royce O'Neale  1610612762    1626220    2019\n",
              "1  Bojan Bogdanovic  1610612762     202711    2019\n",
              "2       Rudy Gobert  1610612762     203497    2019\n",
              "3  Donovan Mitchell  1610612762    1628378    2019\n",
              "4       Mike Conley  1610612762     201144    2019"
            ]
          },
          "metadata": {},
          "execution_count": 29
        }
      ],
      "source": [
        "players_df.head()"
      ]
    },
    {
      "cell_type": "code",
      "execution_count": 30,
      "metadata": {
        "colab": {
          "base_uri": "https://localhost:8080/",
          "height": 310
        },
        "id": "hZzDYgRytPth",
        "outputId": "8dc36d80-1a67-437f-a24e-7b651a446173"
      },
      "outputs": [
        {
          "output_type": "stream",
          "name": "stderr",
          "text": [
            "/usr/local/lib/python3.7/dist-packages/ipykernel_launcher.py:2: SettingWithCopyWarning: \n",
            "A value is trying to be set on a copy of a slice from a DataFrame.\n",
            "Try using .loc[row_indexer,col_indexer] = value instead\n",
            "\n",
            "See the caveats in the documentation: https://pandas.pydata.org/pandas-docs/stable/user_guide/indexing.html#returning-a-view-versus-a-copy\n",
            "  \n"
          ]
        },
        {
          "output_type": "execute_result",
          "data": {
            "text/html": [
              "<div>\n",
              "<style scoped>\n",
              "    .dataframe tbody tr th:only-of-type {\n",
              "        vertical-align: middle;\n",
              "    }\n",
              "\n",
              "    .dataframe tbody tr th {\n",
              "        vertical-align: top;\n",
              "    }\n",
              "\n",
              "    .dataframe thead th {\n",
              "        text-align: right;\n",
              "    }\n",
              "</style>\n",
              "<table border=\"1\" class=\"dataframe\">\n",
              "  <thead>\n",
              "    <tr style=\"text-align: right;\">\n",
              "      <th></th>\n",
              "      <th>PLAYER_NAME</th>\n",
              "      <th>TEAM_ID</th>\n",
              "      <th>PLAYER_ID</th>\n",
              "      <th>SEASON</th>\n",
              "      <th>PLAYER_ID_NEW</th>\n",
              "    </tr>\n",
              "  </thead>\n",
              "  <tbody>\n",
              "    <tr>\n",
              "      <th>0</th>\n",
              "      <td>Royce O'Neale</td>\n",
              "      <td>1610612762</td>\n",
              "      <td>1626220</td>\n",
              "      <td>2019</td>\n",
              "      <td>0</td>\n",
              "    </tr>\n",
              "    <tr>\n",
              "      <th>1</th>\n",
              "      <td>Bojan Bogdanovic</td>\n",
              "      <td>1610612762</td>\n",
              "      <td>202711</td>\n",
              "      <td>2019</td>\n",
              "      <td>1</td>\n",
              "    </tr>\n",
              "    <tr>\n",
              "      <th>2</th>\n",
              "      <td>Rudy Gobert</td>\n",
              "      <td>1610612762</td>\n",
              "      <td>203497</td>\n",
              "      <td>2019</td>\n",
              "      <td>2</td>\n",
              "    </tr>\n",
              "    <tr>\n",
              "      <th>3</th>\n",
              "      <td>Donovan Mitchell</td>\n",
              "      <td>1610612762</td>\n",
              "      <td>1628378</td>\n",
              "      <td>2019</td>\n",
              "      <td>3</td>\n",
              "    </tr>\n",
              "    <tr>\n",
              "      <th>4</th>\n",
              "      <td>Mike Conley</td>\n",
              "      <td>1610612762</td>\n",
              "      <td>201144</td>\n",
              "      <td>2019</td>\n",
              "      <td>4</td>\n",
              "    </tr>\n",
              "  </tbody>\n",
              "</table>\n",
              "</div>"
            ],
            "text/plain": [
              "        PLAYER_NAME     TEAM_ID  PLAYER_ID  SEASON  PLAYER_ID_NEW\n",
              "0     Royce O'Neale  1610612762    1626220    2019              0\n",
              "1  Bojan Bogdanovic  1610612762     202711    2019              1\n",
              "2       Rudy Gobert  1610612762     203497    2019              2\n",
              "3  Donovan Mitchell  1610612762    1628378    2019              3\n",
              "4       Mike Conley  1610612762     201144    2019              4"
            ]
          },
          "metadata": {},
          "execution_count": 30
        }
      ],
      "source": [
        "players_df = players_df.drop_duplicates(subset=['PLAYER_ID'])\n",
        "players_df['PLAYER_ID_NEW'] = [i for i in range(0,len(players_df))]\n",
        "players_df.head()"
      ]
    },
    {
      "cell_type": "code",
      "execution_count": 31,
      "metadata": {
        "id": "Mubysx8Rp0QZ"
      },
      "outputs": [],
      "source": [
        "team_ids = players_df['TEAM_ID'].unique()"
      ]
    },
    {
      "cell_type": "code",
      "execution_count": 42,
      "metadata": {
        "colab": {
          "base_uri": "https://localhost:8080/",
          "height": 348
        },
        "id": "wRAdDekzYaQ7",
        "outputId": "78a27156-b2f8-4e8e-86b4-1c3e58295275"
      },
      "outputs": [
        {
          "output_type": "execute_result",
          "data": {
            "text/html": [
              "<div>\n",
              "<style scoped>\n",
              "    .dataframe tbody tr th:only-of-type {\n",
              "        vertical-align: middle;\n",
              "    }\n",
              "\n",
              "    .dataframe tbody tr th {\n",
              "        vertical-align: top;\n",
              "    }\n",
              "\n",
              "    .dataframe thead th {\n",
              "        text-align: right;\n",
              "    }\n",
              "</style>\n",
              "<table border=\"1\" class=\"dataframe\">\n",
              "  <thead>\n",
              "    <tr style=\"text-align: right;\">\n",
              "      <th></th>\n",
              "      <th>Unnamed: 0</th>\n",
              "      <th>player_name</th>\n",
              "      <th>team_abbreviation</th>\n",
              "      <th>age</th>\n",
              "      <th>player_height</th>\n",
              "      <th>player_weight</th>\n",
              "      <th>college</th>\n",
              "      <th>country</th>\n",
              "      <th>draft_year</th>\n",
              "      <th>draft_round</th>\n",
              "      <th>draft_number</th>\n",
              "      <th>gp</th>\n",
              "      <th>pts</th>\n",
              "      <th>reb</th>\n",
              "      <th>ast</th>\n",
              "      <th>net_rating</th>\n",
              "      <th>oreb_pct</th>\n",
              "      <th>dreb_pct</th>\n",
              "      <th>usg_pct</th>\n",
              "      <th>ts_pct</th>\n",
              "      <th>ast_pct</th>\n",
              "      <th>season</th>\n",
              "    </tr>\n",
              "  </thead>\n",
              "  <tbody>\n",
              "    <tr>\n",
              "      <th>0</th>\n",
              "      <td>0</td>\n",
              "      <td>Travis Knight</td>\n",
              "      <td>LAL</td>\n",
              "      <td>22.0</td>\n",
              "      <td>213.36</td>\n",
              "      <td>106.59412</td>\n",
              "      <td>Connecticut</td>\n",
              "      <td>USA</td>\n",
              "      <td>1996</td>\n",
              "      <td>1</td>\n",
              "      <td>29</td>\n",
              "      <td>71</td>\n",
              "      <td>4.8</td>\n",
              "      <td>4.5</td>\n",
              "      <td>0.5</td>\n",
              "      <td>6.2</td>\n",
              "      <td>0.127</td>\n",
              "      <td>0.182</td>\n",
              "      <td>0.142</td>\n",
              "      <td>0.536</td>\n",
              "      <td>0.052</td>\n",
              "      <td>1996-97</td>\n",
              "    </tr>\n",
              "    <tr>\n",
              "      <th>1</th>\n",
              "      <td>1</td>\n",
              "      <td>Matt Fish</td>\n",
              "      <td>MIA</td>\n",
              "      <td>27.0</td>\n",
              "      <td>210.82</td>\n",
              "      <td>106.59412</td>\n",
              "      <td>North Carolina-Wilmington</td>\n",
              "      <td>USA</td>\n",
              "      <td>1992</td>\n",
              "      <td>2</td>\n",
              "      <td>50</td>\n",
              "      <td>6</td>\n",
              "      <td>0.3</td>\n",
              "      <td>0.8</td>\n",
              "      <td>0.0</td>\n",
              "      <td>-15.1</td>\n",
              "      <td>0.143</td>\n",
              "      <td>0.267</td>\n",
              "      <td>0.265</td>\n",
              "      <td>0.333</td>\n",
              "      <td>0.000</td>\n",
              "      <td>1996-97</td>\n",
              "    </tr>\n",
              "    <tr>\n",
              "      <th>2</th>\n",
              "      <td>2</td>\n",
              "      <td>Matt Bullard</td>\n",
              "      <td>HOU</td>\n",
              "      <td>30.0</td>\n",
              "      <td>208.28</td>\n",
              "      <td>106.59412</td>\n",
              "      <td>Iowa</td>\n",
              "      <td>USA</td>\n",
              "      <td>Undrafted</td>\n",
              "      <td>Undrafted</td>\n",
              "      <td>Undrafted</td>\n",
              "      <td>71</td>\n",
              "      <td>4.5</td>\n",
              "      <td>1.6</td>\n",
              "      <td>0.9</td>\n",
              "      <td>0.9</td>\n",
              "      <td>0.016</td>\n",
              "      <td>0.115</td>\n",
              "      <td>0.151</td>\n",
              "      <td>0.535</td>\n",
              "      <td>0.099</td>\n",
              "      <td>1996-97</td>\n",
              "    </tr>\n",
              "    <tr>\n",
              "      <th>3</th>\n",
              "      <td>3</td>\n",
              "      <td>Marty Conlon</td>\n",
              "      <td>BOS</td>\n",
              "      <td>29.0</td>\n",
              "      <td>210.82</td>\n",
              "      <td>111.13004</td>\n",
              "      <td>Providence</td>\n",
              "      <td>USA</td>\n",
              "      <td>Undrafted</td>\n",
              "      <td>Undrafted</td>\n",
              "      <td>Undrafted</td>\n",
              "      <td>74</td>\n",
              "      <td>7.8</td>\n",
              "      <td>4.4</td>\n",
              "      <td>1.4</td>\n",
              "      <td>-9.0</td>\n",
              "      <td>0.083</td>\n",
              "      <td>0.152</td>\n",
              "      <td>0.167</td>\n",
              "      <td>0.542</td>\n",
              "      <td>0.101</td>\n",
              "      <td>1996-97</td>\n",
              "    </tr>\n",
              "    <tr>\n",
              "      <th>4</th>\n",
              "      <td>4</td>\n",
              "      <td>Martin Muursepp</td>\n",
              "      <td>DAL</td>\n",
              "      <td>22.0</td>\n",
              "      <td>205.74</td>\n",
              "      <td>106.59412</td>\n",
              "      <td>None</td>\n",
              "      <td>USA</td>\n",
              "      <td>1996</td>\n",
              "      <td>1</td>\n",
              "      <td>25</td>\n",
              "      <td>42</td>\n",
              "      <td>3.7</td>\n",
              "      <td>1.6</td>\n",
              "      <td>0.5</td>\n",
              "      <td>-14.5</td>\n",
              "      <td>0.109</td>\n",
              "      <td>0.118</td>\n",
              "      <td>0.233</td>\n",
              "      <td>0.482</td>\n",
              "      <td>0.114</td>\n",
              "      <td>1996-97</td>\n",
              "    </tr>\n",
              "  </tbody>\n",
              "</table>\n",
              "</div>"
            ],
            "text/plain": [
              "   Unnamed: 0      player_name team_abbreviation  ...  ts_pct  ast_pct   season\n",
              "0           0    Travis Knight               LAL  ...   0.536    0.052  1996-97\n",
              "1           1        Matt Fish               MIA  ...   0.333    0.000  1996-97\n",
              "2           2     Matt Bullard               HOU  ...   0.535    0.099  1996-97\n",
              "3           3     Marty Conlon               BOS  ...   0.542    0.101  1996-97\n",
              "4           4  Martin Muursepp               DAL  ...   0.482    0.114  1996-97\n",
              "\n",
              "[5 rows x 22 columns]"
            ]
          },
          "metadata": {},
          "execution_count": 42
        }
      ],
      "source": [
        "## Additional data for players\n",
        "players_df1 = pd.read_csv(r'/content/all_seasons.csv')\n",
        "players_df1.head()"
      ]
    },
    {
      "cell_type": "code",
      "execution_count": 43,
      "metadata": {
        "id": "CIHfcF25SGqV"
      },
      "outputs": [],
      "source": [
        "players_df1['age'] = players_df1['age'].astype(int)\n",
        "players_df1['player_weight'] = players_df1['player_weight'].round(2)"
      ]
    },
    {
      "cell_type": "code",
      "execution_count": 44,
      "metadata": {
        "id": "7qQ_oCdeoBWp"
      },
      "outputs": [],
      "source": [
        "players_df1['season'] = players_df1['season'].str.split('-').str[0].str.strip()\n",
        "players_df1['PLAYER_ID'] = [i for i in range(0,len(players_df1))]"
      ]
    },
    {
      "cell_type": "code",
      "execution_count": 45,
      "metadata": {
        "id": "ydYh1_ljSRTj"
      },
      "outputs": [],
      "source": [
        "players_df1['TEAM_ID'] = np.random.choice(team_ids,size = len(players_df1))"
      ]
    },
    {
      "cell_type": "code",
      "execution_count": 46,
      "metadata": {
        "id": "d3Ers0RbTZWJ"
      },
      "outputs": [],
      "source": [
        "cols_to_keep = ['player_name','age','player_height','player_weight','college','draft_year','season','TEAM_ID','Status']\n",
        "# players_df1[cols_to_keep]"
      ]
    },
    {
      "cell_type": "code",
      "execution_count": 47,
      "metadata": {
        "id": "5eBXS9Ay5aPT"
      },
      "outputs": [],
      "source": [
        "players_df1['season'] = players_df1['season'].astype(int)"
      ]
    },
    {
      "cell_type": "code",
      "source": [
        "team_df = players_df1[['PLAYER_ID','TEAM_ID','season']].drop_duplicates()\n",
        "team_df = team_df.merge(teams[['TEAM_ID','NICKNAME']],on='TEAM_ID',how='left')\n",
        "cols = {'TEAM_ID':'team_id','PLAYER_ID':'player_id','NICKNAME':'team_name','season':'year'}\n",
        "team_df.rename(columns = cols,inplace=True)\n",
        "team_df.to_csv(r'Team.csv',index=False)"
      ],
      "metadata": {
        "id": "MXXrY2_otWfT"
      },
      "execution_count": 48,
      "outputs": []
    },
    {
      "cell_type": "code",
      "execution_count": 49,
      "metadata": {
        "colab": {
          "base_uri": "https://localhost:8080/",
          "height": 261
        },
        "id": "jic4uCx2VfWx",
        "outputId": "bbd57656-18ee-41ca-86a2-f30abfcff0cd"
      },
      "outputs": [
        {
          "output_type": "execute_result",
          "data": {
            "text/html": [
              "<div>\n",
              "<style scoped>\n",
              "    .dataframe tbody tr th:only-of-type {\n",
              "        vertical-align: middle;\n",
              "    }\n",
              "\n",
              "    .dataframe tbody tr th {\n",
              "        vertical-align: top;\n",
              "    }\n",
              "\n",
              "    .dataframe thead th {\n",
              "        text-align: right;\n",
              "    }\n",
              "</style>\n",
              "<table border=\"1\" class=\"dataframe\">\n",
              "  <thead>\n",
              "    <tr style=\"text-align: right;\">\n",
              "      <th></th>\n",
              "      <th>Unnamed: 0</th>\n",
              "      <th>player_name</th>\n",
              "      <th>team_abbreviation</th>\n",
              "      <th>age</th>\n",
              "      <th>player_height</th>\n",
              "      <th>player_weight</th>\n",
              "      <th>college</th>\n",
              "      <th>country</th>\n",
              "      <th>draft_year</th>\n",
              "      <th>draft_round</th>\n",
              "      <th>draft_number</th>\n",
              "      <th>gp</th>\n",
              "      <th>pts</th>\n",
              "      <th>reb</th>\n",
              "      <th>ast</th>\n",
              "      <th>net_rating</th>\n",
              "      <th>oreb_pct</th>\n",
              "      <th>dreb_pct</th>\n",
              "      <th>usg_pct</th>\n",
              "      <th>ts_pct</th>\n",
              "      <th>ast_pct</th>\n",
              "      <th>season</th>\n",
              "      <th>PLAYER_ID</th>\n",
              "      <th>TEAM_ID</th>\n",
              "      <th>Status</th>\n",
              "    </tr>\n",
              "  </thead>\n",
              "  <tbody>\n",
              "    <tr>\n",
              "      <th>2031</th>\n",
              "      <td>2031</td>\n",
              "      <td>A.C. Green</td>\n",
              "      <td>MIA</td>\n",
              "      <td>37</td>\n",
              "      <td>205.74</td>\n",
              "      <td>102.06</td>\n",
              "      <td>Oregon State</td>\n",
              "      <td>USA</td>\n",
              "      <td>1985</td>\n",
              "      <td>1</td>\n",
              "      <td>23</td>\n",
              "      <td>82</td>\n",
              "      <td>4.5</td>\n",
              "      <td>3.8</td>\n",
              "      <td>0.5</td>\n",
              "      <td>3.3</td>\n",
              "      <td>0.089</td>\n",
              "      <td>0.171</td>\n",
              "      <td>0.141</td>\n",
              "      <td>0.492</td>\n",
              "      <td>0.050</td>\n",
              "      <td>2000</td>\n",
              "      <td>0</td>\n",
              "      <td>1610612753</td>\n",
              "      <td>Inactive</td>\n",
              "    </tr>\n",
              "    <tr>\n",
              "      <th>1711</th>\n",
              "      <td>1711</td>\n",
              "      <td>A.J. Bramlett</td>\n",
              "      <td>CLE</td>\n",
              "      <td>23</td>\n",
              "      <td>208.28</td>\n",
              "      <td>102.97</td>\n",
              "      <td>Arizona</td>\n",
              "      <td>USA</td>\n",
              "      <td>1999</td>\n",
              "      <td>2</td>\n",
              "      <td>39</td>\n",
              "      <td>8</td>\n",
              "      <td>1.0</td>\n",
              "      <td>2.8</td>\n",
              "      <td>0.0</td>\n",
              "      <td>-32.6</td>\n",
              "      <td>0.158</td>\n",
              "      <td>0.208</td>\n",
              "      <td>0.146</td>\n",
              "      <td>0.190</td>\n",
              "      <td>0.000</td>\n",
              "      <td>1999</td>\n",
              "      <td>1</td>\n",
              "      <td>1610612761</td>\n",
              "      <td>Inactive</td>\n",
              "    </tr>\n",
              "    <tr>\n",
              "      <th>2920</th>\n",
              "      <td>2920</td>\n",
              "      <td>A.J. Guyton</td>\n",
              "      <td>GSW</td>\n",
              "      <td>25</td>\n",
              "      <td>185.42</td>\n",
              "      <td>81.65</td>\n",
              "      <td>Indiana</td>\n",
              "      <td>USA</td>\n",
              "      <td>2000</td>\n",
              "      <td>2</td>\n",
              "      <td>32</td>\n",
              "      <td>2</td>\n",
              "      <td>0.0</td>\n",
              "      <td>0.0</td>\n",
              "      <td>1.0</td>\n",
              "      <td>-3.9</td>\n",
              "      <td>0.000</td>\n",
              "      <td>0.000</td>\n",
              "      <td>0.282</td>\n",
              "      <td>0.000</td>\n",
              "      <td>0.400</td>\n",
              "      <td>2002</td>\n",
              "      <td>2</td>\n",
              "      <td>1610612763</td>\n",
              "      <td>Inactive</td>\n",
              "    </tr>\n",
              "    <tr>\n",
              "      <th>9404</th>\n",
              "      <td>9404</td>\n",
              "      <td>AJ Hammons</td>\n",
              "      <td>DAL</td>\n",
              "      <td>24</td>\n",
              "      <td>213.36</td>\n",
              "      <td>117.93</td>\n",
              "      <td>Purdue</td>\n",
              "      <td>USA</td>\n",
              "      <td>2016</td>\n",
              "      <td>2</td>\n",
              "      <td>46</td>\n",
              "      <td>22</td>\n",
              "      <td>2.2</td>\n",
              "      <td>1.6</td>\n",
              "      <td>0.2</td>\n",
              "      <td>-0.6</td>\n",
              "      <td>0.049</td>\n",
              "      <td>0.199</td>\n",
              "      <td>0.167</td>\n",
              "      <td>0.472</td>\n",
              "      <td>0.038</td>\n",
              "      <td>2016</td>\n",
              "      <td>3</td>\n",
              "      <td>1610612749</td>\n",
              "      <td>Inactive</td>\n",
              "    </tr>\n",
              "    <tr>\n",
              "      <th>8380</th>\n",
              "      <td>8380</td>\n",
              "      <td>AJ Price</td>\n",
              "      <td>CLE</td>\n",
              "      <td>28</td>\n",
              "      <td>187.96</td>\n",
              "      <td>88.45</td>\n",
              "      <td>Connecticut</td>\n",
              "      <td>USA</td>\n",
              "      <td>2009</td>\n",
              "      <td>2</td>\n",
              "      <td>52</td>\n",
              "      <td>26</td>\n",
              "      <td>5.1</td>\n",
              "      <td>1.2</td>\n",
              "      <td>1.8</td>\n",
              "      <td>-12.2</td>\n",
              "      <td>0.019</td>\n",
              "      <td>0.096</td>\n",
              "      <td>0.226</td>\n",
              "      <td>0.451</td>\n",
              "      <td>0.254</td>\n",
              "      <td>2014</td>\n",
              "      <td>4</td>\n",
              "      <td>1610612757</td>\n",
              "      <td>Inactive</td>\n",
              "    </tr>\n",
              "  </tbody>\n",
              "</table>\n",
              "</div>"
            ],
            "text/plain": [
              "      Unnamed: 0    player_name  ...     TEAM_ID    Status\n",
              "2031        2031     A.C. Green  ...  1610612753  Inactive\n",
              "1711        1711  A.J. Bramlett  ...  1610612761  Inactive\n",
              "2920        2920    A.J. Guyton  ...  1610612763  Inactive\n",
              "9404        9404     AJ Hammons  ...  1610612749  Inactive\n",
              "8380        8380       AJ Price  ...  1610612757  Inactive\n",
              "\n",
              "[5 rows x 25 columns]"
            ]
          },
          "metadata": {},
          "execution_count": 49
        }
      ],
      "source": [
        "players_df_final = players_df1.sort_values(by=['player_name','season'],ascending=False).drop_duplicates(subset=['player_name'])\n",
        "players_df_final = players_df_final.sort_values(by=['player_name'])\n",
        "players_df_final.loc[players_df_final['season']==2020,'Status'] = 'Active'\n",
        "players_df_final['Status'].fillna('Inactive',inplace=True)\n",
        "player_df_final = players_df_final.loc[players_df_final['season']>=2003]\n",
        "players_df_final['PLAYER_ID'] = [i for i in range(0,len(players_df_final))]\n",
        "players_df_final.head()"
      ]
    },
    {
      "cell_type": "code",
      "execution_count": 50,
      "metadata": {
        "id": "TlVTIXsD7yx6"
      },
      "outputs": [],
      "source": [
        "x = dict(zip(players_df_final['player_name'],players_df_final['PLAYER_ID']))\n",
        "players_df1['PLAYER_ID'] = players_df1['player_name'].map(x)"
      ]
    },
    {
      "cell_type": "code",
      "execution_count": 51,
      "metadata": {
        "id": "tQ7dcFux9vfA"
      },
      "outputs": [],
      "source": [
        "temp = players_df.merge(players_df_final[['PLAYER_ID','player_name']],left_on='PLAYER_ID_NEW',right_on='PLAYER_ID',how='left')\n",
        "temp.rename(columns={'PLAYER_ID_x':'PLAYER_ID'},inplace=True)\n",
        "temp_dict = dict(zip(temp['PLAYER_ID'].astype(int),temp['PLAYER_ID_NEW'].astype(int)))\n",
        "temp_dict1 = dict(zip(temp['PLAYER_ID_NEW'].astype(int),temp['player_name']))"
      ]
    },
    {
      "cell_type": "code",
      "execution_count": 52,
      "metadata": {
        "colab": {
          "base_uri": "https://localhost:8080/"
        },
        "id": "d98ONR2QYgoz",
        "outputId": "f3b39718-d3e0-4a4e-b158-d1f7a95c9714"
      },
      "outputs": [
        {
          "output_type": "execute_result",
          "data": {
            "text/plain": [
              "((11700, 24), 2333)"
            ]
          },
          "metadata": {},
          "execution_count": 52
        }
      ],
      "source": [
        "players_df1.shape,players_df1['player_name'].nunique()"
      ]
    },
    {
      "cell_type": "code",
      "execution_count": 53,
      "metadata": {
        "colab": {
          "base_uri": "https://localhost:8080/",
          "height": 206
        },
        "id": "wuEcIeiXq03X",
        "outputId": "f513a5bf-6ee9-4b17-bea9-10d898121a40"
      },
      "outputs": [
        {
          "output_type": "execute_result",
          "data": {
            "text/html": [
              "<div>\n",
              "<style scoped>\n",
              "    .dataframe tbody tr th:only-of-type {\n",
              "        vertical-align: middle;\n",
              "    }\n",
              "\n",
              "    .dataframe tbody tr th {\n",
              "        vertical-align: top;\n",
              "    }\n",
              "\n",
              "    .dataframe thead th {\n",
              "        text-align: right;\n",
              "    }\n",
              "</style>\n",
              "<table border=\"1\" class=\"dataframe\">\n",
              "  <thead>\n",
              "    <tr style=\"text-align: right;\">\n",
              "      <th></th>\n",
              "      <th>name</th>\n",
              "      <th>year_start</th>\n",
              "      <th>year_end</th>\n",
              "      <th>position</th>\n",
              "      <th>height</th>\n",
              "      <th>weight</th>\n",
              "      <th>birth_date</th>\n",
              "      <th>college</th>\n",
              "      <th>PLAYER_ID</th>\n",
              "    </tr>\n",
              "  </thead>\n",
              "  <tbody>\n",
              "    <tr>\n",
              "      <th>0</th>\n",
              "      <td>Alaa Abdelnaby</td>\n",
              "      <td>1991</td>\n",
              "      <td>1995</td>\n",
              "      <td>F-C</td>\n",
              "      <td>6-10</td>\n",
              "      <td>240.0</td>\n",
              "      <td>June 24, 1968</td>\n",
              "      <td>Duke University</td>\n",
              "      <td>0</td>\n",
              "    </tr>\n",
              "    <tr>\n",
              "      <th>1</th>\n",
              "      <td>Zaid Abdul-Aziz</td>\n",
              "      <td>1969</td>\n",
              "      <td>1978</td>\n",
              "      <td>C-F</td>\n",
              "      <td>6-9</td>\n",
              "      <td>235.0</td>\n",
              "      <td>April 7, 1946</td>\n",
              "      <td>Iowa State University</td>\n",
              "      <td>1</td>\n",
              "    </tr>\n",
              "    <tr>\n",
              "      <th>2</th>\n",
              "      <td>Kareem Abdul-Jabbar</td>\n",
              "      <td>1970</td>\n",
              "      <td>1989</td>\n",
              "      <td>C</td>\n",
              "      <td>7-2</td>\n",
              "      <td>225.0</td>\n",
              "      <td>April 16, 1947</td>\n",
              "      <td>University of California, Los Angeles</td>\n",
              "      <td>2</td>\n",
              "    </tr>\n",
              "    <tr>\n",
              "      <th>3</th>\n",
              "      <td>Mahmoud Abdul-Rauf</td>\n",
              "      <td>1991</td>\n",
              "      <td>2001</td>\n",
              "      <td>G</td>\n",
              "      <td>6-1</td>\n",
              "      <td>162.0</td>\n",
              "      <td>March 9, 1969</td>\n",
              "      <td>Louisiana State University</td>\n",
              "      <td>3</td>\n",
              "    </tr>\n",
              "    <tr>\n",
              "      <th>4</th>\n",
              "      <td>Tariq Abdul-Wahad</td>\n",
              "      <td>1998</td>\n",
              "      <td>2003</td>\n",
              "      <td>F</td>\n",
              "      <td>6-6</td>\n",
              "      <td>223.0</td>\n",
              "      <td>November 3, 1974</td>\n",
              "      <td>San Jose State University</td>\n",
              "      <td>4</td>\n",
              "    </tr>\n",
              "  </tbody>\n",
              "</table>\n",
              "</div>"
            ],
            "text/plain": [
              "                  name  ...  PLAYER_ID\n",
              "0       Alaa Abdelnaby  ...          0\n",
              "1      Zaid Abdul-Aziz  ...          1\n",
              "2  Kareem Abdul-Jabbar  ...          2\n",
              "3   Mahmoud Abdul-Rauf  ...          3\n",
              "4    Tariq Abdul-Wahad  ...          4\n",
              "\n",
              "[5 rows x 9 columns]"
            ]
          },
          "metadata": {},
          "execution_count": 53
        }
      ],
      "source": [
        "players_df3 = pd.read_csv(r'/content/player_data_dob.csv')\n",
        "players_df3['PLAYER_ID'] = [i for i in range(0,players_df3.shape[0])]\n",
        "players_df3.head()"
      ]
    },
    {
      "cell_type": "code",
      "execution_count": 54,
      "metadata": {
        "colab": {
          "base_uri": "https://localhost:8080/",
          "height": 424
        },
        "id": "klMv98BJZ8cV",
        "outputId": "c36721ec-1b77-416d-8142-a9b13bea0ca8"
      },
      "outputs": [
        {
          "output_type": "execute_result",
          "data": {
            "text/html": [
              "<div>\n",
              "<style scoped>\n",
              "    .dataframe tbody tr th:only-of-type {\n",
              "        vertical-align: middle;\n",
              "    }\n",
              "\n",
              "    .dataframe tbody tr th {\n",
              "        vertical-align: top;\n",
              "    }\n",
              "\n",
              "    .dataframe thead th {\n",
              "        text-align: right;\n",
              "    }\n",
              "</style>\n",
              "<table border=\"1\" class=\"dataframe\">\n",
              "  <thead>\n",
              "    <tr style=\"text-align: right;\">\n",
              "      <th></th>\n",
              "      <th>PLAYER_ID</th>\n",
              "      <th>player_name</th>\n",
              "      <th>age</th>\n",
              "      <th>birth_date</th>\n",
              "      <th>position</th>\n",
              "      <th>player_height</th>\n",
              "      <th>player_weight</th>\n",
              "      <th>Status</th>\n",
              "    </tr>\n",
              "  </thead>\n",
              "  <tbody>\n",
              "    <tr>\n",
              "      <th>0</th>\n",
              "      <td>0</td>\n",
              "      <td>A.C. Green</td>\n",
              "      <td>37</td>\n",
              "      <td>June 24, 1968</td>\n",
              "      <td>F-C</td>\n",
              "      <td>205.74</td>\n",
              "      <td>102.06</td>\n",
              "      <td>Inactive</td>\n",
              "    </tr>\n",
              "    <tr>\n",
              "      <th>1</th>\n",
              "      <td>1</td>\n",
              "      <td>A.J. Bramlett</td>\n",
              "      <td>23</td>\n",
              "      <td>April 7, 1946</td>\n",
              "      <td>C-F</td>\n",
              "      <td>208.28</td>\n",
              "      <td>102.97</td>\n",
              "      <td>Inactive</td>\n",
              "    </tr>\n",
              "    <tr>\n",
              "      <th>2</th>\n",
              "      <td>2</td>\n",
              "      <td>A.J. Guyton</td>\n",
              "      <td>25</td>\n",
              "      <td>April 16, 1947</td>\n",
              "      <td>C</td>\n",
              "      <td>185.42</td>\n",
              "      <td>81.65</td>\n",
              "      <td>Inactive</td>\n",
              "    </tr>\n",
              "    <tr>\n",
              "      <th>3</th>\n",
              "      <td>3</td>\n",
              "      <td>AJ Hammons</td>\n",
              "      <td>24</td>\n",
              "      <td>March 9, 1969</td>\n",
              "      <td>G</td>\n",
              "      <td>213.36</td>\n",
              "      <td>117.93</td>\n",
              "      <td>Inactive</td>\n",
              "    </tr>\n",
              "    <tr>\n",
              "      <th>4</th>\n",
              "      <td>4</td>\n",
              "      <td>AJ Price</td>\n",
              "      <td>28</td>\n",
              "      <td>November 3, 1974</td>\n",
              "      <td>F</td>\n",
              "      <td>187.96</td>\n",
              "      <td>88.45</td>\n",
              "      <td>Inactive</td>\n",
              "    </tr>\n",
              "    <tr>\n",
              "      <th>...</th>\n",
              "      <td>...</td>\n",
              "      <td>...</td>\n",
              "      <td>...</td>\n",
              "      <td>...</td>\n",
              "      <td>...</td>\n",
              "      <td>...</td>\n",
              "      <td>...</td>\n",
              "      <td>...</td>\n",
              "    </tr>\n",
              "    <tr>\n",
              "      <th>2328</th>\n",
              "      <td>2328</td>\n",
              "      <td>Zion Williamson</td>\n",
              "      <td>20</td>\n",
              "      <td>December 10, 1973</td>\n",
              "      <td>G</td>\n",
              "      <td>200.66</td>\n",
              "      <td>128.82</td>\n",
              "      <td>Active</td>\n",
              "    </tr>\n",
              "    <tr>\n",
              "      <th>2329</th>\n",
              "      <td>2329</td>\n",
              "      <td>Zoran Dragic</td>\n",
              "      <td>26</td>\n",
              "      <td>November 11, 1937</td>\n",
              "      <td>F-C</td>\n",
              "      <td>195.58</td>\n",
              "      <td>90.72</td>\n",
              "      <td>Inactive</td>\n",
              "    </tr>\n",
              "    <tr>\n",
              "      <th>2330</th>\n",
              "      <td>2330</td>\n",
              "      <td>Zoran Planinic</td>\n",
              "      <td>23</td>\n",
              "      <td>June 7, 1953</td>\n",
              "      <td>G</td>\n",
              "      <td>200.66</td>\n",
              "      <td>90.72</td>\n",
              "      <td>Inactive</td>\n",
              "    </tr>\n",
              "    <tr>\n",
              "      <th>2331</th>\n",
              "      <td>2331</td>\n",
              "      <td>Zydrunas Ilgauskas</td>\n",
              "      <td>36</td>\n",
              "      <td>December 17, 1982</td>\n",
              "      <td>F</td>\n",
              "      <td>220.98</td>\n",
              "      <td>117.93</td>\n",
              "      <td>Inactive</td>\n",
              "    </tr>\n",
              "    <tr>\n",
              "      <th>2332</th>\n",
              "      <td>2332</td>\n",
              "      <td>Zylan Cheatham</td>\n",
              "      <td>24</td>\n",
              "      <td>December 23, 1943</td>\n",
              "      <td>F-C</td>\n",
              "      <td>195.58</td>\n",
              "      <td>99.79</td>\n",
              "      <td>Inactive</td>\n",
              "    </tr>\n",
              "  </tbody>\n",
              "</table>\n",
              "<p>2333 rows × 8 columns</p>\n",
              "</div>"
            ],
            "text/plain": [
              "      PLAYER_ID         player_name  ...  player_weight    Status\n",
              "0             0          A.C. Green  ...         102.06  Inactive\n",
              "1             1       A.J. Bramlett  ...         102.97  Inactive\n",
              "2             2         A.J. Guyton  ...          81.65  Inactive\n",
              "3             3          AJ Hammons  ...         117.93  Inactive\n",
              "4             4            AJ Price  ...          88.45  Inactive\n",
              "...         ...                 ...  ...            ...       ...\n",
              "2328       2328     Zion Williamson  ...         128.82    Active\n",
              "2329       2329        Zoran Dragic  ...          90.72  Inactive\n",
              "2330       2330      Zoran Planinic  ...          90.72  Inactive\n",
              "2331       2331  Zydrunas Ilgauskas  ...         117.93  Inactive\n",
              "2332       2332      Zylan Cheatham  ...          99.79  Inactive\n",
              "\n",
              "[2333 rows x 8 columns]"
            ]
          },
          "metadata": {},
          "execution_count": 54
        }
      ],
      "source": [
        "players_df_final = players_df_final.merge(players_df3[['PLAYER_ID','position','birth_date']],on='PLAYER_ID',how='left')\n",
        "players_df_final[['PLAYER_ID','player_name','age','birth_date','position','player_height','player_weight','Status']]"
      ]
    },
    {
      "cell_type": "code",
      "execution_count": 55,
      "metadata": {
        "colab": {
          "base_uri": "https://localhost:8080/",
          "height": 424
        },
        "id": "JxTlBf2VP5BK",
        "outputId": "65e1cd48-3908-4133-9915-6d6870d855bc"
      },
      "outputs": [
        {
          "output_type": "execute_result",
          "data": {
            "text/html": [
              "<div>\n",
              "<style scoped>\n",
              "    .dataframe tbody tr th:only-of-type {\n",
              "        vertical-align: middle;\n",
              "    }\n",
              "\n",
              "    .dataframe tbody tr th {\n",
              "        vertical-align: top;\n",
              "    }\n",
              "\n",
              "    .dataframe thead th {\n",
              "        text-align: right;\n",
              "    }\n",
              "</style>\n",
              "<table border=\"1\" class=\"dataframe\">\n",
              "  <thead>\n",
              "    <tr style=\"text-align: right;\">\n",
              "      <th></th>\n",
              "      <th>player_id</th>\n",
              "      <th>player_name</th>\n",
              "      <th>age</th>\n",
              "      <th>date_of_birth</th>\n",
              "      <th>pos</th>\n",
              "      <th>height</th>\n",
              "      <th>weight</th>\n",
              "      <th>status</th>\n",
              "    </tr>\n",
              "  </thead>\n",
              "  <tbody>\n",
              "    <tr>\n",
              "      <th>0</th>\n",
              "      <td>0</td>\n",
              "      <td>A.C. Green</td>\n",
              "      <td>37</td>\n",
              "      <td>June 24, 1968</td>\n",
              "      <td>F-C</td>\n",
              "      <td>205.74</td>\n",
              "      <td>102.06</td>\n",
              "      <td>Inactive</td>\n",
              "    </tr>\n",
              "    <tr>\n",
              "      <th>1</th>\n",
              "      <td>1</td>\n",
              "      <td>A.J. Bramlett</td>\n",
              "      <td>23</td>\n",
              "      <td>April 7, 1946</td>\n",
              "      <td>C-F</td>\n",
              "      <td>208.28</td>\n",
              "      <td>102.97</td>\n",
              "      <td>Inactive</td>\n",
              "    </tr>\n",
              "    <tr>\n",
              "      <th>2</th>\n",
              "      <td>2</td>\n",
              "      <td>A.J. Guyton</td>\n",
              "      <td>25</td>\n",
              "      <td>April 16, 1947</td>\n",
              "      <td>C</td>\n",
              "      <td>185.42</td>\n",
              "      <td>81.65</td>\n",
              "      <td>Inactive</td>\n",
              "    </tr>\n",
              "    <tr>\n",
              "      <th>3</th>\n",
              "      <td>3</td>\n",
              "      <td>AJ Hammons</td>\n",
              "      <td>24</td>\n",
              "      <td>March 9, 1969</td>\n",
              "      <td>G</td>\n",
              "      <td>213.36</td>\n",
              "      <td>117.93</td>\n",
              "      <td>Inactive</td>\n",
              "    </tr>\n",
              "    <tr>\n",
              "      <th>4</th>\n",
              "      <td>4</td>\n",
              "      <td>AJ Price</td>\n",
              "      <td>28</td>\n",
              "      <td>November 3, 1974</td>\n",
              "      <td>F</td>\n",
              "      <td>187.96</td>\n",
              "      <td>88.45</td>\n",
              "      <td>Inactive</td>\n",
              "    </tr>\n",
              "    <tr>\n",
              "      <th>...</th>\n",
              "      <td>...</td>\n",
              "      <td>...</td>\n",
              "      <td>...</td>\n",
              "      <td>...</td>\n",
              "      <td>...</td>\n",
              "      <td>...</td>\n",
              "      <td>...</td>\n",
              "      <td>...</td>\n",
              "    </tr>\n",
              "    <tr>\n",
              "      <th>2328</th>\n",
              "      <td>2328</td>\n",
              "      <td>Zion Williamson</td>\n",
              "      <td>20</td>\n",
              "      <td>December 10, 1973</td>\n",
              "      <td>G</td>\n",
              "      <td>200.66</td>\n",
              "      <td>128.82</td>\n",
              "      <td>Active</td>\n",
              "    </tr>\n",
              "    <tr>\n",
              "      <th>2329</th>\n",
              "      <td>2329</td>\n",
              "      <td>Zoran Dragic</td>\n",
              "      <td>26</td>\n",
              "      <td>November 11, 1937</td>\n",
              "      <td>F-C</td>\n",
              "      <td>195.58</td>\n",
              "      <td>90.72</td>\n",
              "      <td>Inactive</td>\n",
              "    </tr>\n",
              "    <tr>\n",
              "      <th>2330</th>\n",
              "      <td>2330</td>\n",
              "      <td>Zoran Planinic</td>\n",
              "      <td>23</td>\n",
              "      <td>June 7, 1953</td>\n",
              "      <td>G</td>\n",
              "      <td>200.66</td>\n",
              "      <td>90.72</td>\n",
              "      <td>Inactive</td>\n",
              "    </tr>\n",
              "    <tr>\n",
              "      <th>2331</th>\n",
              "      <td>2331</td>\n",
              "      <td>Zydrunas Ilgauskas</td>\n",
              "      <td>36</td>\n",
              "      <td>December 17, 1982</td>\n",
              "      <td>F</td>\n",
              "      <td>220.98</td>\n",
              "      <td>117.93</td>\n",
              "      <td>Inactive</td>\n",
              "    </tr>\n",
              "    <tr>\n",
              "      <th>2332</th>\n",
              "      <td>2332</td>\n",
              "      <td>Zylan Cheatham</td>\n",
              "      <td>24</td>\n",
              "      <td>December 23, 1943</td>\n",
              "      <td>F-C</td>\n",
              "      <td>195.58</td>\n",
              "      <td>99.79</td>\n",
              "      <td>Inactive</td>\n",
              "    </tr>\n",
              "  </tbody>\n",
              "</table>\n",
              "<p>2333 rows × 8 columns</p>\n",
              "</div>"
            ],
            "text/plain": [
              "      player_id         player_name  age  ...  height  weight    status\n",
              "0             0          A.C. Green   37  ...  205.74  102.06  Inactive\n",
              "1             1       A.J. Bramlett   23  ...  208.28  102.97  Inactive\n",
              "2             2         A.J. Guyton   25  ...  185.42   81.65  Inactive\n",
              "3             3          AJ Hammons   24  ...  213.36  117.93  Inactive\n",
              "4             4            AJ Price   28  ...  187.96   88.45  Inactive\n",
              "...         ...                 ...  ...  ...     ...     ...       ...\n",
              "2328       2328     Zion Williamson   20  ...  200.66  128.82    Active\n",
              "2329       2329        Zoran Dragic   26  ...  195.58   90.72  Inactive\n",
              "2330       2330      Zoran Planinic   23  ...  200.66   90.72  Inactive\n",
              "2331       2331  Zydrunas Ilgauskas   36  ...  220.98  117.93  Inactive\n",
              "2332       2332      Zylan Cheatham   24  ...  195.58   99.79  Inactive\n",
              "\n",
              "[2333 rows x 8 columns]"
            ]
          },
          "metadata": {},
          "execution_count": 55
        }
      ],
      "source": [
        "cols = {'PLAYER_ID':'player_id','birth_date':'date_of_birth','position':'pos','player_height':'height','player_weight':'weight','Status':'status'}\n",
        "players_df_final.rename(columns=cols,inplace=True)\n",
        "players_df_final[['player_id','player_name','age','date_of_birth','pos','height','weight','status']]"
      ]
    },
    {
      "cell_type": "code",
      "execution_count": 56,
      "metadata": {
        "id": "lk6rzWkuSM5R"
      },
      "outputs": [],
      "source": [
        "players_df_final = players_df_final[['player_id','player_name','age','date_of_birth','pos','height','weight','status']]"
      ]
    },
    {
      "cell_type": "code",
      "execution_count": 57,
      "metadata": {
        "id": "UCIRW0yyQ-Fr"
      },
      "outputs": [],
      "source": [
        "players_df_final['date_of_birth'].fillna('January 1,1997',inplace=True)\n",
        "players_df_final['pos'].fillna('G',inplace=True)"
      ]
    },
    {
      "cell_type": "code",
      "execution_count": 58,
      "metadata": {
        "id": "NvY8A0os2Kzk"
      },
      "outputs": [],
      "source": [
        "players_df_final['date_of_birth'] = pd.to_datetime(players_df_final['date_of_birth'])"
      ]
    },
    {
      "cell_type": "code",
      "source": [
        "players_df_final['player_id'].max()"
      ],
      "metadata": {
        "colab": {
          "base_uri": "https://localhost:8080/"
        },
        "id": "jS9vbvqf19vG",
        "outputId": "1e4a4749-5f74-4359-9e2c-2b3768a57666"
      },
      "execution_count": 59,
      "outputs": [
        {
          "output_type": "execute_result",
          "data": {
            "text/plain": [
              "2332"
            ]
          },
          "metadata": {},
          "execution_count": 59
        }
      ]
    },
    {
      "cell_type": "code",
      "execution_count": 60,
      "metadata": {
        "id": "2_TpRWzVQ8KQ"
      },
      "outputs": [],
      "source": [
        "players_df_final.to_csv('players_data.csv',index=False)"
      ]
    },
    {
      "cell_type": "markdown",
      "metadata": {
        "id": "P4HetuaINcxG"
      },
      "source": [
        "## Match and Player Mapping"
      ]
    },
    {
      "cell_type": "code",
      "execution_count": 61,
      "metadata": {
        "colab": {
          "base_uri": "https://localhost:8080/",
          "height": 244
        },
        "id": "lHy79UBMR5AC",
        "outputId": "cc0d97fa-e07c-4742-ad24-e46fb0306e80"
      },
      "outputs": [
        {
          "output_type": "execute_result",
          "data": {
            "text/html": [
              "<div>\n",
              "<style scoped>\n",
              "    .dataframe tbody tr th:only-of-type {\n",
              "        vertical-align: middle;\n",
              "    }\n",
              "\n",
              "    .dataframe tbody tr th {\n",
              "        vertical-align: top;\n",
              "    }\n",
              "\n",
              "    .dataframe thead th {\n",
              "        text-align: right;\n",
              "    }\n",
              "</style>\n",
              "<table border=\"1\" class=\"dataframe\">\n",
              "  <thead>\n",
              "    <tr style=\"text-align: right;\">\n",
              "      <th></th>\n",
              "      <th>GAME_ID</th>\n",
              "      <th>TEAM_ID</th>\n",
              "      <th>TEAM_ABBREVIATION</th>\n",
              "      <th>TEAM_CITY</th>\n",
              "      <th>PLAYER_ID</th>\n",
              "      <th>PLAYER_NAME</th>\n",
              "      <th>START_POSITION</th>\n",
              "      <th>COMMENT</th>\n",
              "      <th>MIN</th>\n",
              "      <th>FGM</th>\n",
              "      <th>FGA</th>\n",
              "      <th>FG_PCT</th>\n",
              "      <th>FG3M</th>\n",
              "      <th>FG3A</th>\n",
              "      <th>FG3_PCT</th>\n",
              "      <th>FTM</th>\n",
              "      <th>FTA</th>\n",
              "      <th>FT_PCT</th>\n",
              "      <th>OREB</th>\n",
              "      <th>DREB</th>\n",
              "      <th>REB</th>\n",
              "      <th>AST</th>\n",
              "      <th>STL</th>\n",
              "      <th>BLK</th>\n",
              "      <th>TO</th>\n",
              "      <th>PF</th>\n",
              "      <th>PTS</th>\n",
              "      <th>PLUS_MINUS</th>\n",
              "    </tr>\n",
              "  </thead>\n",
              "  <tbody>\n",
              "    <tr>\n",
              "      <th>0</th>\n",
              "      <td>42000102</td>\n",
              "      <td>1610612764</td>\n",
              "      <td>WAS</td>\n",
              "      <td>Washington</td>\n",
              "      <td>203078</td>\n",
              "      <td>Bradley Beal</td>\n",
              "      <td>F</td>\n",
              "      <td>NaN</td>\n",
              "      <td>34:36</td>\n",
              "      <td>14.0</td>\n",
              "      <td>28.0</td>\n",
              "      <td>0.500</td>\n",
              "      <td>1.0</td>\n",
              "      <td>6.0</td>\n",
              "      <td>0.167</td>\n",
              "      <td>4.0</td>\n",
              "      <td>6.0</td>\n",
              "      <td>0.667</td>\n",
              "      <td>0.0</td>\n",
              "      <td>4.0</td>\n",
              "      <td>4.0</td>\n",
              "      <td>3.0</td>\n",
              "      <td>1.0</td>\n",
              "      <td>0.0</td>\n",
              "      <td>1.0</td>\n",
              "      <td>0.0</td>\n",
              "      <td>33.0</td>\n",
              "      <td>-22.0</td>\n",
              "    </tr>\n",
              "    <tr>\n",
              "      <th>1</th>\n",
              "      <td>42000102</td>\n",
              "      <td>1610612764</td>\n",
              "      <td>WAS</td>\n",
              "      <td>Washington</td>\n",
              "      <td>1629060</td>\n",
              "      <td>Rui Hachimura</td>\n",
              "      <td>F</td>\n",
              "      <td>NaN</td>\n",
              "      <td>25:50</td>\n",
              "      <td>4.0</td>\n",
              "      <td>6.0</td>\n",
              "      <td>0.667</td>\n",
              "      <td>1.0</td>\n",
              "      <td>1.0</td>\n",
              "      <td>1.000</td>\n",
              "      <td>2.0</td>\n",
              "      <td>3.0</td>\n",
              "      <td>0.667</td>\n",
              "      <td>2.0</td>\n",
              "      <td>5.0</td>\n",
              "      <td>7.0</td>\n",
              "      <td>1.0</td>\n",
              "      <td>0.0</td>\n",
              "      <td>0.0</td>\n",
              "      <td>3.0</td>\n",
              "      <td>4.0</td>\n",
              "      <td>11.0</td>\n",
              "      <td>-6.0</td>\n",
              "    </tr>\n",
              "    <tr>\n",
              "      <th>2</th>\n",
              "      <td>42000102</td>\n",
              "      <td>1610612764</td>\n",
              "      <td>WAS</td>\n",
              "      <td>Washington</td>\n",
              "      <td>203458</td>\n",
              "      <td>Alex Len</td>\n",
              "      <td>C</td>\n",
              "      <td>NaN</td>\n",
              "      <td>12:11</td>\n",
              "      <td>3.0</td>\n",
              "      <td>5.0</td>\n",
              "      <td>0.600</td>\n",
              "      <td>0.0</td>\n",
              "      <td>0.0</td>\n",
              "      <td>0.000</td>\n",
              "      <td>0.0</td>\n",
              "      <td>0.0</td>\n",
              "      <td>0.000</td>\n",
              "      <td>3.0</td>\n",
              "      <td>2.0</td>\n",
              "      <td>5.0</td>\n",
              "      <td>0.0</td>\n",
              "      <td>1.0</td>\n",
              "      <td>0.0</td>\n",
              "      <td>0.0</td>\n",
              "      <td>2.0</td>\n",
              "      <td>6.0</td>\n",
              "      <td>-11.0</td>\n",
              "    </tr>\n",
              "    <tr>\n",
              "      <th>3</th>\n",
              "      <td>42000102</td>\n",
              "      <td>1610612764</td>\n",
              "      <td>WAS</td>\n",
              "      <td>Washington</td>\n",
              "      <td>203526</td>\n",
              "      <td>Raul Neto</td>\n",
              "      <td>G</td>\n",
              "      <td>NaN</td>\n",
              "      <td>19:19</td>\n",
              "      <td>2.0</td>\n",
              "      <td>5.0</td>\n",
              "      <td>0.400</td>\n",
              "      <td>0.0</td>\n",
              "      <td>2.0</td>\n",
              "      <td>0.000</td>\n",
              "      <td>0.0</td>\n",
              "      <td>0.0</td>\n",
              "      <td>0.000</td>\n",
              "      <td>1.0</td>\n",
              "      <td>2.0</td>\n",
              "      <td>3.0</td>\n",
              "      <td>1.0</td>\n",
              "      <td>0.0</td>\n",
              "      <td>0.0</td>\n",
              "      <td>0.0</td>\n",
              "      <td>2.0</td>\n",
              "      <td>4.0</td>\n",
              "      <td>-17.0</td>\n",
              "    </tr>\n",
              "    <tr>\n",
              "      <th>4</th>\n",
              "      <td>42000102</td>\n",
              "      <td>1610612764</td>\n",
              "      <td>WAS</td>\n",
              "      <td>Washington</td>\n",
              "      <td>201566</td>\n",
              "      <td>Russell Westbrook</td>\n",
              "      <td>G</td>\n",
              "      <td>NaN</td>\n",
              "      <td>29:07</td>\n",
              "      <td>2.0</td>\n",
              "      <td>10.0</td>\n",
              "      <td>0.200</td>\n",
              "      <td>0.0</td>\n",
              "      <td>3.0</td>\n",
              "      <td>0.000</td>\n",
              "      <td>6.0</td>\n",
              "      <td>10.0</td>\n",
              "      <td>0.600</td>\n",
              "      <td>2.0</td>\n",
              "      <td>4.0</td>\n",
              "      <td>6.0</td>\n",
              "      <td>11.0</td>\n",
              "      <td>0.0</td>\n",
              "      <td>0.0</td>\n",
              "      <td>4.0</td>\n",
              "      <td>0.0</td>\n",
              "      <td>10.0</td>\n",
              "      <td>-16.0</td>\n",
              "    </tr>\n",
              "  </tbody>\n",
              "</table>\n",
              "</div>"
            ],
            "text/plain": [
              "    GAME_ID     TEAM_ID TEAM_ABBREVIATION  ...   PF   PTS PLUS_MINUS\n",
              "0  42000102  1610612764               WAS  ...  0.0  33.0      -22.0\n",
              "1  42000102  1610612764               WAS  ...  4.0  11.0       -6.0\n",
              "2  42000102  1610612764               WAS  ...  2.0   6.0      -11.0\n",
              "3  42000102  1610612764               WAS  ...  2.0   4.0      -17.0\n",
              "4  42000102  1610612764               WAS  ...  0.0  10.0      -16.0\n",
              "\n",
              "[5 rows x 28 columns]"
            ]
          },
          "metadata": {},
          "execution_count": 61
        }
      ],
      "source": [
        "game_stats = pd.read_csv(r'/content/games_details.csv')\n",
        "game_stats.head()"
      ]
    },
    {
      "cell_type": "code",
      "execution_count": 62,
      "metadata": {
        "colab": {
          "base_uri": "https://localhost:8080/"
        },
        "id": "q7rLa8aLVKzq",
        "outputId": "75fa442e-d3c7-408a-ad09-8cfbec4e0e66"
      },
      "outputs": [
        {
          "output_type": "execute_result",
          "data": {
            "text/plain": [
              "((91638, 28), 30)"
            ]
          },
          "metadata": {},
          "execution_count": 62
        }
      ],
      "source": [
        "game_stats.shape,game_stats['TEAM_ID'].nunique()"
      ]
    },
    {
      "cell_type": "code",
      "execution_count": 63,
      "metadata": {
        "id": "ZiLHv1ZB6Tw5"
      },
      "outputs": [],
      "source": [
        "game_stats['PLAYER_ID_NEW'] = game_stats['PLAYER_ID'].map(temp_dict)\n",
        "game_stats['PLAYER_NAME'] = game_stats['PLAYER_ID'].map(temp_dict1)"
      ]
    },
    {
      "cell_type": "code",
      "execution_count": 64,
      "metadata": {
        "colab": {
          "base_uri": "https://localhost:8080/"
        },
        "id": "dmC_jNW8KqGA",
        "outputId": "d802923a-d389-4f77-b8b8-6eb4435a799f"
      },
      "outputs": [
        {
          "output_type": "execute_result",
          "data": {
            "text/plain": [
              "(83586, 29)"
            ]
          },
          "metadata": {},
          "execution_count": 64
        }
      ],
      "source": [
        "game_stats = game_stats[~game_stats['PLAYER_ID_NEW'].isna()]\n",
        "game_stats.shape"
      ]
    },
    {
      "cell_type": "code",
      "execution_count": 65,
      "metadata": {
        "id": "8D4K1pJbgafm"
      },
      "outputs": [],
      "source": [
        "game_stats['PLAYER_ID'] = game_stats['PLAYER_ID_NEW'].astype(int)"
      ]
    },
    {
      "cell_type": "code",
      "execution_count": 66,
      "metadata": {
        "id": "TDGiSw-VYNFf"
      },
      "outputs": [],
      "source": [
        "game_stats = game_stats.merge(match_df[['match_id','season']],right_on='match_id',left_on='GAME_ID',how = 'left')"
      ]
    },
    {
      "cell_type": "code",
      "source": [
        "## Dataset for mapping for between Team and Match\n",
        "plays_df = game_stats[['match_id','TEAM_ID','season']].drop_duplicates()\n",
        "plays_df.shape"
      ],
      "metadata": {
        "colab": {
          "base_uri": "https://localhost:8080/"
        },
        "id": "EgkLPYsN99np",
        "outputId": "16b4b52c-1dcc-437b-ad81-cbf821cd42f6"
      },
      "execution_count": 67,
      "outputs": [
        {
          "output_type": "execute_result",
          "data": {
            "text/plain": [
              "(7208, 3)"
            ]
          },
          "metadata": {},
          "execution_count": 67
        }
      ]
    },
    {
      "cell_type": "code",
      "source": [
        "plays_df.to_csv(r'plays_data.csv',index=False)"
      ],
      "metadata": {
        "id": "oI576wju-AaF"
      },
      "execution_count": 68,
      "outputs": []
    },
    {
      "cell_type": "code",
      "execution_count": 69,
      "metadata": {
        "colab": {
          "base_uri": "https://localhost:8080/"
        },
        "id": "R7ds9pimW3or",
        "outputId": "aa9c2d46-6fa9-4e6f-c898-56dbd4ba36a3"
      },
      "outputs": [
        {
          "output_type": "execute_result",
          "data": {
            "text/plain": [
              "['match_id',\n",
              " 'player_id',\n",
              " 'FG_percent',\n",
              " 'FG3_percent',\n",
              " 'FT_percent',\n",
              " 'Offensive_rebound',\n",
              " 'Defensive_rebounds',\n",
              " 'rebounds',\n",
              " 'assists',\n",
              " 'steals',\n",
              " 'blocked_shots',\n",
              " 'turnovers',\n",
              " 'personal_fouls',\n",
              " 'points_scored']"
            ]
          },
          "metadata": {},
          "execution_count": 69
        }
      ],
      "source": [
        "cols = {'GAME_ID':'match_id','PLAYER_ID':'player_id','FG_PCT':'FG_percent','FG3_PCT':'FG3_percent','FT_PCT':'FT_percent',\n",
        "        'OREB':'Offensive_rebound','DREB':'Defensive_rebounds','REB':'rebounds','AST':'assists','STL':'steals','BLK':'blocked_shots',\n",
        "        'TO':'turnovers','PF':'personal_fouls','PTS':'points_scored'}\n",
        "cols_to_keep = list(cols.values())\n",
        "cols_to_keep"
      ]
    },
    {
      "cell_type": "code",
      "execution_count": 70,
      "metadata": {
        "colab": {
          "base_uri": "https://localhost:8080/",
          "height": 226
        },
        "id": "0z7XxulqW_sJ",
        "outputId": "fd10fbea-c9ed-4e4c-e493-5609f4dc0c1c"
      },
      "outputs": [
        {
          "output_type": "execute_result",
          "data": {
            "text/html": [
              "<div>\n",
              "<style scoped>\n",
              "    .dataframe tbody tr th:only-of-type {\n",
              "        vertical-align: middle;\n",
              "    }\n",
              "\n",
              "    .dataframe tbody tr th {\n",
              "        vertical-align: top;\n",
              "    }\n",
              "\n",
              "    .dataframe thead th {\n",
              "        text-align: right;\n",
              "    }\n",
              "</style>\n",
              "<table border=\"1\" class=\"dataframe\">\n",
              "  <thead>\n",
              "    <tr style=\"text-align: right;\">\n",
              "      <th></th>\n",
              "      <th>match_id</th>\n",
              "      <th>match_id</th>\n",
              "      <th>player_id</th>\n",
              "      <th>FG_percent</th>\n",
              "      <th>FG3_percent</th>\n",
              "      <th>FT_percent</th>\n",
              "      <th>Offensive_rebound</th>\n",
              "      <th>Defensive_rebounds</th>\n",
              "      <th>rebounds</th>\n",
              "      <th>assists</th>\n",
              "      <th>steals</th>\n",
              "      <th>blocked_shots</th>\n",
              "      <th>turnovers</th>\n",
              "      <th>personal_fouls</th>\n",
              "      <th>points_scored</th>\n",
              "    </tr>\n",
              "  </thead>\n",
              "  <tbody>\n",
              "    <tr>\n",
              "      <th>0</th>\n",
              "      <td>42000102</td>\n",
              "      <td>42000102</td>\n",
              "      <td>290</td>\n",
              "      <td>0.500</td>\n",
              "      <td>0.167</td>\n",
              "      <td>0.667</td>\n",
              "      <td>0.0</td>\n",
              "      <td>4.0</td>\n",
              "      <td>4.0</td>\n",
              "      <td>3.0</td>\n",
              "      <td>1.0</td>\n",
              "      <td>0.0</td>\n",
              "      <td>1.0</td>\n",
              "      <td>0.0</td>\n",
              "      <td>33.0</td>\n",
              "    </tr>\n",
              "    <tr>\n",
              "      <th>1</th>\n",
              "      <td>42000102</td>\n",
              "      <td>42000102</td>\n",
              "      <td>288</td>\n",
              "      <td>0.667</td>\n",
              "      <td>1.000</td>\n",
              "      <td>0.667</td>\n",
              "      <td>2.0</td>\n",
              "      <td>5.0</td>\n",
              "      <td>7.0</td>\n",
              "      <td>1.0</td>\n",
              "      <td>0.0</td>\n",
              "      <td>0.0</td>\n",
              "      <td>3.0</td>\n",
              "      <td>4.0</td>\n",
              "      <td>11.0</td>\n",
              "    </tr>\n",
              "    <tr>\n",
              "      <th>2</th>\n",
              "      <td>42000102</td>\n",
              "      <td>42000102</td>\n",
              "      <td>142</td>\n",
              "      <td>0.600</td>\n",
              "      <td>0.000</td>\n",
              "      <td>0.000</td>\n",
              "      <td>3.0</td>\n",
              "      <td>2.0</td>\n",
              "      <td>5.0</td>\n",
              "      <td>0.0</td>\n",
              "      <td>1.0</td>\n",
              "      <td>0.0</td>\n",
              "      <td>0.0</td>\n",
              "      <td>2.0</td>\n",
              "      <td>6.0</td>\n",
              "    </tr>\n",
              "    <tr>\n",
              "      <th>3</th>\n",
              "      <td>42000102</td>\n",
              "      <td>42000102</td>\n",
              "      <td>20</td>\n",
              "      <td>0.400</td>\n",
              "      <td>0.000</td>\n",
              "      <td>0.000</td>\n",
              "      <td>1.0</td>\n",
              "      <td>2.0</td>\n",
              "      <td>3.0</td>\n",
              "      <td>1.0</td>\n",
              "      <td>0.0</td>\n",
              "      <td>0.0</td>\n",
              "      <td>0.0</td>\n",
              "      <td>2.0</td>\n",
              "      <td>4.0</td>\n",
              "    </tr>\n",
              "    <tr>\n",
              "      <th>4</th>\n",
              "      <td>42000102</td>\n",
              "      <td>42000102</td>\n",
              "      <td>332</td>\n",
              "      <td>0.200</td>\n",
              "      <td>0.000</td>\n",
              "      <td>0.600</td>\n",
              "      <td>2.0</td>\n",
              "      <td>4.0</td>\n",
              "      <td>6.0</td>\n",
              "      <td>11.0</td>\n",
              "      <td>0.0</td>\n",
              "      <td>0.0</td>\n",
              "      <td>4.0</td>\n",
              "      <td>0.0</td>\n",
              "      <td>10.0</td>\n",
              "    </tr>\n",
              "  </tbody>\n",
              "</table>\n",
              "</div>"
            ],
            "text/plain": [
              "   match_id  match_id  player_id  ...  turnovers  personal_fouls  points_scored\n",
              "0  42000102  42000102        290  ...        1.0             0.0           33.0\n",
              "1  42000102  42000102        288  ...        3.0             4.0           11.0\n",
              "2  42000102  42000102        142  ...        0.0             2.0            6.0\n",
              "3  42000102  42000102         20  ...        0.0             2.0            4.0\n",
              "4  42000102  42000102        332  ...        4.0             0.0           10.0\n",
              "\n",
              "[5 rows x 15 columns]"
            ]
          },
          "metadata": {},
          "execution_count": 70
        }
      ],
      "source": [
        "game_stats.rename(columns=cols,inplace=True)\n",
        "game_stats1 = game_stats[cols_to_keep]\n",
        "game_stats1.head()"
      ]
    },
    {
      "cell_type": "code",
      "source": [
        "game_stats[game_stats['season']==2020].shape"
      ],
      "metadata": {
        "colab": {
          "base_uri": "https://localhost:8080/"
        },
        "id": "dQJ9nltZITqM",
        "outputId": "0b19f573-9429-451f-fc8c-ed76f9624c98"
      },
      "execution_count": 71,
      "outputs": [
        {
          "output_type": "execute_result",
          "data": {
            "text/plain": [
              "(26776, 31)"
            ]
          },
          "metadata": {},
          "execution_count": 71
        }
      ]
    },
    {
      "cell_type": "code",
      "source": [
        "req_df = game_stats[game_stats['season']==2020]\n",
        "req_df = req_df.groupby(['player_id'])['points_scored'].sum().reset_index().sort_values(by=['points_scored'],ascending=False)\n",
        "req_df = req_df.merge(players_df_final[['player_id','player_name']],on='player_id',how='left')\n",
        "req_df = req_df[:10]\n",
        "fig = px.bar(req_df, x='player_name', y='points_scored',title=\"Top 10 players with highest score\")\n",
        "fig.update_layout(width=800)\n",
        "fig.update_xaxes(title = 'Player Name')\n",
        "fig.update_yaxes(title = 'Highest Score')\n",
        "fig.show()"
      ],
      "metadata": {
        "colab": {
          "base_uri": "https://localhost:8080/",
          "height": 542
        },
        "id": "SrNP5L1WTqUc",
        "outputId": "d324581e-04ef-48da-f86f-bf8807278b1d"
      },
      "execution_count": 78,
      "outputs": [
        {
          "output_type": "display_data",
          "data": {
            "text/html": [
              "<html>\n",
              "<head><meta charset=\"utf-8\" /></head>\n",
              "<body>\n",
              "    <div>\n",
              "            <script src=\"https://cdnjs.cloudflare.com/ajax/libs/mathjax/2.7.5/MathJax.js?config=TeX-AMS-MML_SVG\"></script><script type=\"text/javascript\">if (window.MathJax) {MathJax.Hub.Config({SVG: {font: \"STIX-Web\"}});}</script>\n",
              "                <script type=\"text/javascript\">window.PlotlyConfig = {MathJaxConfig: 'local'};</script>\n",
              "        <script src=\"https://cdn.plot.ly/plotly-latest.min.js\"></script>    \n",
              "            <div id=\"463a5e5c-10a1-4a11-9337-266563c87aee\" class=\"plotly-graph-div\" style=\"height:525px; width:800px;\"></div>\n",
              "            <script type=\"text/javascript\">\n",
              "                \n",
              "                    window.PLOTLYENV=window.PLOTLYENV || {};\n",
              "                    \n",
              "                if (document.getElementById(\"463a5e5c-10a1-4a11-9337-266563c87aee\")) {\n",
              "                    Plotly.newPlot(\n",
              "                        '463a5e5c-10a1-4a11-9337-266563c87aee',\n",
              "                        [{\"alignmentgroup\": \"True\", \"hoverlabel\": {\"namelength\": 0}, \"hovertemplate\": \"player_name=%{x}<br>points_scored=%{y}\", \"legendgroup\": \"\", \"marker\": {\"color\": \"#636efa\"}, \"name\": \"\", \"offsetgroup\": \"\", \"orientation\": \"v\", \"showlegend\": false, \"textposition\": \"auto\", \"type\": \"bar\", \"x\": [\"Damyean Dotson\", \"Chris Jefferies\", \"Cameron Oliver\", \"Chinanu Onuaku\", \"Bimbo Coles\", \"Andre Barrett\", \"Cedric Bozeman\", \"Alec Burks\", \"Adreian Payne\", \"Antonio Davis\"], \"xaxis\": \"x\", \"y\": [2241.0, 2097.0, 2044.0, 2038.0, 1960.0, 1939.0, 1902.0, 1858.0, 1845.0, 1797.0], \"yaxis\": \"y\"}],\n",
              "                        {\"barmode\": \"relative\", \"legend\": {\"tracegroupgap\": 0}, \"template\": {\"data\": {\"bar\": [{\"error_x\": {\"color\": \"#2a3f5f\"}, \"error_y\": {\"color\": \"#2a3f5f\"}, \"marker\": {\"line\": {\"color\": \"#E5ECF6\", \"width\": 0.5}}, \"type\": \"bar\"}], \"barpolar\": [{\"marker\": {\"line\": {\"color\": \"#E5ECF6\", \"width\": 0.5}}, \"type\": \"barpolar\"}], \"carpet\": [{\"aaxis\": {\"endlinecolor\": \"#2a3f5f\", \"gridcolor\": \"white\", \"linecolor\": \"white\", \"minorgridcolor\": \"white\", \"startlinecolor\": \"#2a3f5f\"}, \"baxis\": {\"endlinecolor\": \"#2a3f5f\", \"gridcolor\": \"white\", \"linecolor\": \"white\", \"minorgridcolor\": \"white\", \"startlinecolor\": \"#2a3f5f\"}, \"type\": \"carpet\"}], \"choropleth\": [{\"colorbar\": {\"outlinewidth\": 0, \"ticks\": \"\"}, \"type\": \"choropleth\"}], \"contour\": [{\"colorbar\": {\"outlinewidth\": 0, \"ticks\": \"\"}, \"colorscale\": [[0.0, \"#0d0887\"], [0.1111111111111111, \"#46039f\"], [0.2222222222222222, \"#7201a8\"], [0.3333333333333333, \"#9c179e\"], [0.4444444444444444, \"#bd3786\"], [0.5555555555555556, \"#d8576b\"], [0.6666666666666666, \"#ed7953\"], [0.7777777777777778, \"#fb9f3a\"], [0.8888888888888888, \"#fdca26\"], [1.0, \"#f0f921\"]], \"type\": \"contour\"}], \"contourcarpet\": [{\"colorbar\": {\"outlinewidth\": 0, \"ticks\": \"\"}, \"type\": \"contourcarpet\"}], \"heatmap\": [{\"colorbar\": {\"outlinewidth\": 0, \"ticks\": \"\"}, \"colorscale\": [[0.0, \"#0d0887\"], [0.1111111111111111, \"#46039f\"], [0.2222222222222222, \"#7201a8\"], [0.3333333333333333, \"#9c179e\"], [0.4444444444444444, \"#bd3786\"], [0.5555555555555556, \"#d8576b\"], [0.6666666666666666, \"#ed7953\"], [0.7777777777777778, \"#fb9f3a\"], [0.8888888888888888, \"#fdca26\"], [1.0, \"#f0f921\"]], \"type\": \"heatmap\"}], \"heatmapgl\": [{\"colorbar\": {\"outlinewidth\": 0, \"ticks\": \"\"}, \"colorscale\": [[0.0, \"#0d0887\"], [0.1111111111111111, \"#46039f\"], [0.2222222222222222, \"#7201a8\"], [0.3333333333333333, \"#9c179e\"], [0.4444444444444444, \"#bd3786\"], [0.5555555555555556, \"#d8576b\"], [0.6666666666666666, \"#ed7953\"], [0.7777777777777778, \"#fb9f3a\"], [0.8888888888888888, \"#fdca26\"], [1.0, \"#f0f921\"]], \"type\": \"heatmapgl\"}], \"histogram\": [{\"marker\": {\"colorbar\": {\"outlinewidth\": 0, \"ticks\": \"\"}}, \"type\": \"histogram\"}], \"histogram2d\": [{\"colorbar\": {\"outlinewidth\": 0, \"ticks\": \"\"}, \"colorscale\": [[0.0, \"#0d0887\"], [0.1111111111111111, \"#46039f\"], [0.2222222222222222, \"#7201a8\"], [0.3333333333333333, \"#9c179e\"], [0.4444444444444444, \"#bd3786\"], [0.5555555555555556, \"#d8576b\"], [0.6666666666666666, \"#ed7953\"], [0.7777777777777778, \"#fb9f3a\"], [0.8888888888888888, \"#fdca26\"], [1.0, \"#f0f921\"]], \"type\": \"histogram2d\"}], \"histogram2dcontour\": [{\"colorbar\": {\"outlinewidth\": 0, \"ticks\": \"\"}, \"colorscale\": [[0.0, \"#0d0887\"], [0.1111111111111111, \"#46039f\"], [0.2222222222222222, \"#7201a8\"], [0.3333333333333333, \"#9c179e\"], [0.4444444444444444, \"#bd3786\"], [0.5555555555555556, \"#d8576b\"], [0.6666666666666666, \"#ed7953\"], [0.7777777777777778, \"#fb9f3a\"], [0.8888888888888888, \"#fdca26\"], [1.0, \"#f0f921\"]], \"type\": \"histogram2dcontour\"}], \"mesh3d\": [{\"colorbar\": {\"outlinewidth\": 0, \"ticks\": \"\"}, \"type\": \"mesh3d\"}], \"parcoords\": [{\"line\": {\"colorbar\": {\"outlinewidth\": 0, \"ticks\": \"\"}}, \"type\": \"parcoords\"}], \"pie\": [{\"automargin\": true, \"type\": \"pie\"}], \"scatter\": [{\"marker\": {\"colorbar\": {\"outlinewidth\": 0, \"ticks\": \"\"}}, \"type\": \"scatter\"}], \"scatter3d\": [{\"line\": {\"colorbar\": {\"outlinewidth\": 0, \"ticks\": \"\"}}, \"marker\": {\"colorbar\": {\"outlinewidth\": 0, \"ticks\": \"\"}}, \"type\": \"scatter3d\"}], \"scattercarpet\": [{\"marker\": {\"colorbar\": {\"outlinewidth\": 0, \"ticks\": \"\"}}, \"type\": \"scattercarpet\"}], \"scattergeo\": [{\"marker\": {\"colorbar\": {\"outlinewidth\": 0, \"ticks\": \"\"}}, \"type\": \"scattergeo\"}], \"scattergl\": [{\"marker\": {\"colorbar\": {\"outlinewidth\": 0, \"ticks\": \"\"}}, \"type\": \"scattergl\"}], \"scattermapbox\": [{\"marker\": {\"colorbar\": {\"outlinewidth\": 0, \"ticks\": \"\"}}, \"type\": \"scattermapbox\"}], \"scatterpolar\": [{\"marker\": {\"colorbar\": {\"outlinewidth\": 0, \"ticks\": \"\"}}, \"type\": \"scatterpolar\"}], \"scatterpolargl\": [{\"marker\": {\"colorbar\": {\"outlinewidth\": 0, \"ticks\": \"\"}}, \"type\": \"scatterpolargl\"}], \"scatterternary\": [{\"marker\": {\"colorbar\": {\"outlinewidth\": 0, \"ticks\": \"\"}}, \"type\": \"scatterternary\"}], \"surface\": [{\"colorbar\": {\"outlinewidth\": 0, \"ticks\": \"\"}, \"colorscale\": [[0.0, \"#0d0887\"], [0.1111111111111111, \"#46039f\"], [0.2222222222222222, \"#7201a8\"], [0.3333333333333333, \"#9c179e\"], [0.4444444444444444, \"#bd3786\"], [0.5555555555555556, \"#d8576b\"], [0.6666666666666666, \"#ed7953\"], [0.7777777777777778, \"#fb9f3a\"], [0.8888888888888888, \"#fdca26\"], [1.0, \"#f0f921\"]], \"type\": \"surface\"}], \"table\": [{\"cells\": {\"fill\": {\"color\": \"#EBF0F8\"}, \"line\": {\"color\": \"white\"}}, \"header\": {\"fill\": {\"color\": \"#C8D4E3\"}, \"line\": {\"color\": \"white\"}}, \"type\": \"table\"}]}, \"layout\": {\"annotationdefaults\": {\"arrowcolor\": \"#2a3f5f\", \"arrowhead\": 0, \"arrowwidth\": 1}, \"coloraxis\": {\"colorbar\": {\"outlinewidth\": 0, \"ticks\": \"\"}}, \"colorscale\": {\"diverging\": [[0, \"#8e0152\"], [0.1, \"#c51b7d\"], [0.2, \"#de77ae\"], [0.3, \"#f1b6da\"], [0.4, \"#fde0ef\"], [0.5, \"#f7f7f7\"], [0.6, \"#e6f5d0\"], [0.7, \"#b8e186\"], [0.8, \"#7fbc41\"], [0.9, \"#4d9221\"], [1, \"#276419\"]], \"sequential\": [[0.0, \"#0d0887\"], [0.1111111111111111, \"#46039f\"], [0.2222222222222222, \"#7201a8\"], [0.3333333333333333, \"#9c179e\"], [0.4444444444444444, \"#bd3786\"], [0.5555555555555556, \"#d8576b\"], [0.6666666666666666, \"#ed7953\"], [0.7777777777777778, \"#fb9f3a\"], [0.8888888888888888, \"#fdca26\"], [1.0, \"#f0f921\"]], \"sequentialminus\": [[0.0, \"#0d0887\"], [0.1111111111111111, \"#46039f\"], [0.2222222222222222, \"#7201a8\"], [0.3333333333333333, \"#9c179e\"], [0.4444444444444444, \"#bd3786\"], [0.5555555555555556, \"#d8576b\"], [0.6666666666666666, \"#ed7953\"], [0.7777777777777778, \"#fb9f3a\"], [0.8888888888888888, \"#fdca26\"], [1.0, \"#f0f921\"]]}, \"colorway\": [\"#636efa\", \"#EF553B\", \"#00cc96\", \"#ab63fa\", \"#FFA15A\", \"#19d3f3\", \"#FF6692\", \"#B6E880\", \"#FF97FF\", \"#FECB52\"], \"font\": {\"color\": \"#2a3f5f\"}, \"geo\": {\"bgcolor\": \"white\", \"lakecolor\": \"white\", \"landcolor\": \"#E5ECF6\", \"showlakes\": true, \"showland\": true, \"subunitcolor\": \"white\"}, \"hoverlabel\": {\"align\": \"left\"}, \"hovermode\": \"closest\", \"mapbox\": {\"style\": \"light\"}, \"paper_bgcolor\": \"white\", \"plot_bgcolor\": \"#E5ECF6\", \"polar\": {\"angularaxis\": {\"gridcolor\": \"white\", \"linecolor\": \"white\", \"ticks\": \"\"}, \"bgcolor\": \"#E5ECF6\", \"radialaxis\": {\"gridcolor\": \"white\", \"linecolor\": \"white\", \"ticks\": \"\"}}, \"scene\": {\"xaxis\": {\"backgroundcolor\": \"#E5ECF6\", \"gridcolor\": \"white\", \"gridwidth\": 2, \"linecolor\": \"white\", \"showbackground\": true, \"ticks\": \"\", \"zerolinecolor\": \"white\"}, \"yaxis\": {\"backgroundcolor\": \"#E5ECF6\", \"gridcolor\": \"white\", \"gridwidth\": 2, \"linecolor\": \"white\", \"showbackground\": true, \"ticks\": \"\", \"zerolinecolor\": \"white\"}, \"zaxis\": {\"backgroundcolor\": \"#E5ECF6\", \"gridcolor\": \"white\", \"gridwidth\": 2, \"linecolor\": \"white\", \"showbackground\": true, \"ticks\": \"\", \"zerolinecolor\": \"white\"}}, \"shapedefaults\": {\"line\": {\"color\": \"#2a3f5f\"}}, \"ternary\": {\"aaxis\": {\"gridcolor\": \"white\", \"linecolor\": \"white\", \"ticks\": \"\"}, \"baxis\": {\"gridcolor\": \"white\", \"linecolor\": \"white\", \"ticks\": \"\"}, \"bgcolor\": \"#E5ECF6\", \"caxis\": {\"gridcolor\": \"white\", \"linecolor\": \"white\", \"ticks\": \"\"}}, \"title\": {\"x\": 0.05}, \"xaxis\": {\"automargin\": true, \"gridcolor\": \"white\", \"linecolor\": \"white\", \"ticks\": \"\", \"title\": {\"standoff\": 15}, \"zerolinecolor\": \"white\", \"zerolinewidth\": 2}, \"yaxis\": {\"automargin\": true, \"gridcolor\": \"white\", \"linecolor\": \"white\", \"ticks\": \"\", \"title\": {\"standoff\": 15}, \"zerolinecolor\": \"white\", \"zerolinewidth\": 2}}}, \"title\": {\"text\": \"Top 10 players with highest score\"}, \"width\": 800, \"xaxis\": {\"anchor\": \"y\", \"domain\": [0.0, 1.0], \"title\": {\"text\": \"Player Name\"}}, \"yaxis\": {\"anchor\": \"x\", \"domain\": [0.0, 1.0], \"title\": {\"text\": \"Highest Score\"}}},\n",
              "                        {\"responsive\": true}\n",
              "                    ).then(function(){\n",
              "                            \n",
              "var gd = document.getElementById('463a5e5c-10a1-4a11-9337-266563c87aee');\n",
              "var x = new MutationObserver(function (mutations, observer) {{\n",
              "        var display = window.getComputedStyle(gd).display;\n",
              "        if (!display || display === 'none') {{\n",
              "            console.log([gd, 'removed!']);\n",
              "            Plotly.purge(gd);\n",
              "            observer.disconnect();\n",
              "        }}\n",
              "}});\n",
              "\n",
              "// Listen for the removal of the full notebook cells\n",
              "var notebookContainer = gd.closest('#notebook-container');\n",
              "if (notebookContainer) {{\n",
              "    x.observe(notebookContainer, {childList: true});\n",
              "}}\n",
              "\n",
              "// Listen for the clearing of the current output cell\n",
              "var outputEl = gd.closest('.output');\n",
              "if (outputEl) {{\n",
              "    x.observe(outputEl, {childList: true});\n",
              "}}\n",
              "\n",
              "                        })\n",
              "                };\n",
              "                \n",
              "            </script>\n",
              "        </div>\n",
              "</body>\n",
              "</html>"
            ]
          },
          "metadata": {}
        }
      ]
    },
    {
      "cell_type": "code",
      "source": [
        "lreq_df = game_stats[game_stats['season']==2020]\n",
        "req_df = req_df.groupby(['player_id'])['FG_percent'].mean().reset_index().sort_values(by=['FG_percent'],ascending=False)\n",
        "req_df = req_df.merge(players_df_final[['player_id','player_name']],on='player_id',how='left')\n",
        "req_df['FG_percent'] = req_df['FG_percent']*100\n",
        "req_df = req_df[:10]\n",
        "fig = px.bar(req_df, x='player_name', y='FG_percent',title=\"Top 10 players with highest FG %\")\n",
        "fig.update_layout(width=800)\n",
        "fig.update_xaxes(title = 'Player Name')\n",
        "fig.update_yaxes(title = '% of Field Goals')\n",
        "fig.show()"
      ],
      "metadata": {
        "colab": {
          "base_uri": "https://localhost:8080/",
          "height": 380
        },
        "id": "6M5xo1-uIeKh",
        "outputId": "b1908c32-86bf-4672-fda0-ef05557ffdfe"
      },
      "execution_count": 79,
      "outputs": [
        {
          "output_type": "error",
          "ename": "KeyError",
          "evalue": "ignored",
          "traceback": [
            "\u001b[0;31m---------------------------------------------------------------------------\u001b[0m",
            "\u001b[0;31mKeyError\u001b[0m                                  Traceback (most recent call last)",
            "\u001b[0;32m<ipython-input-79-7bd681708402>\u001b[0m in \u001b[0;36m<module>\u001b[0;34m()\u001b[0m\n\u001b[1;32m      1\u001b[0m \u001b[0mlreq_df\u001b[0m \u001b[0;34m=\u001b[0m \u001b[0mgame_stats\u001b[0m\u001b[0;34m[\u001b[0m\u001b[0mgame_stats\u001b[0m\u001b[0;34m[\u001b[0m\u001b[0;34m'season'\u001b[0m\u001b[0;34m]\u001b[0m\u001b[0;34m==\u001b[0m\u001b[0;36m2020\u001b[0m\u001b[0;34m]\u001b[0m\u001b[0;34m\u001b[0m\u001b[0;34m\u001b[0m\u001b[0m\n\u001b[0;32m----> 2\u001b[0;31m \u001b[0mreq_df\u001b[0m \u001b[0;34m=\u001b[0m \u001b[0mreq_df\u001b[0m\u001b[0;34m.\u001b[0m\u001b[0mgroupby\u001b[0m\u001b[0;34m(\u001b[0m\u001b[0;34m[\u001b[0m\u001b[0;34m'player_id'\u001b[0m\u001b[0;34m]\u001b[0m\u001b[0;34m)\u001b[0m\u001b[0;34m[\u001b[0m\u001b[0;34m'FG_percent'\u001b[0m\u001b[0;34m]\u001b[0m\u001b[0;34m.\u001b[0m\u001b[0mmean\u001b[0m\u001b[0;34m(\u001b[0m\u001b[0;34m)\u001b[0m\u001b[0;34m.\u001b[0m\u001b[0mreset_index\u001b[0m\u001b[0;34m(\u001b[0m\u001b[0;34m)\u001b[0m\u001b[0;34m.\u001b[0m\u001b[0msort_values\u001b[0m\u001b[0;34m(\u001b[0m\u001b[0mby\u001b[0m\u001b[0;34m=\u001b[0m\u001b[0;34m[\u001b[0m\u001b[0;34m'FG_percent'\u001b[0m\u001b[0;34m]\u001b[0m\u001b[0;34m,\u001b[0m\u001b[0mascending\u001b[0m\u001b[0;34m=\u001b[0m\u001b[0;32mFalse\u001b[0m\u001b[0;34m)\u001b[0m\u001b[0;34m\u001b[0m\u001b[0;34m\u001b[0m\u001b[0m\n\u001b[0m\u001b[1;32m      3\u001b[0m \u001b[0mreq_df\u001b[0m \u001b[0;34m=\u001b[0m \u001b[0mreq_df\u001b[0m\u001b[0;34m.\u001b[0m\u001b[0mmerge\u001b[0m\u001b[0;34m(\u001b[0m\u001b[0mplayers_df_final\u001b[0m\u001b[0;34m[\u001b[0m\u001b[0;34m[\u001b[0m\u001b[0;34m'player_id'\u001b[0m\u001b[0;34m,\u001b[0m\u001b[0;34m'player_name'\u001b[0m\u001b[0;34m]\u001b[0m\u001b[0;34m]\u001b[0m\u001b[0;34m,\u001b[0m\u001b[0mon\u001b[0m\u001b[0;34m=\u001b[0m\u001b[0;34m'player_id'\u001b[0m\u001b[0;34m,\u001b[0m\u001b[0mhow\u001b[0m\u001b[0;34m=\u001b[0m\u001b[0;34m'left'\u001b[0m\u001b[0;34m)\u001b[0m\u001b[0;34m\u001b[0m\u001b[0;34m\u001b[0m\u001b[0m\n\u001b[1;32m      4\u001b[0m \u001b[0mreq_df\u001b[0m\u001b[0;34m[\u001b[0m\u001b[0;34m'FG_percent'\u001b[0m\u001b[0;34m]\u001b[0m \u001b[0;34m=\u001b[0m \u001b[0mreq_df\u001b[0m\u001b[0;34m[\u001b[0m\u001b[0;34m'FG_percent'\u001b[0m\u001b[0;34m]\u001b[0m\u001b[0;34m*\u001b[0m\u001b[0;36m100\u001b[0m\u001b[0;34m\u001b[0m\u001b[0;34m\u001b[0m\u001b[0m\n\u001b[1;32m      5\u001b[0m \u001b[0mreq_df\u001b[0m \u001b[0;34m=\u001b[0m \u001b[0mreq_df\u001b[0m\u001b[0;34m[\u001b[0m\u001b[0;34m:\u001b[0m\u001b[0;36m10\u001b[0m\u001b[0;34m]\u001b[0m\u001b[0;34m\u001b[0m\u001b[0;34m\u001b[0m\u001b[0m\n",
            "\u001b[0;32m/usr/local/lib/python3.7/dist-packages/pandas/core/groupby/generic.py\u001b[0m in \u001b[0;36m__getitem__\u001b[0;34m(self, key)\u001b[0m\n\u001b[1;32m   1608\u001b[0m                 \u001b[0mstacklevel\u001b[0m\u001b[0;34m=\u001b[0m\u001b[0;36m2\u001b[0m\u001b[0;34m,\u001b[0m\u001b[0;34m\u001b[0m\u001b[0;34m\u001b[0m\u001b[0m\n\u001b[1;32m   1609\u001b[0m             )\n\u001b[0;32m-> 1610\u001b[0;31m         \u001b[0;32mreturn\u001b[0m \u001b[0msuper\u001b[0m\u001b[0;34m(\u001b[0m\u001b[0;34m)\u001b[0m\u001b[0;34m.\u001b[0m\u001b[0m__getitem__\u001b[0m\u001b[0;34m(\u001b[0m\u001b[0mkey\u001b[0m\u001b[0;34m)\u001b[0m\u001b[0;34m\u001b[0m\u001b[0;34m\u001b[0m\u001b[0m\n\u001b[0m\u001b[1;32m   1611\u001b[0m \u001b[0;34m\u001b[0m\u001b[0m\n\u001b[1;32m   1612\u001b[0m     \u001b[0;32mdef\u001b[0m \u001b[0m_gotitem\u001b[0m\u001b[0;34m(\u001b[0m\u001b[0mself\u001b[0m\u001b[0;34m,\u001b[0m \u001b[0mkey\u001b[0m\u001b[0;34m,\u001b[0m \u001b[0mndim\u001b[0m\u001b[0;34m:\u001b[0m \u001b[0mint\u001b[0m\u001b[0;34m,\u001b[0m \u001b[0msubset\u001b[0m\u001b[0;34m=\u001b[0m\u001b[0;32mNone\u001b[0m\u001b[0;34m)\u001b[0m\u001b[0;34m:\u001b[0m\u001b[0;34m\u001b[0m\u001b[0;34m\u001b[0m\u001b[0m\n",
            "\u001b[0;32m/usr/local/lib/python3.7/dist-packages/pandas/core/base.py\u001b[0m in \u001b[0;36m__getitem__\u001b[0;34m(self, key)\u001b[0m\n\u001b[1;32m    226\u001b[0m         \u001b[0;32melse\u001b[0m\u001b[0;34m:\u001b[0m\u001b[0;34m\u001b[0m\u001b[0;34m\u001b[0m\u001b[0m\n\u001b[1;32m    227\u001b[0m             \u001b[0;32mif\u001b[0m \u001b[0mkey\u001b[0m \u001b[0;32mnot\u001b[0m \u001b[0;32min\u001b[0m \u001b[0mself\u001b[0m\u001b[0;34m.\u001b[0m\u001b[0mobj\u001b[0m\u001b[0;34m:\u001b[0m\u001b[0;34m\u001b[0m\u001b[0;34m\u001b[0m\u001b[0m\n\u001b[0;32m--> 228\u001b[0;31m                 \u001b[0;32mraise\u001b[0m \u001b[0mKeyError\u001b[0m\u001b[0;34m(\u001b[0m\u001b[0;34mf\"Column not found: {key}\"\u001b[0m\u001b[0;34m)\u001b[0m\u001b[0;34m\u001b[0m\u001b[0;34m\u001b[0m\u001b[0m\n\u001b[0m\u001b[1;32m    229\u001b[0m             \u001b[0;32mreturn\u001b[0m \u001b[0mself\u001b[0m\u001b[0;34m.\u001b[0m\u001b[0m_gotitem\u001b[0m\u001b[0;34m(\u001b[0m\u001b[0mkey\u001b[0m\u001b[0;34m,\u001b[0m \u001b[0mndim\u001b[0m\u001b[0;34m=\u001b[0m\u001b[0;36m1\u001b[0m\u001b[0;34m)\u001b[0m\u001b[0;34m\u001b[0m\u001b[0;34m\u001b[0m\u001b[0m\n\u001b[1;32m    230\u001b[0m \u001b[0;34m\u001b[0m\u001b[0m\n",
            "\u001b[0;31mKeyError\u001b[0m: 'Column not found: FG_percent'"
          ]
        }
      ]
    },
    {
      "cell_type": "code",
      "source": [
        "req_df = game_stats[game_stats['season']==2020]\n",
        "req_df = req_df.groupby(['player_id'])['FT_percent'].mean().reset_index().sort_values(by=['FT_percent'],ascending=False)\n",
        "req_df = req_df.merge(players_df_final[['player_id','player_name']],on='player_id',how='left')\n",
        "req_df['FT_percent'] = req_df['FT_percent']*100\n",
        "req_df = req_df[:10]\n",
        "fig = px.bar(req_df, x='player_name', y='FT_percent',title=\"Top 10 players with highest FT %\")\n",
        "fig.update_layout(width=800)\n",
        "fig.update_xaxes(title = 'Player Name')\n",
        "fig.update_yaxes(title = '% of Free Throws')\n",
        "fig.show()"
      ],
      "metadata": {
        "colab": {
          "base_uri": "https://localhost:8080/",
          "height": 542
        },
        "id": "HJrZ-p4uKVpL",
        "outputId": "4d1b769d-7fc4-4aa0-c05c-9345b5f0e8ae"
      },
      "execution_count": 80,
      "outputs": [
        {
          "output_type": "display_data",
          "data": {
            "text/html": [
              "<html>\n",
              "<head><meta charset=\"utf-8\" /></head>\n",
              "<body>\n",
              "    <div>\n",
              "            <script src=\"https://cdnjs.cloudflare.com/ajax/libs/mathjax/2.7.5/MathJax.js?config=TeX-AMS-MML_SVG\"></script><script type=\"text/javascript\">if (window.MathJax) {MathJax.Hub.Config({SVG: {font: \"STIX-Web\"}});}</script>\n",
              "                <script type=\"text/javascript\">window.PlotlyConfig = {MathJaxConfig: 'local'};</script>\n",
              "        <script src=\"https://cdn.plot.ly/plotly-latest.min.js\"></script>    \n",
              "            <div id=\"85c38d57-3f9e-456c-bd75-d4cc3bc5ef79\" class=\"plotly-graph-div\" style=\"height:525px; width:800px;\"></div>\n",
              "            <script type=\"text/javascript\">\n",
              "                \n",
              "                    window.PLOTLYENV=window.PLOTLYENV || {};\n",
              "                    \n",
              "                if (document.getElementById(\"85c38d57-3f9e-456c-bd75-d4cc3bc5ef79\")) {\n",
              "                    Plotly.newPlot(\n",
              "                        '85c38d57-3f9e-456c-bd75-d4cc3bc5ef79',\n",
              "                        [{\"alignmentgroup\": \"True\", \"hoverlabel\": {\"namelength\": 0}, \"hovertemplate\": \"player_name=%{x}<br>FT_percent=%{y}\", \"legendgroup\": \"\", \"marker\": {\"color\": \"#636efa\"}, \"name\": \"\", \"offsetgroup\": \"\", \"orientation\": \"v\", \"showlegend\": false, \"textposition\": \"auto\", \"type\": \"bar\", \"x\": [\"Aaron Miles\", \"Damyean Dotson\", \"Chris Jefferies\", \"Antonio Davis\", \"Andrew Nicholson\", \"Danuel House Jr.\", \"Danny Manning\", \"Cameron Oliver\", \"Abdel Nader\", \"Furkan Aldemir\"], \"xaxis\": \"x\", \"y\": [100.0, 89.13661971830984, 88.21066666666665, 88.01111111111109, 87.5, 87.5, 86.74999999999997, 85.844776119403, 85.61272727272726, 83.33333333333334], \"yaxis\": \"y\"}],\n",
              "                        {\"barmode\": \"relative\", \"legend\": {\"tracegroupgap\": 0}, \"template\": {\"data\": {\"bar\": [{\"error_x\": {\"color\": \"#2a3f5f\"}, \"error_y\": {\"color\": \"#2a3f5f\"}, \"marker\": {\"line\": {\"color\": \"#E5ECF6\", \"width\": 0.5}}, \"type\": \"bar\"}], \"barpolar\": [{\"marker\": {\"line\": {\"color\": \"#E5ECF6\", \"width\": 0.5}}, \"type\": \"barpolar\"}], \"carpet\": [{\"aaxis\": {\"endlinecolor\": \"#2a3f5f\", \"gridcolor\": \"white\", \"linecolor\": \"white\", \"minorgridcolor\": \"white\", \"startlinecolor\": \"#2a3f5f\"}, \"baxis\": {\"endlinecolor\": \"#2a3f5f\", \"gridcolor\": \"white\", \"linecolor\": \"white\", \"minorgridcolor\": \"white\", \"startlinecolor\": \"#2a3f5f\"}, \"type\": \"carpet\"}], \"choropleth\": [{\"colorbar\": {\"outlinewidth\": 0, \"ticks\": \"\"}, \"type\": \"choropleth\"}], \"contour\": [{\"colorbar\": {\"outlinewidth\": 0, \"ticks\": \"\"}, \"colorscale\": [[0.0, \"#0d0887\"], [0.1111111111111111, \"#46039f\"], [0.2222222222222222, \"#7201a8\"], [0.3333333333333333, \"#9c179e\"], [0.4444444444444444, \"#bd3786\"], [0.5555555555555556, \"#d8576b\"], [0.6666666666666666, \"#ed7953\"], [0.7777777777777778, \"#fb9f3a\"], [0.8888888888888888, \"#fdca26\"], [1.0, \"#f0f921\"]], \"type\": \"contour\"}], \"contourcarpet\": [{\"colorbar\": {\"outlinewidth\": 0, \"ticks\": \"\"}, \"type\": \"contourcarpet\"}], \"heatmap\": [{\"colorbar\": {\"outlinewidth\": 0, \"ticks\": \"\"}, \"colorscale\": [[0.0, \"#0d0887\"], [0.1111111111111111, \"#46039f\"], [0.2222222222222222, \"#7201a8\"], [0.3333333333333333, \"#9c179e\"], [0.4444444444444444, \"#bd3786\"], [0.5555555555555556, \"#d8576b\"], [0.6666666666666666, \"#ed7953\"], [0.7777777777777778, \"#fb9f3a\"], [0.8888888888888888, \"#fdca26\"], [1.0, \"#f0f921\"]], \"type\": \"heatmap\"}], \"heatmapgl\": [{\"colorbar\": {\"outlinewidth\": 0, \"ticks\": \"\"}, \"colorscale\": [[0.0, \"#0d0887\"], [0.1111111111111111, \"#46039f\"], [0.2222222222222222, \"#7201a8\"], [0.3333333333333333, \"#9c179e\"], [0.4444444444444444, \"#bd3786\"], [0.5555555555555556, \"#d8576b\"], [0.6666666666666666, \"#ed7953\"], [0.7777777777777778, \"#fb9f3a\"], [0.8888888888888888, \"#fdca26\"], [1.0, \"#f0f921\"]], \"type\": \"heatmapgl\"}], \"histogram\": [{\"marker\": {\"colorbar\": {\"outlinewidth\": 0, \"ticks\": \"\"}}, \"type\": \"histogram\"}], \"histogram2d\": [{\"colorbar\": {\"outlinewidth\": 0, \"ticks\": \"\"}, \"colorscale\": [[0.0, \"#0d0887\"], [0.1111111111111111, \"#46039f\"], [0.2222222222222222, \"#7201a8\"], [0.3333333333333333, \"#9c179e\"], [0.4444444444444444, \"#bd3786\"], [0.5555555555555556, \"#d8576b\"], [0.6666666666666666, \"#ed7953\"], [0.7777777777777778, \"#fb9f3a\"], [0.8888888888888888, \"#fdca26\"], [1.0, \"#f0f921\"]], \"type\": \"histogram2d\"}], \"histogram2dcontour\": [{\"colorbar\": {\"outlinewidth\": 0, \"ticks\": \"\"}, \"colorscale\": [[0.0, \"#0d0887\"], [0.1111111111111111, \"#46039f\"], [0.2222222222222222, \"#7201a8\"], [0.3333333333333333, \"#9c179e\"], [0.4444444444444444, \"#bd3786\"], [0.5555555555555556, \"#d8576b\"], [0.6666666666666666, \"#ed7953\"], [0.7777777777777778, \"#fb9f3a\"], [0.8888888888888888, \"#fdca26\"], [1.0, \"#f0f921\"]], \"type\": \"histogram2dcontour\"}], \"mesh3d\": [{\"colorbar\": {\"outlinewidth\": 0, \"ticks\": \"\"}, \"type\": \"mesh3d\"}], \"parcoords\": [{\"line\": {\"colorbar\": {\"outlinewidth\": 0, \"ticks\": \"\"}}, \"type\": \"parcoords\"}], \"pie\": [{\"automargin\": true, \"type\": \"pie\"}], \"scatter\": [{\"marker\": {\"colorbar\": {\"outlinewidth\": 0, \"ticks\": \"\"}}, \"type\": \"scatter\"}], \"scatter3d\": [{\"line\": {\"colorbar\": {\"outlinewidth\": 0, \"ticks\": \"\"}}, \"marker\": {\"colorbar\": {\"outlinewidth\": 0, \"ticks\": \"\"}}, \"type\": \"scatter3d\"}], \"scattercarpet\": [{\"marker\": {\"colorbar\": {\"outlinewidth\": 0, \"ticks\": \"\"}}, \"type\": \"scattercarpet\"}], \"scattergeo\": [{\"marker\": {\"colorbar\": {\"outlinewidth\": 0, \"ticks\": \"\"}}, \"type\": \"scattergeo\"}], \"scattergl\": [{\"marker\": {\"colorbar\": {\"outlinewidth\": 0, \"ticks\": \"\"}}, \"type\": \"scattergl\"}], \"scattermapbox\": [{\"marker\": {\"colorbar\": {\"outlinewidth\": 0, \"ticks\": \"\"}}, \"type\": \"scattermapbox\"}], \"scatterpolar\": [{\"marker\": {\"colorbar\": {\"outlinewidth\": 0, \"ticks\": \"\"}}, \"type\": \"scatterpolar\"}], \"scatterpolargl\": [{\"marker\": {\"colorbar\": {\"outlinewidth\": 0, \"ticks\": \"\"}}, \"type\": \"scatterpolargl\"}], \"scatterternary\": [{\"marker\": {\"colorbar\": {\"outlinewidth\": 0, \"ticks\": \"\"}}, \"type\": \"scatterternary\"}], \"surface\": [{\"colorbar\": {\"outlinewidth\": 0, \"ticks\": \"\"}, \"colorscale\": [[0.0, \"#0d0887\"], [0.1111111111111111, \"#46039f\"], [0.2222222222222222, \"#7201a8\"], [0.3333333333333333, \"#9c179e\"], [0.4444444444444444, \"#bd3786\"], [0.5555555555555556, \"#d8576b\"], [0.6666666666666666, \"#ed7953\"], [0.7777777777777778, \"#fb9f3a\"], [0.8888888888888888, \"#fdca26\"], [1.0, \"#f0f921\"]], \"type\": \"surface\"}], \"table\": [{\"cells\": {\"fill\": {\"color\": \"#EBF0F8\"}, \"line\": {\"color\": \"white\"}}, \"header\": {\"fill\": {\"color\": \"#C8D4E3\"}, \"line\": {\"color\": \"white\"}}, \"type\": \"table\"}]}, \"layout\": {\"annotationdefaults\": {\"arrowcolor\": \"#2a3f5f\", \"arrowhead\": 0, \"arrowwidth\": 1}, \"coloraxis\": {\"colorbar\": {\"outlinewidth\": 0, \"ticks\": \"\"}}, \"colorscale\": {\"diverging\": [[0, \"#8e0152\"], [0.1, \"#c51b7d\"], [0.2, \"#de77ae\"], [0.3, \"#f1b6da\"], [0.4, \"#fde0ef\"], [0.5, \"#f7f7f7\"], [0.6, \"#e6f5d0\"], [0.7, \"#b8e186\"], [0.8, \"#7fbc41\"], [0.9, \"#4d9221\"], [1, \"#276419\"]], \"sequential\": [[0.0, \"#0d0887\"], [0.1111111111111111, \"#46039f\"], [0.2222222222222222, \"#7201a8\"], [0.3333333333333333, \"#9c179e\"], [0.4444444444444444, \"#bd3786\"], [0.5555555555555556, \"#d8576b\"], [0.6666666666666666, \"#ed7953\"], [0.7777777777777778, \"#fb9f3a\"], [0.8888888888888888, \"#fdca26\"], [1.0, \"#f0f921\"]], \"sequentialminus\": [[0.0, \"#0d0887\"], [0.1111111111111111, \"#46039f\"], [0.2222222222222222, \"#7201a8\"], [0.3333333333333333, \"#9c179e\"], [0.4444444444444444, \"#bd3786\"], [0.5555555555555556, \"#d8576b\"], [0.6666666666666666, \"#ed7953\"], [0.7777777777777778, \"#fb9f3a\"], [0.8888888888888888, \"#fdca26\"], [1.0, \"#f0f921\"]]}, \"colorway\": [\"#636efa\", \"#EF553B\", \"#00cc96\", \"#ab63fa\", \"#FFA15A\", \"#19d3f3\", \"#FF6692\", \"#B6E880\", \"#FF97FF\", \"#FECB52\"], \"font\": {\"color\": \"#2a3f5f\"}, \"geo\": {\"bgcolor\": \"white\", \"lakecolor\": \"white\", \"landcolor\": \"#E5ECF6\", \"showlakes\": true, \"showland\": true, \"subunitcolor\": \"white\"}, \"hoverlabel\": {\"align\": \"left\"}, \"hovermode\": \"closest\", \"mapbox\": {\"style\": \"light\"}, \"paper_bgcolor\": \"white\", \"plot_bgcolor\": \"#E5ECF6\", \"polar\": {\"angularaxis\": {\"gridcolor\": \"white\", \"linecolor\": \"white\", \"ticks\": \"\"}, \"bgcolor\": \"#E5ECF6\", \"radialaxis\": {\"gridcolor\": \"white\", \"linecolor\": \"white\", \"ticks\": \"\"}}, \"scene\": {\"xaxis\": {\"backgroundcolor\": \"#E5ECF6\", \"gridcolor\": \"white\", \"gridwidth\": 2, \"linecolor\": \"white\", \"showbackground\": true, \"ticks\": \"\", \"zerolinecolor\": \"white\"}, \"yaxis\": {\"backgroundcolor\": \"#E5ECF6\", \"gridcolor\": \"white\", \"gridwidth\": 2, \"linecolor\": \"white\", \"showbackground\": true, \"ticks\": \"\", \"zerolinecolor\": \"white\"}, \"zaxis\": {\"backgroundcolor\": \"#E5ECF6\", \"gridcolor\": \"white\", \"gridwidth\": 2, \"linecolor\": \"white\", \"showbackground\": true, \"ticks\": \"\", \"zerolinecolor\": \"white\"}}, \"shapedefaults\": {\"line\": {\"color\": \"#2a3f5f\"}}, \"ternary\": {\"aaxis\": {\"gridcolor\": \"white\", \"linecolor\": \"white\", \"ticks\": \"\"}, \"baxis\": {\"gridcolor\": \"white\", \"linecolor\": \"white\", \"ticks\": \"\"}, \"bgcolor\": \"#E5ECF6\", \"caxis\": {\"gridcolor\": \"white\", \"linecolor\": \"white\", \"ticks\": \"\"}}, \"title\": {\"x\": 0.05}, \"xaxis\": {\"automargin\": true, \"gridcolor\": \"white\", \"linecolor\": \"white\", \"ticks\": \"\", \"title\": {\"standoff\": 15}, \"zerolinecolor\": \"white\", \"zerolinewidth\": 2}, \"yaxis\": {\"automargin\": true, \"gridcolor\": \"white\", \"linecolor\": \"white\", \"ticks\": \"\", \"title\": {\"standoff\": 15}, \"zerolinecolor\": \"white\", \"zerolinewidth\": 2}}}, \"title\": {\"text\": \"Top 10 players with highest FT %\"}, \"width\": 800, \"xaxis\": {\"anchor\": \"y\", \"domain\": [0.0, 1.0], \"title\": {\"text\": \"Player Name\"}}, \"yaxis\": {\"anchor\": \"x\", \"domain\": [0.0, 1.0], \"title\": {\"text\": \"% of Free Throws\"}}},\n",
              "                        {\"responsive\": true}\n",
              "                    ).then(function(){\n",
              "                            \n",
              "var gd = document.getElementById('85c38d57-3f9e-456c-bd75-d4cc3bc5ef79');\n",
              "var x = new MutationObserver(function (mutations, observer) {{\n",
              "        var display = window.getComputedStyle(gd).display;\n",
              "        if (!display || display === 'none') {{\n",
              "            console.log([gd, 'removed!']);\n",
              "            Plotly.purge(gd);\n",
              "            observer.disconnect();\n",
              "        }}\n",
              "}});\n",
              "\n",
              "// Listen for the removal of the full notebook cells\n",
              "var notebookContainer = gd.closest('#notebook-container');\n",
              "if (notebookContainer) {{\n",
              "    x.observe(notebookContainer, {childList: true});\n",
              "}}\n",
              "\n",
              "// Listen for the clearing of the current output cell\n",
              "var outputEl = gd.closest('.output');\n",
              "if (outputEl) {{\n",
              "    x.observe(outputEl, {childList: true});\n",
              "}}\n",
              "\n",
              "                        })\n",
              "                };\n",
              "                \n",
              "            </script>\n",
              "        </div>\n",
              "</body>\n",
              "</html>"
            ]
          },
          "metadata": {}
        }
      ]
    },
    {
      "cell_type": "code",
      "source": [
        "req_df = game_stats[game_stats['season']==2020]\n",
        "req_df = req_df.groupby(['player_id'])['FG3_percent'].mean().reset_index().sort_values(by=['FG3_percent'],ascending=False)\n",
        "req_df = req_df.merge(players_df_final[['player_id','player_name']],on='player_id',how='left')\n",
        "req_df['FG3_percent'] = req_df['FG3_percent']*100\n",
        "req_df = req_df[:10]\n",
        "fig = px.bar(req_df, x='player_name', y='FG3_percent',title=\"Top 10 players with highest FG3 %\")\n",
        "fig.update_layout(width=800)\n",
        "fig.update_xaxes(title = 'Player Name')\n",
        "fig.update_yaxes(title = '% of 3 Pointers')\n",
        "fig.show()"
      ],
      "metadata": {
        "colab": {
          "base_uri": "https://localhost:8080/",
          "height": 542
        },
        "id": "XTGHvN7rKSJq",
        "outputId": "5abaeca4-10fb-41cc-8a52-defa115157ad"
      },
      "execution_count": 81,
      "outputs": [
        {
          "output_type": "display_data",
          "data": {
            "text/html": [
              "<html>\n",
              "<head><meta charset=\"utf-8\" /></head>\n",
              "<body>\n",
              "    <div>\n",
              "            <script src=\"https://cdnjs.cloudflare.com/ajax/libs/mathjax/2.7.5/MathJax.js?config=TeX-AMS-MML_SVG\"></script><script type=\"text/javascript\">if (window.MathJax) {MathJax.Hub.Config({SVG: {font: \"STIX-Web\"}});}</script>\n",
              "                <script type=\"text/javascript\">window.PlotlyConfig = {MathJaxConfig: 'local'};</script>\n",
              "        <script src=\"https://cdn.plot.ly/plotly-latest.min.js\"></script>    \n",
              "            <div id=\"f1c46d24-b593-451c-9fd4-8b9b2257501e\" class=\"plotly-graph-div\" style=\"height:525px; width:800px;\"></div>\n",
              "            <script type=\"text/javascript\">\n",
              "                \n",
              "                    window.PLOTLYENV=window.PLOTLYENV || {};\n",
              "                    \n",
              "                if (document.getElementById(\"f1c46d24-b593-451c-9fd4-8b9b2257501e\")) {\n",
              "                    Plotly.newPlot(\n",
              "                        'f1c46d24-b593-451c-9fd4-8b9b2257501e',\n",
              "                        [{\"alignmentgroup\": \"True\", \"hoverlabel\": {\"namelength\": 0}, \"hovertemplate\": \"player_name=%{x}<br>FG3_percent=%{y}\", \"legendgroup\": \"\", \"marker\": {\"color\": \"#636efa\"}, \"name\": \"\", \"offsetgroup\": \"\", \"orientation\": \"v\", \"showlegend\": false, \"textposition\": \"auto\", \"type\": \"bar\", \"x\": [\"Bob Sura\", \"Don Reid\", \"Aaron Miles\", \"Clyde Drexler\", \"Danuel House Jr.\", \"Danny Manning\", \"Austin Rivers\", \"Damian Lillard\", \"Brandon Bass\", \"Charles O'Bannon\"], \"xaxis\": \"x\", \"y\": [100.0, 77.76666666666668, 50.0, 50.0, 50.0, 46.82619047619049, 46.136486486486476, 45.72, 44.79183673469388, 44.3135593220339], \"yaxis\": \"y\"}],\n",
              "                        {\"barmode\": \"relative\", \"legend\": {\"tracegroupgap\": 0}, \"template\": {\"data\": {\"bar\": [{\"error_x\": {\"color\": \"#2a3f5f\"}, \"error_y\": {\"color\": \"#2a3f5f\"}, \"marker\": {\"line\": {\"color\": \"#E5ECF6\", \"width\": 0.5}}, \"type\": \"bar\"}], \"barpolar\": [{\"marker\": {\"line\": {\"color\": \"#E5ECF6\", \"width\": 0.5}}, \"type\": \"barpolar\"}], \"carpet\": [{\"aaxis\": {\"endlinecolor\": \"#2a3f5f\", \"gridcolor\": \"white\", \"linecolor\": \"white\", \"minorgridcolor\": \"white\", \"startlinecolor\": \"#2a3f5f\"}, \"baxis\": {\"endlinecolor\": \"#2a3f5f\", \"gridcolor\": \"white\", \"linecolor\": \"white\", \"minorgridcolor\": \"white\", \"startlinecolor\": \"#2a3f5f\"}, \"type\": \"carpet\"}], \"choropleth\": [{\"colorbar\": {\"outlinewidth\": 0, \"ticks\": \"\"}, \"type\": \"choropleth\"}], \"contour\": [{\"colorbar\": {\"outlinewidth\": 0, \"ticks\": \"\"}, \"colorscale\": [[0.0, \"#0d0887\"], [0.1111111111111111, \"#46039f\"], [0.2222222222222222, \"#7201a8\"], [0.3333333333333333, \"#9c179e\"], [0.4444444444444444, \"#bd3786\"], [0.5555555555555556, \"#d8576b\"], [0.6666666666666666, \"#ed7953\"], [0.7777777777777778, \"#fb9f3a\"], [0.8888888888888888, \"#fdca26\"], [1.0, \"#f0f921\"]], \"type\": \"contour\"}], \"contourcarpet\": [{\"colorbar\": {\"outlinewidth\": 0, \"ticks\": \"\"}, \"type\": \"contourcarpet\"}], \"heatmap\": [{\"colorbar\": {\"outlinewidth\": 0, \"ticks\": \"\"}, \"colorscale\": [[0.0, \"#0d0887\"], [0.1111111111111111, \"#46039f\"], [0.2222222222222222, \"#7201a8\"], [0.3333333333333333, \"#9c179e\"], [0.4444444444444444, \"#bd3786\"], [0.5555555555555556, \"#d8576b\"], [0.6666666666666666, \"#ed7953\"], [0.7777777777777778, \"#fb9f3a\"], [0.8888888888888888, \"#fdca26\"], [1.0, \"#f0f921\"]], \"type\": \"heatmap\"}], \"heatmapgl\": [{\"colorbar\": {\"outlinewidth\": 0, \"ticks\": \"\"}, \"colorscale\": [[0.0, \"#0d0887\"], [0.1111111111111111, \"#46039f\"], [0.2222222222222222, \"#7201a8\"], [0.3333333333333333, \"#9c179e\"], [0.4444444444444444, \"#bd3786\"], [0.5555555555555556, \"#d8576b\"], [0.6666666666666666, \"#ed7953\"], [0.7777777777777778, \"#fb9f3a\"], [0.8888888888888888, \"#fdca26\"], [1.0, \"#f0f921\"]], \"type\": \"heatmapgl\"}], \"histogram\": [{\"marker\": {\"colorbar\": {\"outlinewidth\": 0, \"ticks\": \"\"}}, \"type\": \"histogram\"}], \"histogram2d\": [{\"colorbar\": {\"outlinewidth\": 0, \"ticks\": \"\"}, \"colorscale\": [[0.0, \"#0d0887\"], [0.1111111111111111, \"#46039f\"], [0.2222222222222222, \"#7201a8\"], [0.3333333333333333, \"#9c179e\"], [0.4444444444444444, \"#bd3786\"], [0.5555555555555556, \"#d8576b\"], [0.6666666666666666, \"#ed7953\"], [0.7777777777777778, \"#fb9f3a\"], [0.8888888888888888, \"#fdca26\"], [1.0, \"#f0f921\"]], \"type\": \"histogram2d\"}], \"histogram2dcontour\": [{\"colorbar\": {\"outlinewidth\": 0, \"ticks\": \"\"}, \"colorscale\": [[0.0, \"#0d0887\"], [0.1111111111111111, \"#46039f\"], [0.2222222222222222, \"#7201a8\"], [0.3333333333333333, \"#9c179e\"], [0.4444444444444444, \"#bd3786\"], [0.5555555555555556, \"#d8576b\"], [0.6666666666666666, \"#ed7953\"], [0.7777777777777778, \"#fb9f3a\"], [0.8888888888888888, \"#fdca26\"], [1.0, \"#f0f921\"]], \"type\": \"histogram2dcontour\"}], \"mesh3d\": [{\"colorbar\": {\"outlinewidth\": 0, \"ticks\": \"\"}, \"type\": \"mesh3d\"}], \"parcoords\": [{\"line\": {\"colorbar\": {\"outlinewidth\": 0, \"ticks\": \"\"}}, \"type\": \"parcoords\"}], \"pie\": [{\"automargin\": true, \"type\": \"pie\"}], \"scatter\": [{\"marker\": {\"colorbar\": {\"outlinewidth\": 0, \"ticks\": \"\"}}, \"type\": \"scatter\"}], \"scatter3d\": [{\"line\": {\"colorbar\": {\"outlinewidth\": 0, \"ticks\": \"\"}}, \"marker\": {\"colorbar\": {\"outlinewidth\": 0, \"ticks\": \"\"}}, \"type\": \"scatter3d\"}], \"scattercarpet\": [{\"marker\": {\"colorbar\": {\"outlinewidth\": 0, \"ticks\": \"\"}}, \"type\": \"scattercarpet\"}], \"scattergeo\": [{\"marker\": {\"colorbar\": {\"outlinewidth\": 0, \"ticks\": \"\"}}, \"type\": \"scattergeo\"}], \"scattergl\": [{\"marker\": {\"colorbar\": {\"outlinewidth\": 0, \"ticks\": \"\"}}, \"type\": \"scattergl\"}], \"scattermapbox\": [{\"marker\": {\"colorbar\": {\"outlinewidth\": 0, \"ticks\": \"\"}}, \"type\": \"scattermapbox\"}], \"scatterpolar\": [{\"marker\": {\"colorbar\": {\"outlinewidth\": 0, \"ticks\": \"\"}}, \"type\": \"scatterpolar\"}], \"scatterpolargl\": [{\"marker\": {\"colorbar\": {\"outlinewidth\": 0, \"ticks\": \"\"}}, \"type\": \"scatterpolargl\"}], \"scatterternary\": [{\"marker\": {\"colorbar\": {\"outlinewidth\": 0, \"ticks\": \"\"}}, \"type\": \"scatterternary\"}], \"surface\": [{\"colorbar\": {\"outlinewidth\": 0, \"ticks\": \"\"}, \"colorscale\": [[0.0, \"#0d0887\"], [0.1111111111111111, \"#46039f\"], [0.2222222222222222, \"#7201a8\"], [0.3333333333333333, \"#9c179e\"], [0.4444444444444444, \"#bd3786\"], [0.5555555555555556, \"#d8576b\"], [0.6666666666666666, \"#ed7953\"], [0.7777777777777778, \"#fb9f3a\"], [0.8888888888888888, \"#fdca26\"], [1.0, \"#f0f921\"]], \"type\": \"surface\"}], \"table\": [{\"cells\": {\"fill\": {\"color\": \"#EBF0F8\"}, \"line\": {\"color\": \"white\"}}, \"header\": {\"fill\": {\"color\": \"#C8D4E3\"}, \"line\": {\"color\": \"white\"}}, \"type\": \"table\"}]}, \"layout\": {\"annotationdefaults\": {\"arrowcolor\": \"#2a3f5f\", \"arrowhead\": 0, \"arrowwidth\": 1}, \"coloraxis\": {\"colorbar\": {\"outlinewidth\": 0, \"ticks\": \"\"}}, \"colorscale\": {\"diverging\": [[0, \"#8e0152\"], [0.1, \"#c51b7d\"], [0.2, \"#de77ae\"], [0.3, \"#f1b6da\"], [0.4, \"#fde0ef\"], [0.5, \"#f7f7f7\"], [0.6, \"#e6f5d0\"], [0.7, \"#b8e186\"], [0.8, \"#7fbc41\"], [0.9, \"#4d9221\"], [1, \"#276419\"]], \"sequential\": [[0.0, \"#0d0887\"], [0.1111111111111111, \"#46039f\"], [0.2222222222222222, \"#7201a8\"], [0.3333333333333333, \"#9c179e\"], [0.4444444444444444, \"#bd3786\"], [0.5555555555555556, \"#d8576b\"], [0.6666666666666666, \"#ed7953\"], [0.7777777777777778, \"#fb9f3a\"], [0.8888888888888888, \"#fdca26\"], [1.0, \"#f0f921\"]], \"sequentialminus\": [[0.0, \"#0d0887\"], [0.1111111111111111, \"#46039f\"], [0.2222222222222222, \"#7201a8\"], [0.3333333333333333, \"#9c179e\"], [0.4444444444444444, \"#bd3786\"], [0.5555555555555556, \"#d8576b\"], [0.6666666666666666, \"#ed7953\"], [0.7777777777777778, \"#fb9f3a\"], [0.8888888888888888, \"#fdca26\"], [1.0, \"#f0f921\"]]}, \"colorway\": [\"#636efa\", \"#EF553B\", \"#00cc96\", \"#ab63fa\", \"#FFA15A\", \"#19d3f3\", \"#FF6692\", \"#B6E880\", \"#FF97FF\", \"#FECB52\"], \"font\": {\"color\": \"#2a3f5f\"}, \"geo\": {\"bgcolor\": \"white\", \"lakecolor\": \"white\", \"landcolor\": \"#E5ECF6\", \"showlakes\": true, \"showland\": true, \"subunitcolor\": \"white\"}, \"hoverlabel\": {\"align\": \"left\"}, \"hovermode\": \"closest\", \"mapbox\": {\"style\": \"light\"}, \"paper_bgcolor\": \"white\", \"plot_bgcolor\": \"#E5ECF6\", \"polar\": {\"angularaxis\": {\"gridcolor\": \"white\", \"linecolor\": \"white\", \"ticks\": \"\"}, \"bgcolor\": \"#E5ECF6\", \"radialaxis\": {\"gridcolor\": \"white\", \"linecolor\": \"white\", \"ticks\": \"\"}}, \"scene\": {\"xaxis\": {\"backgroundcolor\": \"#E5ECF6\", \"gridcolor\": \"white\", \"gridwidth\": 2, \"linecolor\": \"white\", \"showbackground\": true, \"ticks\": \"\", \"zerolinecolor\": \"white\"}, \"yaxis\": {\"backgroundcolor\": \"#E5ECF6\", \"gridcolor\": \"white\", \"gridwidth\": 2, \"linecolor\": \"white\", \"showbackground\": true, \"ticks\": \"\", \"zerolinecolor\": \"white\"}, \"zaxis\": {\"backgroundcolor\": \"#E5ECF6\", \"gridcolor\": \"white\", \"gridwidth\": 2, \"linecolor\": \"white\", \"showbackground\": true, \"ticks\": \"\", \"zerolinecolor\": \"white\"}}, \"shapedefaults\": {\"line\": {\"color\": \"#2a3f5f\"}}, \"ternary\": {\"aaxis\": {\"gridcolor\": \"white\", \"linecolor\": \"white\", \"ticks\": \"\"}, \"baxis\": {\"gridcolor\": \"white\", \"linecolor\": \"white\", \"ticks\": \"\"}, \"bgcolor\": \"#E5ECF6\", \"caxis\": {\"gridcolor\": \"white\", \"linecolor\": \"white\", \"ticks\": \"\"}}, \"title\": {\"x\": 0.05}, \"xaxis\": {\"automargin\": true, \"gridcolor\": \"white\", \"linecolor\": \"white\", \"ticks\": \"\", \"title\": {\"standoff\": 15}, \"zerolinecolor\": \"white\", \"zerolinewidth\": 2}, \"yaxis\": {\"automargin\": true, \"gridcolor\": \"white\", \"linecolor\": \"white\", \"ticks\": \"\", \"title\": {\"standoff\": 15}, \"zerolinecolor\": \"white\", \"zerolinewidth\": 2}}}, \"title\": {\"text\": \"Top 10 players with highest FG3 %\"}, \"width\": 800, \"xaxis\": {\"anchor\": \"y\", \"domain\": [0.0, 1.0], \"title\": {\"text\": \"Player Name\"}}, \"yaxis\": {\"anchor\": \"x\", \"domain\": [0.0, 1.0], \"title\": {\"text\": \"% of 3 Pointers\"}}},\n",
              "                        {\"responsive\": true}\n",
              "                    ).then(function(){\n",
              "                            \n",
              "var gd = document.getElementById('f1c46d24-b593-451c-9fd4-8b9b2257501e');\n",
              "var x = new MutationObserver(function (mutations, observer) {{\n",
              "        var display = window.getComputedStyle(gd).display;\n",
              "        if (!display || display === 'none') {{\n",
              "            console.log([gd, 'removed!']);\n",
              "            Plotly.purge(gd);\n",
              "            observer.disconnect();\n",
              "        }}\n",
              "}});\n",
              "\n",
              "// Listen for the removal of the full notebook cells\n",
              "var notebookContainer = gd.closest('#notebook-container');\n",
              "if (notebookContainer) {{\n",
              "    x.observe(notebookContainer, {childList: true});\n",
              "}}\n",
              "\n",
              "// Listen for the clearing of the current output cell\n",
              "var outputEl = gd.closest('.output');\n",
              "if (outputEl) {{\n",
              "    x.observe(outputEl, {childList: true});\n",
              "}}\n",
              "\n",
              "                        })\n",
              "                };\n",
              "                \n",
              "            </script>\n",
              "        </div>\n",
              "</body>\n",
              "</html>"
            ]
          },
          "metadata": {}
        }
      ]
    },
    {
      "cell_type": "code",
      "execution_count": 82,
      "metadata": {
        "id": "NEwudlSFW7Q8"
      },
      "outputs": [],
      "source": [
        "game_stats1.to_csv('has_match_stats.csv',index=False)"
      ]
    },
    {
      "cell_type": "markdown",
      "metadata": {
        "id": "Ll7m_XKhXRMf"
      },
      "source": [
        "## Cleaning the scraped data for Contracts"
      ]
    },
    {
      "cell_type": "code",
      "execution_count": 83,
      "metadata": {
        "colab": {
          "base_uri": "https://localhost:8080/",
          "height": 206
        },
        "id": "mPDC0COKf8QU",
        "outputId": "a97b9493-2857-47f9-822d-b9fa54fb56da"
      },
      "outputs": [
        {
          "output_type": "execute_result",
          "data": {
            "text/html": [
              "<div>\n",
              "<style scoped>\n",
              "    .dataframe tbody tr th:only-of-type {\n",
              "        vertical-align: middle;\n",
              "    }\n",
              "\n",
              "    .dataframe tbody tr th {\n",
              "        vertical-align: top;\n",
              "    }\n",
              "\n",
              "    .dataframe thead th {\n",
              "        text-align: right;\n",
              "    }\n",
              "</style>\n",
              "<table border=\"1\" class=\"dataframe\">\n",
              "  <thead>\n",
              "    <tr style=\"text-align: right;\">\n",
              "      <th></th>\n",
              "      <th>Unnamed: 0</th>\n",
              "      <th>name</th>\n",
              "      <th>contract_start_year</th>\n",
              "      <th>contract_end_year</th>\n",
              "      <th>fa_year</th>\n",
              "      <th>signed_age</th>\n",
              "      <th>values_dollars</th>\n",
              "      <th>aav_dollars</th>\n",
              "    </tr>\n",
              "  </thead>\n",
              "  <tbody>\n",
              "    <tr>\n",
              "      <th>0</th>\n",
              "      <td>0</td>\n",
              "      <td>Giannis Antetokounmpo</td>\n",
              "      <td>2021</td>\n",
              "      <td>2025</td>\n",
              "      <td>2026</td>\n",
              "      <td>26</td>\n",
              "      <td>228200420</td>\n",
              "      <td>45640084</td>\n",
              "    </tr>\n",
              "    <tr>\n",
              "      <th>1</th>\n",
              "      <td>1</td>\n",
              "      <td>Stephen Curry</td>\n",
              "      <td>2022</td>\n",
              "      <td>2025</td>\n",
              "      <td>2026</td>\n",
              "      <td>33</td>\n",
              "      <td>215353664</td>\n",
              "      <td>53838416</td>\n",
              "    </tr>\n",
              "    <tr>\n",
              "      <th>2</th>\n",
              "      <td>2</td>\n",
              "      <td>Luka Doncic</td>\n",
              "      <td>2022</td>\n",
              "      <td>2026</td>\n",
              "      <td>2027</td>\n",
              "      <td>22</td>\n",
              "      <td>207060000</td>\n",
              "      <td>41412000</td>\n",
              "    </tr>\n",
              "    <tr>\n",
              "      <th>3</th>\n",
              "      <td>3</td>\n",
              "      <td>Russell Westbrook</td>\n",
              "      <td>2018</td>\n",
              "      <td>2022</td>\n",
              "      <td>2023</td>\n",
              "      <td>28</td>\n",
              "      <td>206794070</td>\n",
              "      <td>41358814</td>\n",
              "    </tr>\n",
              "    <tr>\n",
              "      <th>4</th>\n",
              "      <td>4</td>\n",
              "      <td>Rudy Gobert</td>\n",
              "      <td>2021</td>\n",
              "      <td>2025</td>\n",
              "      <td>2026</td>\n",
              "      <td>28</td>\n",
              "      <td>205000002</td>\n",
              "      <td>41000000</td>\n",
              "    </tr>\n",
              "  </tbody>\n",
              "</table>\n",
              "</div>"
            ],
            "text/plain": [
              "   Unnamed: 0                   name  ...  values_dollars  aav_dollars\n",
              "0           0  Giannis Antetokounmpo  ...       228200420     45640084\n",
              "1           1          Stephen Curry  ...       215353664     53838416\n",
              "2           2            Luka Doncic  ...       207060000     41412000\n",
              "3           3      Russell Westbrook  ...       206794070     41358814\n",
              "4           4            Rudy Gobert  ...       205000002     41000000\n",
              "\n",
              "[5 rows x 8 columns]"
            ]
          },
          "metadata": {},
          "execution_count": 83
        }
      ],
      "source": [
        "contract = pd.read_csv(r'/content/Contracts.csv')\n",
        "contract.head()"
      ]
    },
    {
      "cell_type": "code",
      "execution_count": 84,
      "metadata": {
        "id": "SqnuEZQCRyTK"
      },
      "outputs": [],
      "source": [
        "contract.loc[contract['signed_age']=='-','signed_age'] = -1"
      ]
    },
    {
      "cell_type": "code",
      "execution_count": 85,
      "metadata": {
        "id": "LPlzoUVbSYd9"
      },
      "outputs": [],
      "source": [
        "contract['signed_age'] = contract['signed_age'].astype(int)"
      ]
    },
    {
      "cell_type": "code",
      "execution_count": 86,
      "metadata": {
        "colab": {
          "base_uri": "https://localhost:8080/",
          "height": 206
        },
        "id": "Gbkcc-4RBpe3",
        "outputId": "9b194a55-a322-4a66-dc42-48209f1b106f"
      },
      "outputs": [
        {
          "output_type": "execute_result",
          "data": {
            "text/html": [
              "<div>\n",
              "<style scoped>\n",
              "    .dataframe tbody tr th:only-of-type {\n",
              "        vertical-align: middle;\n",
              "    }\n",
              "\n",
              "    .dataframe tbody tr th {\n",
              "        vertical-align: top;\n",
              "    }\n",
              "\n",
              "    .dataframe thead th {\n",
              "        text-align: right;\n",
              "    }\n",
              "</style>\n",
              "<table border=\"1\" class=\"dataframe\">\n",
              "  <thead>\n",
              "    <tr style=\"text-align: right;\">\n",
              "      <th></th>\n",
              "      <th>Unnamed: 0</th>\n",
              "      <th>name</th>\n",
              "      <th>contract_start_year</th>\n",
              "      <th>contract_end_year</th>\n",
              "      <th>fa_year</th>\n",
              "      <th>signed_age</th>\n",
              "      <th>values_dollars</th>\n",
              "      <th>aav_dollars</th>\n",
              "    </tr>\n",
              "  </thead>\n",
              "  <tbody>\n",
              "    <tr>\n",
              "      <th>0</th>\n",
              "      <td>0</td>\n",
              "      <td>Giannis Antetokounmpo</td>\n",
              "      <td>2021</td>\n",
              "      <td>2025</td>\n",
              "      <td>2026</td>\n",
              "      <td>26</td>\n",
              "      <td>228200420</td>\n",
              "      <td>45640084</td>\n",
              "    </tr>\n",
              "    <tr>\n",
              "      <th>1</th>\n",
              "      <td>1</td>\n",
              "      <td>Stephen Curry</td>\n",
              "      <td>2022</td>\n",
              "      <td>2025</td>\n",
              "      <td>2026</td>\n",
              "      <td>33</td>\n",
              "      <td>215353664</td>\n",
              "      <td>53838416</td>\n",
              "    </tr>\n",
              "    <tr>\n",
              "      <th>2</th>\n",
              "      <td>2</td>\n",
              "      <td>Luka Doncic</td>\n",
              "      <td>2022</td>\n",
              "      <td>2026</td>\n",
              "      <td>2027</td>\n",
              "      <td>22</td>\n",
              "      <td>207060000</td>\n",
              "      <td>41412000</td>\n",
              "    </tr>\n",
              "    <tr>\n",
              "      <th>3</th>\n",
              "      <td>3</td>\n",
              "      <td>Russell Westbrook</td>\n",
              "      <td>2018</td>\n",
              "      <td>2022</td>\n",
              "      <td>2023</td>\n",
              "      <td>28</td>\n",
              "      <td>206794070</td>\n",
              "      <td>41358814</td>\n",
              "    </tr>\n",
              "    <tr>\n",
              "      <th>4</th>\n",
              "      <td>4</td>\n",
              "      <td>Rudy Gobert</td>\n",
              "      <td>2021</td>\n",
              "      <td>2025</td>\n",
              "      <td>2026</td>\n",
              "      <td>28</td>\n",
              "      <td>205000002</td>\n",
              "      <td>41000000</td>\n",
              "    </tr>\n",
              "  </tbody>\n",
              "</table>\n",
              "</div>"
            ],
            "text/plain": [
              "   Unnamed: 0                   name  ...  values_dollars  aav_dollars\n",
              "0           0  Giannis Antetokounmpo  ...       228200420     45640084\n",
              "1           1          Stephen Curry  ...       215353664     53838416\n",
              "2           2            Luka Doncic  ...       207060000     41412000\n",
              "3           3      Russell Westbrook  ...       206794070     41358814\n",
              "4           4            Rudy Gobert  ...       205000002     41000000\n",
              "\n",
              "[5 rows x 8 columns]"
            ]
          },
          "metadata": {},
          "execution_count": 86
        }
      ],
      "source": [
        "mask = (contract['signed_age'] >=18) & (contract['signed_age'] <=35)\n",
        "temp = np.random.choice(range(18,36), size=len(contract[~mask]))\n",
        "contract.loc[~mask,'signed_age'] = temp\n",
        "contract[mask].head()"
      ]
    },
    {
      "cell_type": "code",
      "execution_count": 87,
      "metadata": {
        "id": "BlshkBnwa08B"
      },
      "outputs": [],
      "source": [
        "mask = (contract['contract_end_year'] == 0) & (contract['contract_start_year']!=0)\n",
        "contract.loc[mask,'contract_end_year'] = contract.loc[mask]['contract_start_year']+5"
      ]
    },
    {
      "cell_type": "code",
      "execution_count": 88,
      "metadata": {
        "id": "9J24m_NOevJJ"
      },
      "outputs": [],
      "source": [
        "mask = (contract['contract_start_year'] == 0) & (contract['contract_end_year']!=0)\n",
        "contract.loc[mask,'contract_start_year'] = contract.loc[mask]['contract_end_year']-5"
      ]
    },
    {
      "cell_type": "code",
      "execution_count": 89,
      "metadata": {
        "id": "PN-me2-oe6bU"
      },
      "outputs": [],
      "source": [
        "mask = (contract['contract_end_year']!=0)\n",
        "contract.loc[mask,'fa_year'] = contract.loc[mask]['contract_end_year']+1"
      ]
    },
    {
      "cell_type": "code",
      "execution_count": 90,
      "metadata": {
        "id": "Xpna6GKahfnp"
      },
      "outputs": [],
      "source": [
        "contract['contract_end_year'] = contract['fa_year']-1\n",
        "contract['contract_start_year'] = contract['contract_end_year']-5"
      ]
    },
    {
      "cell_type": "code",
      "execution_count": 91,
      "metadata": {
        "id": "81kddzxEeFXU"
      },
      "outputs": [],
      "source": [
        "contract = contract[contract['contract_end_year']>0]"
      ]
    },
    {
      "cell_type": "code",
      "execution_count": 92,
      "metadata": {
        "colab": {
          "base_uri": "https://localhost:8080/",
          "height": 206
        },
        "id": "dNoP0lHANwfK",
        "outputId": "6cee7aec-a6a1-4daf-e784-285a4e5edca2"
      },
      "outputs": [
        {
          "output_type": "execute_result",
          "data": {
            "text/html": [
              "<div>\n",
              "<style scoped>\n",
              "    .dataframe tbody tr th:only-of-type {\n",
              "        vertical-align: middle;\n",
              "    }\n",
              "\n",
              "    .dataframe tbody tr th {\n",
              "        vertical-align: top;\n",
              "    }\n",
              "\n",
              "    .dataframe thead th {\n",
              "        text-align: right;\n",
              "    }\n",
              "</style>\n",
              "<table border=\"1\" class=\"dataframe\">\n",
              "  <thead>\n",
              "    <tr style=\"text-align: right;\">\n",
              "      <th></th>\n",
              "      <th>Unnamed: 0</th>\n",
              "      <th>name</th>\n",
              "      <th>contract_start_year</th>\n",
              "      <th>contract_end_year</th>\n",
              "      <th>fa_year</th>\n",
              "      <th>signed_age</th>\n",
              "      <th>values_dollars</th>\n",
              "      <th>aav_dollars</th>\n",
              "    </tr>\n",
              "  </thead>\n",
              "  <tbody>\n",
              "    <tr>\n",
              "      <th>0</th>\n",
              "      <td>0</td>\n",
              "      <td>Giannis Antetokounmpo</td>\n",
              "      <td>2020</td>\n",
              "      <td>2025</td>\n",
              "      <td>2026</td>\n",
              "      <td>26</td>\n",
              "      <td>228200420</td>\n",
              "      <td>45640084</td>\n",
              "    </tr>\n",
              "    <tr>\n",
              "      <th>1</th>\n",
              "      <td>1</td>\n",
              "      <td>Stephen Curry</td>\n",
              "      <td>2020</td>\n",
              "      <td>2025</td>\n",
              "      <td>2026</td>\n",
              "      <td>33</td>\n",
              "      <td>215353664</td>\n",
              "      <td>53838416</td>\n",
              "    </tr>\n",
              "    <tr>\n",
              "      <th>2</th>\n",
              "      <td>2</td>\n",
              "      <td>Luka Doncic</td>\n",
              "      <td>2021</td>\n",
              "      <td>2026</td>\n",
              "      <td>2027</td>\n",
              "      <td>22</td>\n",
              "      <td>207060000</td>\n",
              "      <td>41412000</td>\n",
              "    </tr>\n",
              "    <tr>\n",
              "      <th>3</th>\n",
              "      <td>3</td>\n",
              "      <td>Russell Westbrook</td>\n",
              "      <td>2017</td>\n",
              "      <td>2022</td>\n",
              "      <td>2023</td>\n",
              "      <td>28</td>\n",
              "      <td>206794070</td>\n",
              "      <td>41358814</td>\n",
              "    </tr>\n",
              "    <tr>\n",
              "      <th>4</th>\n",
              "      <td>4</td>\n",
              "      <td>Rudy Gobert</td>\n",
              "      <td>2020</td>\n",
              "      <td>2025</td>\n",
              "      <td>2026</td>\n",
              "      <td>28</td>\n",
              "      <td>205000002</td>\n",
              "      <td>41000000</td>\n",
              "    </tr>\n",
              "  </tbody>\n",
              "</table>\n",
              "</div>"
            ],
            "text/plain": [
              "   Unnamed: 0                   name  ...  values_dollars  aav_dollars\n",
              "0           0  Giannis Antetokounmpo  ...       228200420     45640084\n",
              "1           1          Stephen Curry  ...       215353664     53838416\n",
              "2           2            Luka Doncic  ...       207060000     41412000\n",
              "3           3      Russell Westbrook  ...       206794070     41358814\n",
              "4           4            Rudy Gobert  ...       205000002     41000000\n",
              "\n",
              "[5 rows x 8 columns]"
            ]
          },
          "metadata": {},
          "execution_count": 92
        }
      ],
      "source": [
        "contract.head()"
      ]
    },
    {
      "cell_type": "code",
      "execution_count": 93,
      "metadata": {
        "colab": {
          "base_uri": "https://localhost:8080/",
          "height": 424
        },
        "id": "ekoREUygOAzD",
        "outputId": "d65aa9bb-7ac8-4278-a08c-28805c45077d"
      },
      "outputs": [
        {
          "output_type": "execute_result",
          "data": {
            "text/html": [
              "<div>\n",
              "<style scoped>\n",
              "    .dataframe tbody tr th:only-of-type {\n",
              "        vertical-align: middle;\n",
              "    }\n",
              "\n",
              "    .dataframe tbody tr th {\n",
              "        vertical-align: top;\n",
              "    }\n",
              "\n",
              "    .dataframe thead th {\n",
              "        text-align: right;\n",
              "    }\n",
              "</style>\n",
              "<table border=\"1\" class=\"dataframe\">\n",
              "  <thead>\n",
              "    <tr style=\"text-align: right;\">\n",
              "      <th></th>\n",
              "      <th>Unnamed: 0</th>\n",
              "      <th>name</th>\n",
              "      <th>contract_start_year</th>\n",
              "      <th>contract_end_year</th>\n",
              "      <th>fa_year</th>\n",
              "      <th>signed_age</th>\n",
              "      <th>values_dollars</th>\n",
              "      <th>aav_dollars</th>\n",
              "      <th>player_id</th>\n",
              "    </tr>\n",
              "  </thead>\n",
              "  <tbody>\n",
              "    <tr>\n",
              "      <th>0</th>\n",
              "      <td>0</td>\n",
              "      <td>Giannis Antetokounmpo</td>\n",
              "      <td>2020</td>\n",
              "      <td>2025</td>\n",
              "      <td>2026</td>\n",
              "      <td>26</td>\n",
              "      <td>228200420</td>\n",
              "      <td>45640084</td>\n",
              "      <td>0</td>\n",
              "    </tr>\n",
              "    <tr>\n",
              "      <th>1</th>\n",
              "      <td>1</td>\n",
              "      <td>Stephen Curry</td>\n",
              "      <td>2020</td>\n",
              "      <td>2025</td>\n",
              "      <td>2026</td>\n",
              "      <td>33</td>\n",
              "      <td>215353664</td>\n",
              "      <td>53838416</td>\n",
              "      <td>1</td>\n",
              "    </tr>\n",
              "    <tr>\n",
              "      <th>2</th>\n",
              "      <td>2</td>\n",
              "      <td>Luka Doncic</td>\n",
              "      <td>2021</td>\n",
              "      <td>2026</td>\n",
              "      <td>2027</td>\n",
              "      <td>22</td>\n",
              "      <td>207060000</td>\n",
              "      <td>41412000</td>\n",
              "      <td>2</td>\n",
              "    </tr>\n",
              "    <tr>\n",
              "      <th>3</th>\n",
              "      <td>3</td>\n",
              "      <td>Russell Westbrook</td>\n",
              "      <td>2017</td>\n",
              "      <td>2022</td>\n",
              "      <td>2023</td>\n",
              "      <td>28</td>\n",
              "      <td>206794070</td>\n",
              "      <td>41358814</td>\n",
              "      <td>3</td>\n",
              "    </tr>\n",
              "    <tr>\n",
              "      <th>4</th>\n",
              "      <td>4</td>\n",
              "      <td>Rudy Gobert</td>\n",
              "      <td>2020</td>\n",
              "      <td>2025</td>\n",
              "      <td>2026</td>\n",
              "      <td>28</td>\n",
              "      <td>205000002</td>\n",
              "      <td>41000000</td>\n",
              "      <td>4</td>\n",
              "    </tr>\n",
              "    <tr>\n",
              "      <th>...</th>\n",
              "      <td>...</td>\n",
              "      <td>...</td>\n",
              "      <td>...</td>\n",
              "      <td>...</td>\n",
              "      <td>...</td>\n",
              "      <td>...</td>\n",
              "      <td>...</td>\n",
              "      <td>...</td>\n",
              "      <td>...</td>\n",
              "    </tr>\n",
              "    <tr>\n",
              "      <th>1995</th>\n",
              "      <td>1995</td>\n",
              "      <td>Greivis Vasquez</td>\n",
              "      <td>2011</td>\n",
              "      <td>2016</td>\n",
              "      <td>2017</td>\n",
              "      <td>28</td>\n",
              "      <td>4347826</td>\n",
              "      <td>4347826</td>\n",
              "      <td>1994</td>\n",
              "    </tr>\n",
              "    <tr>\n",
              "      <th>1996</th>\n",
              "      <td>1996</td>\n",
              "      <td>Quentin Richardson</td>\n",
              "      <td>2010</td>\n",
              "      <td>2015</td>\n",
              "      <td>2016</td>\n",
              "      <td>33</td>\n",
              "      <td>4347184</td>\n",
              "      <td>1449061</td>\n",
              "      <td>1995</td>\n",
              "    </tr>\n",
              "    <tr>\n",
              "      <th>1997</th>\n",
              "      <td>1997</td>\n",
              "      <td>Aron Baynes</td>\n",
              "      <td>2012</td>\n",
              "      <td>2017</td>\n",
              "      <td>2018</td>\n",
              "      <td>30</td>\n",
              "      <td>4328000</td>\n",
              "      <td>4328000</td>\n",
              "      <td>1996</td>\n",
              "    </tr>\n",
              "    <tr>\n",
              "      <th>1998</th>\n",
              "      <td>1998</td>\n",
              "      <td>Miles McBride</td>\n",
              "      <td>2018</td>\n",
              "      <td>2023</td>\n",
              "      <td>2024</td>\n",
              "      <td>20</td>\n",
              "      <td>4324872</td>\n",
              "      <td>1441624</td>\n",
              "      <td>1997</td>\n",
              "    </tr>\n",
              "    <tr>\n",
              "      <th>1999</th>\n",
              "      <td>1999</td>\n",
              "      <td>Georgios Kalaitzakis</td>\n",
              "      <td>2018</td>\n",
              "      <td>2023</td>\n",
              "      <td>2024</td>\n",
              "      <td>22</td>\n",
              "      <td>4324872</td>\n",
              "      <td>1441624</td>\n",
              "      <td>1998</td>\n",
              "    </tr>\n",
              "  </tbody>\n",
              "</table>\n",
              "<p>1999 rows × 9 columns</p>\n",
              "</div>"
            ],
            "text/plain": [
              "      Unnamed: 0                   name  ...  aav_dollars  player_id\n",
              "0              0  Giannis Antetokounmpo  ...     45640084          0\n",
              "1              1          Stephen Curry  ...     53838416          1\n",
              "2              2            Luka Doncic  ...     41412000          2\n",
              "3              3      Russell Westbrook  ...     41358814          3\n",
              "4              4            Rudy Gobert  ...     41000000          4\n",
              "...          ...                    ...  ...          ...        ...\n",
              "1995        1995        Greivis Vasquez  ...      4347826       1994\n",
              "1996        1996     Quentin Richardson  ...      1449061       1995\n",
              "1997        1997            Aron Baynes  ...      4328000       1996\n",
              "1998        1998          Miles McBride  ...      1441624       1997\n",
              "1999        1999   Georgios Kalaitzakis  ...      1441624       1998\n",
              "\n",
              "[1999 rows x 9 columns]"
            ]
          },
          "metadata": {},
          "execution_count": 93
        }
      ],
      "source": [
        "contract['player_id'] = [i for i in range(0,len(contract))]\n",
        "# contract = contract.merge(players_df_final[['PLAYER_ID','player_name']],on='PLAYER_ID',how='left')\n",
        "contract"
      ]
    },
    {
      "cell_type": "code",
      "execution_count": 94,
      "metadata": {
        "id": "MIjnRF7orEe_"
      },
      "outputs": [],
      "source": [
        "contract['approval status'] = np.random.choice(['Yes','Pending','No'],size = len(contract))\n",
        "contract['support_id'] = np.random.choice(Manager['support_id'],size = len(contract))\n",
        "to_remove = ['name','Unnamed: 0','signed_age']\n",
        "cols = {'contract_start_year':'start_year','contract_end_year':'end_year'}\n",
        "contract.rename(columns = cols,inplace=True)\n",
        "cols_to_keep  = [i for i in contract.columns if i not in to_remove]"
      ]
    },
    {
      "cell_type": "code",
      "execution_count": 95,
      "metadata": {
        "id": "1qSK5DYa1YQG"
      },
      "outputs": [],
      "source": [
        "contract = contract[cols_to_keep]\n",
        "contract.to_csv(r'Contract_new.csv',index=False)"
      ]
    },
    {
      "cell_type": "markdown",
      "source": [
        "## Clustering Model "
      ],
      "metadata": {
        "id": "azgT8n-o2tNH"
      }
    },
    {
      "cell_type": "code",
      "execution_count": 96,
      "metadata": {
        "id": "9t5vXFGIyjY9",
        "colab": {
          "base_uri": "https://localhost:8080/",
          "height": 226
        },
        "outputId": "68b7f902-86ef-4b35-d410-1be67c01bd34"
      },
      "outputs": [
        {
          "output_type": "execute_result",
          "data": {
            "text/html": [
              "<div>\n",
              "<style scoped>\n",
              "    .dataframe tbody tr th:only-of-type {\n",
              "        vertical-align: middle;\n",
              "    }\n",
              "\n",
              "    .dataframe tbody tr th {\n",
              "        vertical-align: top;\n",
              "    }\n",
              "\n",
              "    .dataframe thead th {\n",
              "        text-align: right;\n",
              "    }\n",
              "</style>\n",
              "<table border=\"1\" class=\"dataframe\">\n",
              "  <thead>\n",
              "    <tr style=\"text-align: right;\">\n",
              "      <th></th>\n",
              "      <th>match_id</th>\n",
              "      <th>TEAM_ID</th>\n",
              "      <th>TEAM_ABBREVIATION</th>\n",
              "      <th>TEAM_CITY</th>\n",
              "      <th>player_id</th>\n",
              "      <th>PLAYER_NAME</th>\n",
              "      <th>START_POSITION</th>\n",
              "      <th>COMMENT</th>\n",
              "      <th>MIN</th>\n",
              "      <th>FGM</th>\n",
              "      <th>FGA</th>\n",
              "      <th>FG_percent</th>\n",
              "      <th>FG3M</th>\n",
              "      <th>FG3A</th>\n",
              "      <th>FG3_percent</th>\n",
              "      <th>FTM</th>\n",
              "      <th>FTA</th>\n",
              "      <th>FT_percent</th>\n",
              "      <th>Offensive_rebound</th>\n",
              "      <th>Defensive_rebounds</th>\n",
              "      <th>rebounds</th>\n",
              "      <th>assists</th>\n",
              "      <th>steals</th>\n",
              "      <th>blocked_shots</th>\n",
              "      <th>turnovers</th>\n",
              "      <th>personal_fouls</th>\n",
              "      <th>points_scored</th>\n",
              "      <th>PLUS_MINUS</th>\n",
              "      <th>PLAYER_ID_NEW</th>\n",
              "      <th>match_id</th>\n",
              "      <th>season</th>\n",
              "    </tr>\n",
              "  </thead>\n",
              "  <tbody>\n",
              "    <tr>\n",
              "      <th>0</th>\n",
              "      <td>42000102</td>\n",
              "      <td>1610612764</td>\n",
              "      <td>WAS</td>\n",
              "      <td>Washington</td>\n",
              "      <td>290</td>\n",
              "      <td>NaN</td>\n",
              "      <td>F</td>\n",
              "      <td>NaN</td>\n",
              "      <td>34:36</td>\n",
              "      <td>14.0</td>\n",
              "      <td>28.0</td>\n",
              "      <td>0.500</td>\n",
              "      <td>1.0</td>\n",
              "      <td>6.0</td>\n",
              "      <td>0.167</td>\n",
              "      <td>4.0</td>\n",
              "      <td>6.0</td>\n",
              "      <td>0.667</td>\n",
              "      <td>0.0</td>\n",
              "      <td>4.0</td>\n",
              "      <td>4.0</td>\n",
              "      <td>3.0</td>\n",
              "      <td>1.0</td>\n",
              "      <td>0.0</td>\n",
              "      <td>1.0</td>\n",
              "      <td>0.0</td>\n",
              "      <td>33.0</td>\n",
              "      <td>-22.0</td>\n",
              "      <td>290.0</td>\n",
              "      <td>42000102</td>\n",
              "      <td>2020</td>\n",
              "    </tr>\n",
              "    <tr>\n",
              "      <th>1</th>\n",
              "      <td>42000102</td>\n",
              "      <td>1610612764</td>\n",
              "      <td>WAS</td>\n",
              "      <td>Washington</td>\n",
              "      <td>288</td>\n",
              "      <td>NaN</td>\n",
              "      <td>F</td>\n",
              "      <td>NaN</td>\n",
              "      <td>25:50</td>\n",
              "      <td>4.0</td>\n",
              "      <td>6.0</td>\n",
              "      <td>0.667</td>\n",
              "      <td>1.0</td>\n",
              "      <td>1.0</td>\n",
              "      <td>1.000</td>\n",
              "      <td>2.0</td>\n",
              "      <td>3.0</td>\n",
              "      <td>0.667</td>\n",
              "      <td>2.0</td>\n",
              "      <td>5.0</td>\n",
              "      <td>7.0</td>\n",
              "      <td>1.0</td>\n",
              "      <td>0.0</td>\n",
              "      <td>0.0</td>\n",
              "      <td>3.0</td>\n",
              "      <td>4.0</td>\n",
              "      <td>11.0</td>\n",
              "      <td>-6.0</td>\n",
              "      <td>288.0</td>\n",
              "      <td>42000102</td>\n",
              "      <td>2020</td>\n",
              "    </tr>\n",
              "    <tr>\n",
              "      <th>2</th>\n",
              "      <td>42000102</td>\n",
              "      <td>1610612764</td>\n",
              "      <td>WAS</td>\n",
              "      <td>Washington</td>\n",
              "      <td>142</td>\n",
              "      <td>NaN</td>\n",
              "      <td>C</td>\n",
              "      <td>NaN</td>\n",
              "      <td>12:11</td>\n",
              "      <td>3.0</td>\n",
              "      <td>5.0</td>\n",
              "      <td>0.600</td>\n",
              "      <td>0.0</td>\n",
              "      <td>0.0</td>\n",
              "      <td>0.000</td>\n",
              "      <td>0.0</td>\n",
              "      <td>0.0</td>\n",
              "      <td>0.000</td>\n",
              "      <td>3.0</td>\n",
              "      <td>2.0</td>\n",
              "      <td>5.0</td>\n",
              "      <td>0.0</td>\n",
              "      <td>1.0</td>\n",
              "      <td>0.0</td>\n",
              "      <td>0.0</td>\n",
              "      <td>2.0</td>\n",
              "      <td>6.0</td>\n",
              "      <td>-11.0</td>\n",
              "      <td>142.0</td>\n",
              "      <td>42000102</td>\n",
              "      <td>2020</td>\n",
              "    </tr>\n",
              "    <tr>\n",
              "      <th>3</th>\n",
              "      <td>42000102</td>\n",
              "      <td>1610612764</td>\n",
              "      <td>WAS</td>\n",
              "      <td>Washington</td>\n",
              "      <td>20</td>\n",
              "      <td>NaN</td>\n",
              "      <td>G</td>\n",
              "      <td>NaN</td>\n",
              "      <td>19:19</td>\n",
              "      <td>2.0</td>\n",
              "      <td>5.0</td>\n",
              "      <td>0.400</td>\n",
              "      <td>0.0</td>\n",
              "      <td>2.0</td>\n",
              "      <td>0.000</td>\n",
              "      <td>0.0</td>\n",
              "      <td>0.0</td>\n",
              "      <td>0.000</td>\n",
              "      <td>1.0</td>\n",
              "      <td>2.0</td>\n",
              "      <td>3.0</td>\n",
              "      <td>1.0</td>\n",
              "      <td>0.0</td>\n",
              "      <td>0.0</td>\n",
              "      <td>0.0</td>\n",
              "      <td>2.0</td>\n",
              "      <td>4.0</td>\n",
              "      <td>-17.0</td>\n",
              "      <td>20.0</td>\n",
              "      <td>42000102</td>\n",
              "      <td>2020</td>\n",
              "    </tr>\n",
              "    <tr>\n",
              "      <th>4</th>\n",
              "      <td>42000102</td>\n",
              "      <td>1610612764</td>\n",
              "      <td>WAS</td>\n",
              "      <td>Washington</td>\n",
              "      <td>332</td>\n",
              "      <td>NaN</td>\n",
              "      <td>G</td>\n",
              "      <td>NaN</td>\n",
              "      <td>29:07</td>\n",
              "      <td>2.0</td>\n",
              "      <td>10.0</td>\n",
              "      <td>0.200</td>\n",
              "      <td>0.0</td>\n",
              "      <td>3.0</td>\n",
              "      <td>0.000</td>\n",
              "      <td>6.0</td>\n",
              "      <td>10.0</td>\n",
              "      <td>0.600</td>\n",
              "      <td>2.0</td>\n",
              "      <td>4.0</td>\n",
              "      <td>6.0</td>\n",
              "      <td>11.0</td>\n",
              "      <td>0.0</td>\n",
              "      <td>0.0</td>\n",
              "      <td>4.0</td>\n",
              "      <td>0.0</td>\n",
              "      <td>10.0</td>\n",
              "      <td>-16.0</td>\n",
              "      <td>332.0</td>\n",
              "      <td>42000102</td>\n",
              "      <td>2020</td>\n",
              "    </tr>\n",
              "  </tbody>\n",
              "</table>\n",
              "</div>"
            ],
            "text/plain": [
              "   match_id     TEAM_ID TEAM_ABBREVIATION  ... PLAYER_ID_NEW  match_id season\n",
              "0  42000102  1610612764               WAS  ...         290.0  42000102   2020\n",
              "1  42000102  1610612764               WAS  ...         288.0  42000102   2020\n",
              "2  42000102  1610612764               WAS  ...         142.0  42000102   2020\n",
              "3  42000102  1610612764               WAS  ...          20.0  42000102   2020\n",
              "4  42000102  1610612764               WAS  ...         332.0  42000102   2020\n",
              "\n",
              "[5 rows x 31 columns]"
            ]
          },
          "metadata": {},
          "execution_count": 96
        }
      ],
      "source": [
        "game_stats.head()"
      ]
    },
    {
      "cell_type": "code",
      "source": [
        "grp = game_stats.groupby(['player_id'],as_index=False).size()\n",
        "grp[grp['size']>10].shape,grp.shape"
      ],
      "metadata": {
        "colab": {
          "base_uri": "https://localhost:8080/"
        },
        "id": "HzzXJY3C6JHM",
        "outputId": "1773b04a-d75e-404e-b5aa-d6bba00316a1"
      },
      "execution_count": 97,
      "outputs": [
        {
          "output_type": "execute_result",
          "data": {
            "text/plain": [
              "((875, 2), (945, 2))"
            ]
          },
          "metadata": {},
          "execution_count": 97
        }
      ]
    },
    {
      "cell_type": "code",
      "source": [
        "grp  = grp[grp['size']>10]\n",
        "game_stats = game_stats[game_stats['player_id'].isin(grp['player_id'])]\n",
        "game_stats.head()"
      ],
      "metadata": {
        "colab": {
          "base_uri": "https://localhost:8080/",
          "height": 226
        },
        "id": "Gj9DkLYa7pEr",
        "outputId": "749e5d4c-9963-4048-bcb2-2b3d2f1b2bdc"
      },
      "execution_count": 98,
      "outputs": [
        {
          "output_type": "execute_result",
          "data": {
            "text/html": [
              "<div>\n",
              "<style scoped>\n",
              "    .dataframe tbody tr th:only-of-type {\n",
              "        vertical-align: middle;\n",
              "    }\n",
              "\n",
              "    .dataframe tbody tr th {\n",
              "        vertical-align: top;\n",
              "    }\n",
              "\n",
              "    .dataframe thead th {\n",
              "        text-align: right;\n",
              "    }\n",
              "</style>\n",
              "<table border=\"1\" class=\"dataframe\">\n",
              "  <thead>\n",
              "    <tr style=\"text-align: right;\">\n",
              "      <th></th>\n",
              "      <th>match_id</th>\n",
              "      <th>TEAM_ID</th>\n",
              "      <th>TEAM_ABBREVIATION</th>\n",
              "      <th>TEAM_CITY</th>\n",
              "      <th>player_id</th>\n",
              "      <th>PLAYER_NAME</th>\n",
              "      <th>START_POSITION</th>\n",
              "      <th>COMMENT</th>\n",
              "      <th>MIN</th>\n",
              "      <th>FGM</th>\n",
              "      <th>FGA</th>\n",
              "      <th>FG_percent</th>\n",
              "      <th>FG3M</th>\n",
              "      <th>FG3A</th>\n",
              "      <th>FG3_percent</th>\n",
              "      <th>FTM</th>\n",
              "      <th>FTA</th>\n",
              "      <th>FT_percent</th>\n",
              "      <th>Offensive_rebound</th>\n",
              "      <th>Defensive_rebounds</th>\n",
              "      <th>rebounds</th>\n",
              "      <th>assists</th>\n",
              "      <th>steals</th>\n",
              "      <th>blocked_shots</th>\n",
              "      <th>turnovers</th>\n",
              "      <th>personal_fouls</th>\n",
              "      <th>points_scored</th>\n",
              "      <th>PLUS_MINUS</th>\n",
              "      <th>PLAYER_ID_NEW</th>\n",
              "      <th>match_id</th>\n",
              "      <th>season</th>\n",
              "    </tr>\n",
              "  </thead>\n",
              "  <tbody>\n",
              "    <tr>\n",
              "      <th>0</th>\n",
              "      <td>42000102</td>\n",
              "      <td>1610612764</td>\n",
              "      <td>WAS</td>\n",
              "      <td>Washington</td>\n",
              "      <td>290</td>\n",
              "      <td>NaN</td>\n",
              "      <td>F</td>\n",
              "      <td>NaN</td>\n",
              "      <td>34:36</td>\n",
              "      <td>14.0</td>\n",
              "      <td>28.0</td>\n",
              "      <td>0.500</td>\n",
              "      <td>1.0</td>\n",
              "      <td>6.0</td>\n",
              "      <td>0.167</td>\n",
              "      <td>4.0</td>\n",
              "      <td>6.0</td>\n",
              "      <td>0.667</td>\n",
              "      <td>0.0</td>\n",
              "      <td>4.0</td>\n",
              "      <td>4.0</td>\n",
              "      <td>3.0</td>\n",
              "      <td>1.0</td>\n",
              "      <td>0.0</td>\n",
              "      <td>1.0</td>\n",
              "      <td>0.0</td>\n",
              "      <td>33.0</td>\n",
              "      <td>-22.0</td>\n",
              "      <td>290.0</td>\n",
              "      <td>42000102</td>\n",
              "      <td>2020</td>\n",
              "    </tr>\n",
              "    <tr>\n",
              "      <th>1</th>\n",
              "      <td>42000102</td>\n",
              "      <td>1610612764</td>\n",
              "      <td>WAS</td>\n",
              "      <td>Washington</td>\n",
              "      <td>288</td>\n",
              "      <td>NaN</td>\n",
              "      <td>F</td>\n",
              "      <td>NaN</td>\n",
              "      <td>25:50</td>\n",
              "      <td>4.0</td>\n",
              "      <td>6.0</td>\n",
              "      <td>0.667</td>\n",
              "      <td>1.0</td>\n",
              "      <td>1.0</td>\n",
              "      <td>1.000</td>\n",
              "      <td>2.0</td>\n",
              "      <td>3.0</td>\n",
              "      <td>0.667</td>\n",
              "      <td>2.0</td>\n",
              "      <td>5.0</td>\n",
              "      <td>7.0</td>\n",
              "      <td>1.0</td>\n",
              "      <td>0.0</td>\n",
              "      <td>0.0</td>\n",
              "      <td>3.0</td>\n",
              "      <td>4.0</td>\n",
              "      <td>11.0</td>\n",
              "      <td>-6.0</td>\n",
              "      <td>288.0</td>\n",
              "      <td>42000102</td>\n",
              "      <td>2020</td>\n",
              "    </tr>\n",
              "    <tr>\n",
              "      <th>2</th>\n",
              "      <td>42000102</td>\n",
              "      <td>1610612764</td>\n",
              "      <td>WAS</td>\n",
              "      <td>Washington</td>\n",
              "      <td>142</td>\n",
              "      <td>NaN</td>\n",
              "      <td>C</td>\n",
              "      <td>NaN</td>\n",
              "      <td>12:11</td>\n",
              "      <td>3.0</td>\n",
              "      <td>5.0</td>\n",
              "      <td>0.600</td>\n",
              "      <td>0.0</td>\n",
              "      <td>0.0</td>\n",
              "      <td>0.000</td>\n",
              "      <td>0.0</td>\n",
              "      <td>0.0</td>\n",
              "      <td>0.000</td>\n",
              "      <td>3.0</td>\n",
              "      <td>2.0</td>\n",
              "      <td>5.0</td>\n",
              "      <td>0.0</td>\n",
              "      <td>1.0</td>\n",
              "      <td>0.0</td>\n",
              "      <td>0.0</td>\n",
              "      <td>2.0</td>\n",
              "      <td>6.0</td>\n",
              "      <td>-11.0</td>\n",
              "      <td>142.0</td>\n",
              "      <td>42000102</td>\n",
              "      <td>2020</td>\n",
              "    </tr>\n",
              "    <tr>\n",
              "      <th>3</th>\n",
              "      <td>42000102</td>\n",
              "      <td>1610612764</td>\n",
              "      <td>WAS</td>\n",
              "      <td>Washington</td>\n",
              "      <td>20</td>\n",
              "      <td>NaN</td>\n",
              "      <td>G</td>\n",
              "      <td>NaN</td>\n",
              "      <td>19:19</td>\n",
              "      <td>2.0</td>\n",
              "      <td>5.0</td>\n",
              "      <td>0.400</td>\n",
              "      <td>0.0</td>\n",
              "      <td>2.0</td>\n",
              "      <td>0.000</td>\n",
              "      <td>0.0</td>\n",
              "      <td>0.0</td>\n",
              "      <td>0.000</td>\n",
              "      <td>1.0</td>\n",
              "      <td>2.0</td>\n",
              "      <td>3.0</td>\n",
              "      <td>1.0</td>\n",
              "      <td>0.0</td>\n",
              "      <td>0.0</td>\n",
              "      <td>0.0</td>\n",
              "      <td>2.0</td>\n",
              "      <td>4.0</td>\n",
              "      <td>-17.0</td>\n",
              "      <td>20.0</td>\n",
              "      <td>42000102</td>\n",
              "      <td>2020</td>\n",
              "    </tr>\n",
              "    <tr>\n",
              "      <th>4</th>\n",
              "      <td>42000102</td>\n",
              "      <td>1610612764</td>\n",
              "      <td>WAS</td>\n",
              "      <td>Washington</td>\n",
              "      <td>332</td>\n",
              "      <td>NaN</td>\n",
              "      <td>G</td>\n",
              "      <td>NaN</td>\n",
              "      <td>29:07</td>\n",
              "      <td>2.0</td>\n",
              "      <td>10.0</td>\n",
              "      <td>0.200</td>\n",
              "      <td>0.0</td>\n",
              "      <td>3.0</td>\n",
              "      <td>0.000</td>\n",
              "      <td>6.0</td>\n",
              "      <td>10.0</td>\n",
              "      <td>0.600</td>\n",
              "      <td>2.0</td>\n",
              "      <td>4.0</td>\n",
              "      <td>6.0</td>\n",
              "      <td>11.0</td>\n",
              "      <td>0.0</td>\n",
              "      <td>0.0</td>\n",
              "      <td>4.0</td>\n",
              "      <td>0.0</td>\n",
              "      <td>10.0</td>\n",
              "      <td>-16.0</td>\n",
              "      <td>332.0</td>\n",
              "      <td>42000102</td>\n",
              "      <td>2020</td>\n",
              "    </tr>\n",
              "  </tbody>\n",
              "</table>\n",
              "</div>"
            ],
            "text/plain": [
              "   match_id     TEAM_ID TEAM_ABBREVIATION  ... PLAYER_ID_NEW  match_id season\n",
              "0  42000102  1610612764               WAS  ...         290.0  42000102   2020\n",
              "1  42000102  1610612764               WAS  ...         288.0  42000102   2020\n",
              "2  42000102  1610612764               WAS  ...         142.0  42000102   2020\n",
              "3  42000102  1610612764               WAS  ...          20.0  42000102   2020\n",
              "4  42000102  1610612764               WAS  ...         332.0  42000102   2020\n",
              "\n",
              "[5 rows x 31 columns]"
            ]
          },
          "metadata": {},
          "execution_count": 98
        }
      ]
    },
    {
      "cell_type": "code",
      "source": [
        "game_stats2 = game_stats[~game_stats['FGM'].isna()] \n",
        "game_stats2.shape"
      ],
      "metadata": {
        "colab": {
          "base_uri": "https://localhost:8080/"
        },
        "id": "1GgeosF4JnpR",
        "outputId": "0792c67c-0aea-49da-e78c-46801926bf9e"
      },
      "execution_count": 99,
      "outputs": [
        {
          "output_type": "execute_result",
          "data": {
            "text/plain": [
              "(70309, 31)"
            ]
          },
          "metadata": {},
          "execution_count": 99
        }
      ]
    },
    {
      "cell_type": "code",
      "source": [
        "to_remove = ['TEAM_ABBREVIATION','TEAM_CITY','PLAYER_NAME','START_POSITION','COMMENT','match_id','season','TEAM_ID','player_id','PLAYER_ID_NEW','MIN','PLUS_MINUS']\n",
        "cols_to_keep = [i for i in game_stats2.columns if i not in to_remove]\n",
        "game_stats3 = game_stats2[cols_to_keep]"
      ],
      "metadata": {
        "id": "8LjD5phjKBqX"
      },
      "execution_count": 100,
      "outputs": []
    },
    {
      "cell_type": "code",
      "source": [
        "cols_to_keep = ['FGM','FG3M','FTM']\n",
        "game_stats4 = game_stats2[cols_to_keep]"
      ],
      "metadata": {
        "id": "uD94b6cBRxLE"
      },
      "execution_count": 101,
      "outputs": []
    },
    {
      "cell_type": "code",
      "source": [
        "game_stats3['FG3_percent'] = game_stats3['FG3_percent']*100\n",
        "game_stats3['FG_percent'] = game_stats3['FG_percent']*100\n",
        "game_stats3['FT_percent'] = game_stats3['FT_percent']*100"
      ],
      "metadata": {
        "colab": {
          "base_uri": "https://localhost:8080/"
        },
        "id": "81bnE-JbNyeH",
        "outputId": "2abcfe81-0163-4726-c38c-f345ae3fc9cb"
      },
      "execution_count": 102,
      "outputs": [
        {
          "output_type": "stream",
          "name": "stderr",
          "text": [
            "/usr/local/lib/python3.7/dist-packages/ipykernel_launcher.py:1: SettingWithCopyWarning:\n",
            "\n",
            "\n",
            "A value is trying to be set on a copy of a slice from a DataFrame.\n",
            "Try using .loc[row_indexer,col_indexer] = value instead\n",
            "\n",
            "See the caveats in the documentation: https://pandas.pydata.org/pandas-docs/stable/user_guide/indexing.html#returning-a-view-versus-a-copy\n",
            "\n",
            "/usr/local/lib/python3.7/dist-packages/ipykernel_launcher.py:2: SettingWithCopyWarning:\n",
            "\n",
            "\n",
            "A value is trying to be set on a copy of a slice from a DataFrame.\n",
            "Try using .loc[row_indexer,col_indexer] = value instead\n",
            "\n",
            "See the caveats in the documentation: https://pandas.pydata.org/pandas-docs/stable/user_guide/indexing.html#returning-a-view-versus-a-copy\n",
            "\n",
            "/usr/local/lib/python3.7/dist-packages/ipykernel_launcher.py:3: SettingWithCopyWarning:\n",
            "\n",
            "\n",
            "A value is trying to be set on a copy of a slice from a DataFrame.\n",
            "Try using .loc[row_indexer,col_indexer] = value instead\n",
            "\n",
            "See the caveats in the documentation: https://pandas.pydata.org/pandas-docs/stable/user_guide/indexing.html#returning-a-view-versus-a-copy\n",
            "\n"
          ]
        }
      ]
    },
    {
      "cell_type": "code",
      "source": [
        "import matplotlib.pyplot as plt\n",
        "from sklearn.cluster import KMeans\n",
        "cs = []\n",
        "for i in range(1, 11):\n",
        "    kmeans = KMeans(n_clusters = i, init = 'k-means++', max_iter = 300, n_init = 10, random_state = 0)\n",
        "    kmeans.fit_predict(game_stats3[['FG3_percent','FG_percent','FT_percent']])\n",
        "    cs.append(kmeans.inertia_)\n",
        "plt.plot(range(1, 11), cs)\n",
        "plt.title('The Elbow Method')\n",
        "plt.xlabel('Number of clusters')\n",
        "plt.ylabel('CS')\n",
        "plt.show()"
      ],
      "metadata": {
        "colab": {
          "base_uri": "https://localhost:8080/",
          "height": 295
        },
        "id": "64R2SrINDgMh",
        "outputId": "5a91bc64-a966-4ae0-9155-cb20570985a0"
      },
      "execution_count": 103,
      "outputs": [
        {
          "output_type": "display_data",
          "data": {
            "image/png": "[encoded data removed]",
            "text/plain": [
              "<Figure size 432x288 with 1 Axes>"
            ]
          },
          "metadata": {
            "needs_background": "light"
          }
        }
      ]
    },
    {
      "cell_type": "code",
      "source": [
        "## Free Throw Clusters\n",
        "from sklearn.cluster import KMeans\n",
        "\n",
        "kmeans_FT = KMeans(n_clusters=3, random_state=0) \n",
        "\"\"\n",
        "game_stats3['cluster_FT'] = kmeans_FT.fit_predict(game_stats3[['FTM','FTA']])"
      ],
      "metadata": {
        "colab": {
          "base_uri": "https://localhost:8080/"
        },
        "id": "Vry8ubWPNKCI",
        "outputId": "afe0986f-37c8-4a95-ad13-4923cc4873c6"
      },
      "execution_count": 104,
      "outputs": [
        {
          "output_type": "stream",
          "name": "stderr",
          "text": [
            "/usr/local/lib/python3.7/dist-packages/ipykernel_launcher.py:6: SettingWithCopyWarning:\n",
            "\n",
            "\n",
            "A value is trying to be set on a copy of a slice from a DataFrame.\n",
            "Try using .loc[row_indexer,col_indexer] = value instead\n",
            "\n",
            "See the caveats in the documentation: https://pandas.pydata.org/pandas-docs/stable/user_guide/indexing.html#returning-a-view-versus-a-copy\n",
            "\n"
          ]
        }
      ]
    },
    {
      "cell_type": "code",
      "source": [
        "## Field Goals Clusters\n",
        "kmeans_FG = KMeans(n_clusters=3, random_state=0) \n",
        "\"\"\n",
        "game_stats3['cluster_FG'] = kmeans_FG.fit_predict(game_stats3[['FGM','FGA']])"
      ],
      "metadata": {
        "colab": {
          "base_uri": "https://localhost:8080/"
        },
        "id": "Y4sSGcXAik5D",
        "outputId": "b05684e5-a9eb-421c-f8ef-77e75a02a592"
      },
      "execution_count": 105,
      "outputs": [
        {
          "output_type": "stream",
          "name": "stderr",
          "text": [
            "/usr/local/lib/python3.7/dist-packages/ipykernel_launcher.py:4: SettingWithCopyWarning:\n",
            "\n",
            "\n",
            "A value is trying to be set on a copy of a slice from a DataFrame.\n",
            "Try using .loc[row_indexer,col_indexer] = value instead\n",
            "\n",
            "See the caveats in the documentation: https://pandas.pydata.org/pandas-docs/stable/user_guide/indexing.html#returning-a-view-versus-a-copy\n",
            "\n"
          ]
        }
      ]
    },
    {
      "cell_type": "code",
      "source": [
        "## 3 Pointer Clusters\n",
        "kmeans_F3G = KMeans(n_clusters=3, random_state=0) \n",
        "\"\"\n",
        "game_stats3['cluster_FG3'] = kmeans_F3G.fit_predict(game_stats3[['FG3M','FG3A']])"
      ],
      "metadata": {
        "colab": {
          "base_uri": "https://localhost:8080/"
        },
        "id": "pvZb6CI7D0E9",
        "outputId": "42d274b1-5a48-4155-a2c8-fd2819081c67"
      },
      "execution_count": 106,
      "outputs": [
        {
          "output_type": "stream",
          "name": "stderr",
          "text": [
            "/usr/local/lib/python3.7/dist-packages/ipykernel_launcher.py:4: SettingWithCopyWarning:\n",
            "\n",
            "\n",
            "A value is trying to be set on a copy of a slice from a DataFrame.\n",
            "Try using .loc[row_indexer,col_indexer] = value instead\n",
            "\n",
            "See the caveats in the documentation: https://pandas.pydata.org/pandas-docs/stable/user_guide/indexing.html#returning-a-view-versus-a-copy\n",
            "\n"
          ]
        }
      ]
    },
    {
      "cell_type": "code",
      "source": [
        "### BUILD A TWO DIMENSIONS CLUSTER AGAIN ###\n",
        "# k means\n",
        "\n",
        "# get centroids\n",
        "centroids = kmeans_FT.cluster_centers_\n",
        "cen_x = [i[0] for i in centroids] \n",
        "cen_y = [i[1] for i in centroids]\n",
        "## add to df\n",
        "game_stats3['cen_x_FT'] = game_stats3['cluster_FT'].map({0:cen_x[0], 1:cen_x[1], 2:cen_x[2]})\n",
        "game_stats3['cen_y_FT'] = game_stats3['cluster_FT'].map({0:cen_y[0], 1:cen_y[1], 2:cen_y[2]})\n",
        "# define and map colors\n",
        "colors = ['Red', 'Blue', 'Green']\n",
        "game_stats3['c'] = game_stats3['cluster_FT'].map({0:colors[0], 1:colors[1], 2:colors[2]})\n",
        "#####PLOT#####\n",
        "from matplotlib.lines import Line2D\n",
        "fig, ax = plt.subplots(1, figsize=(12,8))\n",
        "# plot data\n",
        "plt.scatter(game_stats3['FTM'], game_stats3['FTA'], c=game_stats3['c'], alpha = 0.6, s=15)\n",
        "# create a list of legend elemntes\n",
        "## markers / records\n",
        "legend_elements = [Line2D([0], [0], marker='o', color='w', label='Cluster {}'.format(i+1), \n",
        "               markerfacecolor=mcolor, markersize=5) for i, mcolor in enumerate(colors)]\n",
        "# plot legend\n",
        "plt.legend(handles=legend_elements, loc='upper right')\n",
        "# title and labels\n",
        "plt.title('Field Throws Stats', loc='left', fontsize=22)\n",
        "plt.xlabel('Field Throws Made')\n",
        "plt.ylabel('Field Throws Attempted')"
      ],
      "metadata": {
        "colab": {
          "base_uri": "https://localhost:8080/",
          "height": 953
        },
        "id": "Tnny2zFGnJZX",
        "outputId": "e12ec6bf-683f-48d0-fc1c-a52f9f422f63"
      },
      "execution_count": 107,
      "outputs": [
        {
          "output_type": "stream",
          "name": "stderr",
          "text": [
            "/usr/local/lib/python3.7/dist-packages/ipykernel_launcher.py:9: SettingWithCopyWarning:\n",
            "\n",
            "\n",
            "A value is trying to be set on a copy of a slice from a DataFrame.\n",
            "Try using .loc[row_indexer,col_indexer] = value instead\n",
            "\n",
            "See the caveats in the documentation: https://pandas.pydata.org/pandas-docs/stable/user_guide/indexing.html#returning-a-view-versus-a-copy\n",
            "\n",
            "/usr/local/lib/python3.7/dist-packages/ipykernel_launcher.py:10: SettingWithCopyWarning:\n",
            "\n",
            "\n",
            "A value is trying to be set on a copy of a slice from a DataFrame.\n",
            "Try using .loc[row_indexer,col_indexer] = value instead\n",
            "\n",
            "See the caveats in the documentation: https://pandas.pydata.org/pandas-docs/stable/user_guide/indexing.html#returning-a-view-versus-a-copy\n",
            "\n",
            "/usr/local/lib/python3.7/dist-packages/ipykernel_launcher.py:13: SettingWithCopyWarning:\n",
            "\n",
            "\n",
            "A value is trying to be set on a copy of a slice from a DataFrame.\n",
            "Try using .loc[row_indexer,col_indexer] = value instead\n",
            "\n",
            "See the caveats in the documentation: https://pandas.pydata.org/pandas-docs/stable/user_guide/indexing.html#returning-a-view-versus-a-copy\n",
            "\n"
          ]
        },
        {
          "output_type": "execute_result",
          "data": {
            "text/plain": [
              "Text(0, 0.5, 'Field Throws Attempted')"
            ]
          },
          "metadata": {},
          "execution_count": 107
        },
        {
          "output_type": "display_data",
          "data": {
            "image/png": "[encoded data removed]",
            "text/plain": [
              "<Figure size 864x576 with 1 Axes>"
            ]
          },
          "metadata": {
            "needs_background": "light"
          }
        }
      ]
    },
    {
      "cell_type": "code",
      "source": [
        "### BUILD A TWO DIMENSIONS CLUSTER AGAIN ###\n",
        "# k means\n",
        "\n",
        "# get centroids\n",
        "centroids = kmeans_FG.cluster_centers_\n",
        "cen_x = [i[0] for i in centroids] \n",
        "cen_y = [i[1] for i in centroids]\n",
        "## add to df\n",
        "game_stats3['cen_x_FG'] = game_stats3['cluster_FG'].map({0:cen_x[0], 1:cen_x[1], 2:cen_x[2]})\n",
        "game_stats3['cen_y_FG'] = game_stats3['cluster_FG'].map({0:cen_y[0], 1:cen_y[1], 2:cen_y[2]})\n",
        "# define and map colors\n",
        "colors = ['Red', 'Blue', 'Green']\n",
        "game_stats3['c'] = game_stats3['cluster_FG'].map({0:colors[0], 1:colors[1], 2:colors[2]})\n",
        "#####PLOT#####\n",
        "from matplotlib.lines import Line2D\n",
        "fig, ax = plt.subplots(1, figsize=(12,8))\n",
        "# plot data\n",
        "plt.scatter(game_stats3['FGM'], game_stats3['FGA'], c=game_stats3['c'], alpha = 0.6, s=12)\n",
        "# create a list of legend elemntes\n",
        "## markers / records\n",
        "legend_elements = [Line2D([0], [0], marker='o', color='w', label='Cluster {}'.format(i+1), \n",
        "               markerfacecolor=mcolor, markersize=5) for i, mcolor in enumerate(colors)]\n",
        "# plot legend\n",
        "plt.legend(handles=legend_elements, loc='upper right')\n",
        "# title and labels\n",
        "plt.title('Field Goals Stats', loc='left', fontsize=22)\n",
        "plt.xlabel('Field Goals Made')\n",
        "plt.ylabel('Field Goals Attempted')"
      ],
      "metadata": {
        "colab": {
          "base_uri": "https://localhost:8080/",
          "height": 953
        },
        "id": "WUx32lZyj-Ds",
        "outputId": "bc46a75b-6d45-4b30-b365-6700baa19e57"
      },
      "execution_count": 108,
      "outputs": [
        {
          "output_type": "stream",
          "name": "stderr",
          "text": [
            "/usr/local/lib/python3.7/dist-packages/ipykernel_launcher.py:9: SettingWithCopyWarning:\n",
            "\n",
            "\n",
            "A value is trying to be set on a copy of a slice from a DataFrame.\n",
            "Try using .loc[row_indexer,col_indexer] = value instead\n",
            "\n",
            "See the caveats in the documentation: https://pandas.pydata.org/pandas-docs/stable/user_guide/indexing.html#returning-a-view-versus-a-copy\n",
            "\n",
            "/usr/local/lib/python3.7/dist-packages/ipykernel_launcher.py:10: SettingWithCopyWarning:\n",
            "\n",
            "\n",
            "A value is trying to be set on a copy of a slice from a DataFrame.\n",
            "Try using .loc[row_indexer,col_indexer] = value instead\n",
            "\n",
            "See the caveats in the documentation: https://pandas.pydata.org/pandas-docs/stable/user_guide/indexing.html#returning-a-view-versus-a-copy\n",
            "\n",
            "/usr/local/lib/python3.7/dist-packages/ipykernel_launcher.py:13: SettingWithCopyWarning:\n",
            "\n",
            "\n",
            "A value is trying to be set on a copy of a slice from a DataFrame.\n",
            "Try using .loc[row_indexer,col_indexer] = value instead\n",
            "\n",
            "See the caveats in the documentation: https://pandas.pydata.org/pandas-docs/stable/user_guide/indexing.html#returning-a-view-versus-a-copy\n",
            "\n"
          ]
        },
        {
          "output_type": "execute_result",
          "data": {
            "text/plain": [
              "Text(0, 0.5, 'Field Goals Attempted')"
            ]
          },
          "metadata": {},
          "execution_count": 108
        },
        {
          "output_type": "display_data",
          "data": {
            "image/png": "[encoded data removed]",
            "text/plain": [
              "<Figure size 864x576 with 1 Axes>"
            ]
          },
          "metadata": {
            "needs_background": "light"
          }
        }
      ]
    },
    {
      "cell_type": "code",
      "source": [
        ""
      ],
      "metadata": {
        "id": "HZw62mv_iscL"
      },
      "execution_count": 108,
      "outputs": []
    },
    {
      "cell_type": "code",
      "source": [
        "### BUILD A TWO DIMENSIONS CLUSTER AGAIN ###\n",
        "# k means\n",
        "\n",
        "# get centroids\n",
        "centroids = kmeans_F3G.cluster_centers_\n",
        "cen_x = [i[0] for i in centroids] \n",
        "cen_y = [i[1] for i in centroids]\n",
        "## add to df\n",
        "game_stats3['cen_x_FG3'] = game_stats3['cluster_FG3'].map({0:cen_x[0], 1:cen_x[1], 2:cen_x[2]})\n",
        "game_stats3['cen_y_FG3'] = game_stats3['cluster_FG3'].map({0:cen_y[0], 1:cen_y[1], 2:cen_y[2]})\n",
        "# define and map colors\n",
        "colors = ['Red', 'Blue', 'Green']\n",
        "game_stats3['c_FG3'] = game_stats3['cluster_FG3'].map({0:colors[0], 1:colors[1], 2:colors[2]})\n",
        "#####PLOT#####\n",
        "from matplotlib.lines import Line2D\n",
        "fig, ax = plt.subplots(1, figsize=(12,8))\n",
        "# plot data\n",
        "plt.scatter(game_stats3['FG3M'], game_stats3['FG3A'], c=game_stats3['c_FG3'], alpha = 0.6, s=12)\n",
        "# create a list of legend elemntes\n",
        "## markers / records\n",
        "legend_elements = [Line2D([0], [0], marker='o', color='w', label='Cluster {}'.format(i+1), \n",
        "               markerfacecolor=mcolor, markersize=5) for i, mcolor in enumerate(colors)]\n",
        "# plot legend\n",
        "plt.legend(handles=legend_elements, loc='upper right')\n",
        "# title and labels\n",
        "plt.title('3 Pointers Stats', loc='left', fontsize=22)\n",
        "plt.xlabel('3 Pointers Made')\n",
        "plt.ylabel('3 Pointers Attempted')"
      ],
      "metadata": {
        "colab": {
          "base_uri": "https://localhost:8080/",
          "height": 953
        },
        "id": "T4VCqCkfp7-M",
        "outputId": "f5f99d07-e04d-4403-ec4e-fc32ca19fcee"
      },
      "execution_count": 109,
      "outputs": [
        {
          "output_type": "stream",
          "name": "stderr",
          "text": [
            "/usr/local/lib/python3.7/dist-packages/ipykernel_launcher.py:9: SettingWithCopyWarning:\n",
            "\n",
            "\n",
            "A value is trying to be set on a copy of a slice from a DataFrame.\n",
            "Try using .loc[row_indexer,col_indexer] = value instead\n",
            "\n",
            "See the caveats in the documentation: https://pandas.pydata.org/pandas-docs/stable/user_guide/indexing.html#returning-a-view-versus-a-copy\n",
            "\n",
            "/usr/local/lib/python3.7/dist-packages/ipykernel_launcher.py:10: SettingWithCopyWarning:\n",
            "\n",
            "\n",
            "A value is trying to be set on a copy of a slice from a DataFrame.\n",
            "Try using .loc[row_indexer,col_indexer] = value instead\n",
            "\n",
            "See the caveats in the documentation: https://pandas.pydata.org/pandas-docs/stable/user_guide/indexing.html#returning-a-view-versus-a-copy\n",
            "\n",
            "/usr/local/lib/python3.7/dist-packages/ipykernel_launcher.py:13: SettingWithCopyWarning:\n",
            "\n",
            "\n",
            "A value is trying to be set on a copy of a slice from a DataFrame.\n",
            "Try using .loc[row_indexer,col_indexer] = value instead\n",
            "\n",
            "See the caveats in the documentation: https://pandas.pydata.org/pandas-docs/stable/user_guide/indexing.html#returning-a-view-versus-a-copy\n",
            "\n"
          ]
        },
        {
          "output_type": "execute_result",
          "data": {
            "text/plain": [
              "Text(0, 0.5, '3 Pointers Attempted')"
            ]
          },
          "metadata": {},
          "execution_count": 109
        },
        {
          "output_type": "display_data",
          "data": {
            "image/png": "[encoded data removed]",
            "text/plain": [
              "<Figure size 864x576 with 1 Axes>"
            ]
          },
          "metadata": {
            "needs_background": "light"
          }
        }
      ]
    },
    {
      "cell_type": "code",
      "source": [
        "## Centroids for each cluster for Filed Goals\n",
        "from matplotlib.lines import Line2D\n",
        "fig, ax = plt.subplots(1, figsize=(12,8))\n",
        "# plot data\n",
        "plt.scatter(game_stats3['FGM'], game_stats3['FGA'], c=game_stats3['c'], alpha = 0.6, s=10)\n",
        "# plot centroids\n",
        "plt.scatter(cen_x, cen_y, marker='^', c=colors, s=70)\n",
        "# plot Attack mean\n",
        "plt.plot([game_stats3['FGM'].mean()]*2, [0,50], color='black', lw=0.5, linestyle='--')\n",
        "plt.xlim(0,50)\n",
        "# plot Defense mean\n",
        "plt.plot([0,50], [game_stats3['FGA'].mean()]*2, color='black', lw=0.5, linestyle='--')\n",
        "plt.ylim(0,50)\n",
        "# create a list of legend elemntes\n",
        "## average line\n",
        "legend_elements = [Line2D([0], [0], color='black', lw=0.5, linestyle='--', label='Average')]\n",
        "## markers / records\n",
        "cluster_leg = [Line2D([0], [0], marker='o', color='w', label='Cluster {}'.format(i+1), \n",
        "               markerfacecolor=mcolor, markersize=5) for i, mcolor in enumerate(colors)]\n",
        "## centroids\n",
        "cent_leg = [Line2D([0], [0], marker='^', color='w', label='Centroid - C{}'.format(i+1), \n",
        "            markerfacecolor=mcolor, markersize=10) for i, mcolor in enumerate(colors)]\n",
        "# add all elements to the same list\n",
        "legend_elements.extend(cluster_leg)\n",
        "legend_elements.extend(cent_leg)\n",
        "# plot legend\n",
        "plt.legend(handles=legend_elements, loc='upper right', ncol=2)\n",
        "# title and labels\n",
        "plt.title('Field Goals Stats', loc='left', fontsize=22)\n",
        "plt.xlabel('Field Goals Made')\n",
        "plt.ylabel('Field Goals Attempted')"
      ],
      "metadata": {
        "colab": {
          "base_uri": "https://localhost:8080/",
          "height": 536
        },
        "id": "ZYCmIyvttivh",
        "outputId": "8e5ebc7c-7bb2-491b-d313-62b614ced215"
      },
      "execution_count": 110,
      "outputs": [
        {
          "output_type": "execute_result",
          "data": {
            "text/plain": [
              "Text(0, 0.5, 'Field Goals Attempted')"
            ]
          },
          "metadata": {},
          "execution_count": 110
        },
        {
          "output_type": "display_data",
          "data": {
            "image/png": "[encoded data removed]",
            "text/plain": [
              "<Figure size 864x576 with 1 Axes>"
            ]
          },
          "metadata": {
            "needs_background": "light"
          }
        }
      ]
    },
    {
      "cell_type": "markdown",
      "source": [
        "**THE END**"
      ],
      "metadata": {
        "id": "z-3d1y_AEXn8"
      }
    },
    {
      "cell_type": "code",
      "source": [
        ""
      ],
      "metadata": {
        "id": "A7QDfKJeGY1z"
      },
      "execution_count": null,
      "outputs": []
    }
  ],
  "metadata": {
    "colab": {
      "collapsed_sections": [],
      "name": "IDMP Project_Data Preprocessing.ipynb",
      "provenance": []
    },
    "kernelspec": {
      "display_name": "Python 3",
      "name": "python3"
    },
    "language_info": {
      "name": "python"
    }
  },
  "nbformat": 4,
  "nbformat_minor": 0
}